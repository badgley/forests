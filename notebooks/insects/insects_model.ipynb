{
 "cells": [
  {
   "cell_type": "markdown",
   "metadata": {},
   "source": [
    "<img width=\"50\" src=\"https://carbonplan-assets.s3.amazonaws.com/monogram/dark-small.png\" style=\"margin-left:0px;margin-top:20px\"/>\n",
    "\n",
    "# FIA Insects Model\n",
    "\n",
    "_by Jeremy Freeman (CarbonPlan), October 26, 2020_\n",
    "\n",
    "This notebook demos insect modelling."
   ]
  },
  {
   "cell_type": "code",
   "execution_count": null,
   "metadata": {},
   "outputs": [],
   "source": [
    "import numpy as np\n",
    "import pandas as pd\n",
    "from sklearn.utils import resample\n",
    "from carbonplan_forests import setup, plot, load, fit, utils"
   ]
  },
  {
   "cell_type": "code",
   "execution_count": null,
   "metadata": {},
   "outputs": [],
   "source": [
    "import matplotlib.pyplot as plt\n",
    "%matplotlib inline"
   ]
  },
  {
   "cell_type": "code",
   "execution_count": null,
   "metadata": {},
   "outputs": [],
   "source": [
    "setup.plotting()"
   ]
  },
  {
   "cell_type": "code",
   "execution_count": null,
   "metadata": {},
   "outputs": [],
   "source": [
    "%load_ext autoreload\n",
    "%autoreload 2"
   ]
  },
  {
   "cell_type": "markdown",
   "metadata": {},
   "source": [
    "Load the raw FIA grouped data"
   ]
  },
  {
   "cell_type": "code",
   "execution_count": null,
   "metadata": {},
   "outputs": [],
   "source": [
    "df = load.fia(store='local', states='conus', group_repeats=True)\n",
    "df = load.terraclim(\n",
    "    store='local', \n",
    "    tlim=(int(df['year_0'].min()), 2020),\n",
    "    data_vars=['ppt','tavg','pdsi','cwd','pet','vpd'], \n",
    "    data_aggs=['sum','mean','mean','sum','mean','mean'], \n",
    "    df=df, \n",
    "    group_repeats=True\n",
    ")"
   ]
  },
  {
   "cell_type": "code",
   "execution_count": null,
   "metadata": {},
   "outputs": [],
   "source": [
    "df = pd.read_csv('/Users/freeman/Dropbox (Personal)/fia_wide_with_terraclim_v4.csv', low_memory=False)"
   ]
  },
  {
   "cell_type": "markdown",
   "metadata": {},
   "source": [
    "Compute derived variables"
   ]
  },
  {
   "cell_type": "code",
   "execution_count": null,
   "metadata": {},
   "outputs": [],
   "source": [
    "df['mort_ratio'] = df['fraction_insect_1']#(df['mort_1'] / df['balive_0']) * df['disturb_insect_1'].astype('int')\n",
    "df['age_squared'] = df['age'] ** 2\n",
    "df['duration'] = (df['year_1'] - df['year_0'])"
   ]
  },
  {
   "cell_type": "markdown",
   "metadata": {},
   "source": [
    "Set thresholds"
   ]
  },
  {
   "cell_type": "code",
   "execution_count": null,
   "metadata": {},
   "outputs": [],
   "source": [
    "inds = (\n",
    "    (df['condprop'] > 0.3) & \n",
    "    (df['disturb_human_1'] != True) & \n",
    "    (df['disturb_fire_1'] != True) & \n",
    "    (df['treatment_cutting_1'] != True)\n",
    ")\n",
    "df = df[inds]"
   ]
  },
  {
   "cell_type": "markdown",
   "metadata": {},
   "source": [
    "Extract variables"
   ]
  },
  {
   "cell_type": "code",
   "execution_count": null,
   "metadata": {},
   "outputs": [],
   "source": [
    "y = df['mort_ratio']\n",
    "x = df[[\n",
    "    'ppt_sum_min_1','tavg_mean_max_1','pdsi_mean_min_1','cwd_sum_max_1',\n",
    "    'pet_mean_max_1', 'vpd_mean_max_1',\n",
    "    'age', 'age_squared', 'duration'\n",
    "]]\n",
    "codes = df['type_code'].unique() \n",
    "type_code = df['type_code']"
   ]
  },
  {
   "cell_type": "code",
   "execution_count": null,
   "metadata": {},
   "outputs": [],
   "source": [
    "inds = (np.isnan(x).sum(axis=1) == 0) & (~np.isnan(y)) & (y < 1)\n",
    "y = y[inds].values\n",
    "x = x[inds].values\n",
    "type_code = type_code[inds]"
   ]
  },
  {
   "cell_type": "code",
   "execution_count": null,
   "metadata": {},
   "outputs": [],
   "source": [
    "x_z, x_mean, x_std = utils.zscore_2d(x)"
   ]
  },
  {
   "cell_type": "markdown",
   "metadata": {},
   "source": [
    "Fit models"
   ]
  },
  {
   "cell_type": "code",
   "execution_count": null,
   "metadata": {},
   "outputs": [],
   "source": [
    "pf = pd.DataFrame()\n",
    "pf['type_code'] = type_code\n",
    "pf['observed'] = y\n",
    "pf['predicted'] = np.NaN\n",
    "pf['expected_value'] = np.NaN\n",
    "\n",
    "codes = df['type_code'].unique() \n",
    "models = {}\n",
    "for code in codes:\n",
    "    fit_inds = type_code==code\n",
    "    if (sum(y[fit_inds] > 0) > 10) & (sum(y[fit_inds] == 0) > 10):\n",
    "        model = fit.hurdle(x=x_z[fit_inds], y=y[fit_inds])\n",
    "        models[code] = model\n",
    "        pf.loc[fit_inds, 'predicted'] = model.predict(x=x_z[fit_inds])\n",
    "        pf.loc[fit_inds, 'expected_value'] = model.predict_expected_value(x=x_z[fit_inds])\n",
    "        \n",
    "pf = pf[pf['expected_value'] < 1]"
   ]
  },
  {
   "cell_type": "code",
   "execution_count": null,
   "metadata": {},
   "outputs": [],
   "source": [
    "plt.plot(pf['observed'], pf['expected_value'],'.')"
   ]
  },
  {
   "cell_type": "code",
   "execution_count": null,
   "metadata": {},
   "outputs": [],
   "source": [
    "pf[['observed', 'expected_value']].corr().iloc[0,1] ** 2"
   ]
  },
  {
   "cell_type": "code",
   "execution_count": null,
   "metadata": {},
   "outputs": [],
   "source": [
    "plot.xy(\n",
    "    x=pf['observed'], \n",
    "    y=pf['expected_value'], \n",
    "    xlim=(0,1), \n",
    "    ylim=(0,1), \n",
    "    xlabel='measured insect ratio', \n",
    "    ylabel='predicted insect ratio',\n",
    "    width=300,\n",
    "    height=300,\n",
    "    opacity=0.1\n",
    ")"
   ]
  },
  {
   "cell_type": "markdown",
   "metadata": {},
   "source": [
    "Make a map of mortality ratios"
   ]
  },
  {
   "cell_type": "code",
   "execution_count": null,
   "metadata": {},
   "outputs": [],
   "source": [
    "plot.carto(\n",
    "    lat=df['lat'], \n",
    "    lon=df['lon'], \n",
    "    color=df['mort_ratio'],\n",
    "    cmap='reds',\n",
    "    clim=(0,0.3),\n",
    "    size=10,\n",
    "    opacity=0.5,\n",
    ")"
   ]
  },
  {
   "cell_type": "code",
   "execution_count": null,
   "metadata": {},
   "outputs": [],
   "source": [
    "plot.carto(\n",
    "    lat=df['lat'], \n",
    "    lon=df['lon'], \n",
    "    color=pf['expected_value'],\n",
    "    cmap='reds',\n",
    "    clim=(0,0.05),\n",
    "    size=5,\n",
    "    opacity=0.75\n",
    ")"
   ]
  },
  {
   "cell_type": "markdown",
   "metadata": {},
   "source": [
    "Predict in the future"
   ]
  },
  {
   "cell_type": "code",
   "execution_count": null,
   "metadata": {},
   "outputs": [],
   "source": [
    "df = load.fia(store='local', states='conus')\n",
    "df = load.terraclim(\n",
    "    store='local', \n",
    "    tlim=(2000,2010),\n",
    "    data_vars=['ppt','tavg','pdsi','cwd','pet','vpd'], \n",
    "    data_aggs=['sum','mean','mean','sum','mean','mean'], \n",
    "    df=df, \n",
    ")"
   ]
  },
  {
   "cell_type": "code",
   "execution_count": null,
   "metadata": {},
   "outputs": [],
   "source": [
    "df['age_squared'] = df['age'] ** 2\n",
    "x = df[[\n",
    "    'ppt_sum_min','tavg_mean_max','pdsi_mean_min','cwd_sum_max',\n",
    "    'age', 'age_squared',\n",
    "]]"
   ]
  },
  {
   "cell_type": "code",
   "execution_count": null,
   "metadata": {},
   "outputs": [],
   "source": [
    "pf = pd.DataFrame()\n",
    "pf['type_code'] = df['type_code']\n",
    "pf['expected_value'] = np.NaN\n",
    "\n",
    "codes = df['type_code'].unique() \n",
    "for code in codes:\n",
    "    predict_inds = df['type_code']==code\n",
    "    if (code in models.keys()):\n",
    "        pf.loc[predict_inds, 'predicted'] = models[code].predict(x=x[predict_inds])\n",
    "        pf.loc[predict_inds, 'expected_value'] = models[code].predict_expected_value(x=x[predict_inds])"
   ]
  },
  {
   "cell_type": "code",
   "execution_count": null,
   "metadata": {},
   "outputs": [],
   "source": [
    "plot.carto(\n",
    "    lat=df['lat'], \n",
    "    lon=df['lon'], \n",
    "    color=pf['expected_value'],\n",
    "    cmap='reds',\n",
    "    clim=(0,0.2),\n",
    "    size=2,\n",
    ")"
   ]
  },
  {
   "cell_type": "code",
   "execution_count": null,
   "metadata": {},
   "outputs": [],
   "source": [
    "plot.carto(\n",
    "    lat=df['lat'], \n",
    "    lon=df['lon'], \n",
    "    color=pf['expected_value'],\n",
    "    cmap='reds',\n",
    "    clim=(0,0.2),\n",
    "    size=2,\n",
    ")"
   ]
  }
 ],
 "metadata": {
  "kernelspec": {
   "display_name": "Python 3",
   "language": "python",
   "name": "python3"
  },
  "language_info": {
   "codemirror_mode": {
    "name": "ipython",
    "version": 3
   },
   "file_extension": ".py",
   "mimetype": "text/x-python",
   "name": "python",
   "nbconvert_exporter": "python",
   "pygments_lexer": "ipython3",
   "version": "3.8.5"
  }
 },
 "nbformat": 4,
 "nbformat_minor": 4
}
