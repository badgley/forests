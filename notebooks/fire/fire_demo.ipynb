{
 "cells": [
  {
   "cell_type": "markdown",
   "metadata": {},
   "source": [
    "<img width=\"50\" src=\"https://carbonplan-assets.s3.amazonaws.com/monogram/dark-small.png\" style=\"margin-left:0px;margin-top:20px\"/>\n",
    "\n",
    "# CONUS Fire Data Demo\n",
    "\n",
    "_by Joe Hamman (CarbonPlan), August 6, 2020_\n",
    "\n",
    "This notebook demos the access and use of a few important datasets for forest\n",
    "fire risk modeling\n"
   ]
  },
  {
   "cell_type": "code",
   "execution_count": null,
   "metadata": {},
   "outputs": [],
   "source": [
    "import fsspec\n",
    "import intake\n",
    "import xarray as xr\n",
    "\n",
    "cat = intake.open_catalog(\"./catalogs/master.yaml\")"
   ]
  },
  {
   "cell_type": "code",
   "execution_count": null,
   "metadata": {},
   "outputs": [],
   "source": [
    "mapper = fsspec.get_mapper(\n",
    "    \"gs://carbonplan-data/processed/mtbs/conus/4000/raster.zarr\"\n",
    ")\n",
    "mtbs = xr.open_zarr(mapper)\n",
    "mtbs"
   ]
  },
  {
   "cell_type": "code",
   "execution_count": null,
   "metadata": {},
   "outputs": [],
   "source": [
    "da = mtbs.sel(time=2017)[\"burned_area\"]\n",
    "da = mtbs.sum(\"time\")[\"burned_area\"]\n",
    "(da).where(da).plot(vmin=0, vmax=0.15, cmap=\"Reds\")"
   ]
  },
  {
   "cell_type": "code",
   "execution_count": null,
   "metadata": {},
   "outputs": [],
   "source": [
    "climate = cat.climate.gridmet_opendap(variable=\"tmmn\", year=2017).to_dask()\n",
    "climate"
   ]
  },
  {
   "cell_type": "code",
   "execution_count": null,
   "metadata": {},
   "outputs": [],
   "source": [
    "da_temp = climate.air_temperature.mean(dim=\"day\")\n",
    "da_temp.plot()"
   ]
  }
 ],
 "metadata": {
  "kernelspec": {
   "display_name": "Python 3.8.2 64-bit ('carbonplan38': conda)",
   "language": "python",
   "name": "python_defaultSpec_1596834210483"
  },
  "language_info": {
   "codemirror_mode": {
    "name": "ipython",
    "version": 3
   },
   "file_extension": ".py",
   "mimetype": "text/x-python",
   "name": "python",
   "nbconvert_exporter": "python",
   "pygments_lexer": "ipython3",
   "version": "3.8.2-final"
  }
 },
 "nbformat": 4,
 "nbformat_minor": 4
}
