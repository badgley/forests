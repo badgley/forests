{
 "cells": [
  {
   "cell_type": "markdown",
   "metadata": {},
   "source": [
    "<img width=\"50\" src=\"https://carbonplan-assets.s3.amazonaws.com/monogram/dark-small.png\" style=\"margin-left:0px;margin-top:20px\"/>\n",
    "\n",
    "# MTBS Fire Model\n",
    "\n",
    "_by Jeremy Freeman (CarbonPlan), September 19, 2020_\n",
    "\n",
    "This notebook loads downsampled MTBS fire data and TerraClimate climate data and fits a logistical regression model."
   ]
  },
  {
   "cell_type": "code",
   "execution_count": 1,
   "metadata": {},
   "outputs": [],
   "source": [
    "import numpy as np\n",
    "import pandas as pd\n",
    "import scipy as sp\n",
    "from carbonplan_forests import load, setup, plot, fit"
   ]
  },
  {
   "cell_type": "code",
   "execution_count": 2,
   "metadata": {},
   "outputs": [],
   "source": [
    "setup.plotting()"
   ]
  },
  {
   "cell_type": "markdown",
   "metadata": {},
   "source": [
    "First we set some top-level parameters: the level of spatial coarsening (which can speed up fitting substantially, especially useful when testing), the time range (MTBS spans 1984 to 2018), and the climatic variables we'll use in the model."
   ]
  },
  {
   "cell_type": "code",
   "execution_count": 3,
   "metadata": {},
   "outputs": [],
   "source": [
    "coarsen = 16\n",
    "tlim = (1984, 2018)\n",
    "data_vars = ['ppt', 'tavg']"
   ]
  },
  {
   "cell_type": "markdown",
   "metadata": {},
   "source": [
    "First we load data from `nlcd` which we will use to mask out non-land areas and data from `nftd` to use a regressors for forest type groups."
   ]
  },
  {
   "cell_type": "code",
   "execution_count": 22,
   "metadata": {},
   "outputs": [],
   "source": [
    "mask = load.nlcd(store='local', classes='all', year=2001)\n",
    "groups = load.nftd(store='local', groups='all', coarsen=coarsen, mask=mask, area_threshold=1500)"
   ]
  },
  {
   "cell_type": "markdown",
   "metadata": {},
   "source": [
    "Now we load the `terraclim` data from the same time range."
   ]
  },
  {
   "cell_type": "code",
   "execution_count": 5,
   "metadata": {
    "scrolled": true
   },
   "outputs": [],
   "source": [
    "climate = load.terraclim(store='local', tlim=tlim, coarsen=coarsen, data_vars=data_vars, mask=mask)"
   ]
  },
  {
   "cell_type": "markdown",
   "metadata": {},
   "source": [
    "And finally load the `mtbs` data, setting all non-zero values to 1 as setup for our logistic model."
   ]
  },
  {
   "cell_type": "code",
   "execution_count": 6,
   "metadata": {},
   "outputs": [],
   "source": [
    "mtbs = load.mtbs(store='local', coarsen=coarsen, tlim=tlim)\n",
    "mtbs['vlf'] = mtbs['vlf'] > 0"
   ]
  },
  {
   "cell_type": "markdown",
   "metadata": {},
   "source": [
    "### Inspecting the data"
   ]
  },
  {
   "cell_type": "markdown",
   "metadata": {},
   "source": [
    "We can plot the `mtbs` data for a specific year to get a sense of the raw data."
   ]
  },
  {
   "cell_type": "code",
   "execution_count": 42,
   "metadata": {},
   "outputs": [
    {
     "data": {
      "text/html": [
       "\n",
       "<div id=\"altair-viz-7ac4c706646240b5abd542093b45135b\"></div>\n",
       "<script type=\"text/javascript\">\n",
       "  (function(spec, embedOpt){\n",
       "    let outputDiv = document.currentScript.previousElementSibling;\n",
       "    if (outputDiv.id !== \"altair-viz-7ac4c706646240b5abd542093b45135b\") {\n",
       "      outputDiv = document.getElementById(\"altair-viz-7ac4c706646240b5abd542093b45135b\");\n",
       "    }\n",
       "    const paths = {\n",
       "      \"vega\": \"https://cdn.jsdelivr.net/npm//vega@5?noext\",\n",
       "      \"vega-lib\": \"https://cdn.jsdelivr.net/npm//vega-lib?noext\",\n",
       "      \"vega-lite\": \"https://cdn.jsdelivr.net/npm//vega-lite@4.8.1?noext\",\n",
       "      \"vega-embed\": \"https://cdn.jsdelivr.net/npm//vega-embed@6?noext\",\n",
       "    };\n",
       "\n",
       "    function loadScript(lib) {\n",
       "      return new Promise(function(resolve, reject) {\n",
       "        var s = document.createElement('script');\n",
       "        s.src = paths[lib];\n",
       "        s.async = true;\n",
       "        s.onload = () => resolve(paths[lib]);\n",
       "        s.onerror = () => reject(`Error loading script: ${paths[lib]}`);\n",
       "        document.getElementsByTagName(\"head\")[0].appendChild(s);\n",
       "      });\n",
       "    }\n",
       "\n",
       "    function showError(err) {\n",
       "      outputDiv.innerHTML = `<div class=\"error\" style=\"color:red;\">${err}</div>`;\n",
       "      throw err;\n",
       "    }\n",
       "\n",
       "    function displayChart(vegaEmbed) {\n",
       "      vegaEmbed(outputDiv, spec, embedOpt)\n",
       "        .catch(err => showError(`Javascript Error: ${err.message}<br>This usually means there's a typo in your chart specification. See the javascript console for the full traceback.`));\n",
       "    }\n",
       "\n",
       "    if(typeof define === \"function\" && define.amd) {\n",
       "      requirejs.config({paths});\n",
       "      require([\"vega-embed\"], displayChart, err => showError(`Error loading script: ${err.message}`));\n",
       "    } else if (typeof vegaEmbed === \"function\") {\n",
       "      displayChart(vegaEmbed);\n",
       "    } else {\n",
       "      loadScript(\"vega\")\n",
       "        .then(() => loadScript(\"vega-lite\"))\n",
       "        .then(() => loadScript(\"vega-embed\"))\n",
       "        .catch(showError)\n",
       "        .then(() => displayChart(vegaEmbed));\n",
       "    }\n",
       "  })({\"config\": {\"view\": {\"continuousWidth\": 400, \"continuousHeight\": 300, \"strokeOpacity\": 0}}, \"vconcat\": [{\"hconcat\": [{\"layer\": [{\"data\": {\"url\": \"https://vega.github.io/vega-datasets/data/us-10m.json\", \"format\": {\"feature\": \"states\", \"type\": \"topojson\"}}, \"mark\": {\"type\": \"geoshape\", \"fill\": \"white\", \"stroke\": \"black\", \"strokeWidth\": 0.3}, \"height\": 170, \"projection\": {\"type\": \"albersUsa\"}, \"title\": \"mar\", \"width\": 270}, {\"data\": {\"url\": \"http://localhost:16820/7ee087991b4e07898e38163668e59b94.json\"}, \"mark\": {\"type\": \"square\", \"opacity\": 0.8, \"size\": 11.475}, \"encoding\": {\"color\": {\"type\": \"quantitative\", \"field\": \"color\", \"legend\": {\"title\": \"vlf\"}, \"scale\": {\"clamp\": true, \"domain\": [0, 1], \"scheme\": \"reds\"}}, \"latitude\": {\"field\": \"lat\", \"type\": \"quantitative\"}, \"longitude\": {\"field\": \"lon\", \"type\": \"quantitative\"}}, \"height\": 170, \"projection\": {\"type\": \"albersUsa\"}, \"width\": 270}]}, {\"layer\": [{\"data\": {\"url\": \"https://vega.github.io/vega-datasets/data/us-10m.json\", \"format\": {\"feature\": \"states\", \"type\": \"topojson\"}}, \"mark\": {\"type\": \"geoshape\", \"fill\": \"white\", \"stroke\": \"black\", \"strokeWidth\": 0.3}, \"height\": 170, \"projection\": {\"type\": \"albersUsa\"}, \"title\": \"apr\", \"width\": 270}, {\"data\": {\"url\": \"http://localhost:16820/06dd0ae6c9a684d19a4c48a3c80c34dd.json\"}, \"mark\": {\"type\": \"square\", \"opacity\": 0.8, \"size\": 11.475}, \"encoding\": {\"color\": {\"type\": \"quantitative\", \"field\": \"color\", \"legend\": {\"title\": \"vlf\"}, \"scale\": {\"clamp\": true, \"domain\": [0, 1], \"scheme\": \"reds\"}}, \"latitude\": {\"field\": \"lat\", \"type\": \"quantitative\"}, \"longitude\": {\"field\": \"lon\", \"type\": \"quantitative\"}}, \"height\": 170, \"projection\": {\"type\": \"albersUsa\"}, \"width\": 270}]}, {\"layer\": [{\"data\": {\"url\": \"https://vega.github.io/vega-datasets/data/us-10m.json\", \"format\": {\"feature\": \"states\", \"type\": \"topojson\"}}, \"mark\": {\"type\": \"geoshape\", \"fill\": \"white\", \"stroke\": \"black\", \"strokeWidth\": 0.3}, \"height\": 170, \"projection\": {\"type\": \"albersUsa\"}, \"title\": \"may\", \"width\": 270}, {\"data\": {\"url\": \"http://localhost:16820/3ddf02b1bd017f234acfcfdb17a9ceba.json\"}, \"mark\": {\"type\": \"square\", \"opacity\": 0.8, \"size\": 11.475}, \"encoding\": {\"color\": {\"type\": \"quantitative\", \"field\": \"color\", \"legend\": {\"title\": \"vlf\"}, \"scale\": {\"clamp\": true, \"domain\": [0, 1], \"scheme\": \"reds\"}}, \"latitude\": {\"field\": \"lat\", \"type\": \"quantitative\"}, \"longitude\": {\"field\": \"lon\", \"type\": \"quantitative\"}}, \"height\": 170, \"projection\": {\"type\": \"albersUsa\"}, \"width\": 270}]}]}, {\"hconcat\": [{\"layer\": [{\"data\": {\"url\": \"https://vega.github.io/vega-datasets/data/us-10m.json\", \"format\": {\"feature\": \"states\", \"type\": \"topojson\"}}, \"mark\": {\"type\": \"geoshape\", \"fill\": \"white\", \"stroke\": \"black\", \"strokeWidth\": 0.3}, \"height\": 170, \"projection\": {\"type\": \"albersUsa\"}, \"title\": \"jun\", \"width\": 270}, {\"data\": {\"url\": \"http://localhost:16820/08369de8b540207d311c3c09049f12e9.json\"}, \"mark\": {\"type\": \"square\", \"opacity\": 0.8, \"size\": 11.475}, \"encoding\": {\"color\": {\"type\": \"quantitative\", \"field\": \"color\", \"legend\": {\"title\": \"vlf\"}, \"scale\": {\"clamp\": true, \"domain\": [0, 1], \"scheme\": \"reds\"}}, \"latitude\": {\"field\": \"lat\", \"type\": \"quantitative\"}, \"longitude\": {\"field\": \"lon\", \"type\": \"quantitative\"}}, \"height\": 170, \"projection\": {\"type\": \"albersUsa\"}, \"width\": 270}]}, {\"layer\": [{\"data\": {\"url\": \"https://vega.github.io/vega-datasets/data/us-10m.json\", \"format\": {\"feature\": \"states\", \"type\": \"topojson\"}}, \"mark\": {\"type\": \"geoshape\", \"fill\": \"white\", \"stroke\": \"black\", \"strokeWidth\": 0.3}, \"height\": 170, \"projection\": {\"type\": \"albersUsa\"}, \"title\": \"jul\", \"width\": 270}, {\"data\": {\"url\": \"http://localhost:16820/83fb1854f05fb3df7b3acea5d54fea59.json\"}, \"mark\": {\"type\": \"square\", \"opacity\": 0.8, \"size\": 11.475}, \"encoding\": {\"color\": {\"type\": \"quantitative\", \"field\": \"color\", \"legend\": {\"title\": \"vlf\"}, \"scale\": {\"clamp\": true, \"domain\": [0, 1], \"scheme\": \"reds\"}}, \"latitude\": {\"field\": \"lat\", \"type\": \"quantitative\"}, \"longitude\": {\"field\": \"lon\", \"type\": \"quantitative\"}}, \"height\": 170, \"projection\": {\"type\": \"albersUsa\"}, \"width\": 270}]}, {\"layer\": [{\"data\": {\"url\": \"https://vega.github.io/vega-datasets/data/us-10m.json\", \"format\": {\"feature\": \"states\", \"type\": \"topojson\"}}, \"mark\": {\"type\": \"geoshape\", \"fill\": \"white\", \"stroke\": \"black\", \"strokeWidth\": 0.3}, \"height\": 170, \"projection\": {\"type\": \"albersUsa\"}, \"title\": \"aug\", \"width\": 270}, {\"data\": {\"url\": \"http://localhost:16820/f53b1444310ac2693d9028d9d00fe8cf.json\"}, \"mark\": {\"type\": \"square\", \"opacity\": 0.8, \"size\": 11.475}, \"encoding\": {\"color\": {\"type\": \"quantitative\", \"field\": \"color\", \"legend\": {\"title\": \"vlf\"}, \"scale\": {\"clamp\": true, \"domain\": [0, 1], \"scheme\": \"reds\"}}, \"latitude\": {\"field\": \"lat\", \"type\": \"quantitative\"}, \"longitude\": {\"field\": \"lon\", \"type\": \"quantitative\"}}, \"height\": 170, \"projection\": {\"type\": \"albersUsa\"}, \"width\": 270}]}]}, {\"hconcat\": [{\"layer\": [{\"data\": {\"url\": \"https://vega.github.io/vega-datasets/data/us-10m.json\", \"format\": {\"feature\": \"states\", \"type\": \"topojson\"}}, \"mark\": {\"type\": \"geoshape\", \"fill\": \"white\", \"stroke\": \"black\", \"strokeWidth\": 0.3}, \"height\": 170, \"projection\": {\"type\": \"albersUsa\"}, \"title\": \"sep\", \"width\": 270}, {\"data\": {\"url\": \"http://localhost:16820/0b7391ce58ec942a68d53fb433467019.json\"}, \"mark\": {\"type\": \"square\", \"opacity\": 0.8, \"size\": 11.475}, \"encoding\": {\"color\": {\"type\": \"quantitative\", \"field\": \"color\", \"legend\": {\"title\": \"vlf\"}, \"scale\": {\"clamp\": true, \"domain\": [0, 1], \"scheme\": \"reds\"}}, \"latitude\": {\"field\": \"lat\", \"type\": \"quantitative\"}, \"longitude\": {\"field\": \"lon\", \"type\": \"quantitative\"}}, \"height\": 170, \"projection\": {\"type\": \"albersUsa\"}, \"width\": 270}]}, {\"layer\": [{\"data\": {\"url\": \"https://vega.github.io/vega-datasets/data/us-10m.json\", \"format\": {\"feature\": \"states\", \"type\": \"topojson\"}}, \"mark\": {\"type\": \"geoshape\", \"fill\": \"white\", \"stroke\": \"black\", \"strokeWidth\": 0.3}, \"height\": 170, \"projection\": {\"type\": \"albersUsa\"}, \"title\": \"oct\", \"width\": 270}, {\"data\": {\"url\": \"http://localhost:16820/1f9516a694b483d1c4dcf35b1a23d517.json\"}, \"mark\": {\"type\": \"square\", \"opacity\": 0.8, \"size\": 11.475}, \"encoding\": {\"color\": {\"type\": \"quantitative\", \"field\": \"color\", \"legend\": {\"title\": \"vlf\"}, \"scale\": {\"clamp\": true, \"domain\": [0, 1], \"scheme\": \"reds\"}}, \"latitude\": {\"field\": \"lat\", \"type\": \"quantitative\"}, \"longitude\": {\"field\": \"lon\", \"type\": \"quantitative\"}}, \"height\": 170, \"projection\": {\"type\": \"albersUsa\"}, \"width\": 270}]}, {\"layer\": [{\"data\": {\"url\": \"https://vega.github.io/vega-datasets/data/us-10m.json\", \"format\": {\"feature\": \"states\", \"type\": \"topojson\"}}, \"mark\": {\"type\": \"geoshape\", \"fill\": \"white\", \"stroke\": \"black\", \"strokeWidth\": 0.3}, \"height\": 170, \"projection\": {\"type\": \"albersUsa\"}, \"title\": \"nov\", \"width\": 270}, {\"data\": {\"url\": \"http://localhost:16820/739450dbf19640c1b9cdd6899f642b78.json\"}, \"mark\": {\"type\": \"square\", \"opacity\": 0.8, \"size\": 11.475}, \"encoding\": {\"color\": {\"type\": \"quantitative\", \"field\": \"color\", \"legend\": {\"title\": \"vlf\"}, \"scale\": {\"clamp\": true, \"domain\": [0, 1], \"scheme\": \"reds\"}}, \"latitude\": {\"field\": \"lat\", \"type\": \"quantitative\"}, \"longitude\": {\"field\": \"lon\", \"type\": \"quantitative\"}}, \"height\": 170, \"projection\": {\"type\": \"albersUsa\"}, \"width\": 270}]}]}], \"$schema\": \"https://vega.github.io/schema/vega-lite/v4.8.1.json\"}, {\"actions\": false, \"mode\": \"vega-lite\"});\n",
       "</script>"
      ],
      "text/plain": [
       "alt.VConcatChart(...)"
      ]
     },
     "execution_count": 42,
     "metadata": {},
     "output_type": "execute_result"
    }
   ],
   "source": [
    "plot.fire.monthly(mtbs.sel(time='2016'), 'vlf', clim=(0, 1))"
   ]
  },
  {
   "cell_type": "markdown",
   "metadata": {},
   "source": [
    "Here is the same thing but averaged over all years"
   ]
  },
  {
   "cell_type": "code",
   "execution_count": 8,
   "metadata": {},
   "outputs": [
    {
     "data": {
      "text/html": [
       "\n",
       "<div id=\"altair-viz-ac11a7c38cb946e38d671ac91b4c3e2b\"></div>\n",
       "<script type=\"text/javascript\">\n",
       "  (function(spec, embedOpt){\n",
       "    let outputDiv = document.currentScript.previousElementSibling;\n",
       "    if (outputDiv.id !== \"altair-viz-ac11a7c38cb946e38d671ac91b4c3e2b\") {\n",
       "      outputDiv = document.getElementById(\"altair-viz-ac11a7c38cb946e38d671ac91b4c3e2b\");\n",
       "    }\n",
       "    const paths = {\n",
       "      \"vega\": \"https://cdn.jsdelivr.net/npm//vega@5?noext\",\n",
       "      \"vega-lib\": \"https://cdn.jsdelivr.net/npm//vega-lib?noext\",\n",
       "      \"vega-lite\": \"https://cdn.jsdelivr.net/npm//vega-lite@4.8.1?noext\",\n",
       "      \"vega-embed\": \"https://cdn.jsdelivr.net/npm//vega-embed@6?noext\",\n",
       "    };\n",
       "\n",
       "    function loadScript(lib) {\n",
       "      return new Promise(function(resolve, reject) {\n",
       "        var s = document.createElement('script');\n",
       "        s.src = paths[lib];\n",
       "        s.async = true;\n",
       "        s.onload = () => resolve(paths[lib]);\n",
       "        s.onerror = () => reject(`Error loading script: ${paths[lib]}`);\n",
       "        document.getElementsByTagName(\"head\")[0].appendChild(s);\n",
       "      });\n",
       "    }\n",
       "\n",
       "    function showError(err) {\n",
       "      outputDiv.innerHTML = `<div class=\"error\" style=\"color:red;\">${err}</div>`;\n",
       "      throw err;\n",
       "    }\n",
       "\n",
       "    function displayChart(vegaEmbed) {\n",
       "      vegaEmbed(outputDiv, spec, embedOpt)\n",
       "        .catch(err => showError(`Javascript Error: ${err.message}<br>This usually means there's a typo in your chart specification. See the javascript console for the full traceback.`));\n",
       "    }\n",
       "\n",
       "    if(typeof define === \"function\" && define.amd) {\n",
       "      requirejs.config({paths});\n",
       "      require([\"vega-embed\"], displayChart, err => showError(`Error loading script: ${err.message}`));\n",
       "    } else if (typeof vegaEmbed === \"function\") {\n",
       "      displayChart(vegaEmbed);\n",
       "    } else {\n",
       "      loadScript(\"vega\")\n",
       "        .then(() => loadScript(\"vega-lite\"))\n",
       "        .then(() => loadScript(\"vega-embed\"))\n",
       "        .catch(showError)\n",
       "        .then(() => displayChart(vegaEmbed));\n",
       "    }\n",
       "  })({\"config\": {\"view\": {\"continuousWidth\": 400, \"continuousHeight\": 300, \"strokeOpacity\": 0}}, \"vconcat\": [{\"hconcat\": [{\"layer\": [{\"data\": {\"url\": \"https://vega.github.io/vega-datasets/data/us-10m.json\", \"format\": {\"feature\": \"states\", \"type\": \"topojson\"}}, \"mark\": {\"type\": \"geoshape\", \"fill\": \"white\", \"stroke\": \"black\", \"strokeWidth\": 0.3}, \"height\": 170, \"projection\": {\"type\": \"albersUsa\"}, \"title\": \"mar\", \"width\": 270}, {\"data\": {\"url\": \"http://localhost:16820/bb61bbd497a073496152713d2a1b77ee.json\"}, \"mark\": {\"type\": \"square\", \"opacity\": 0.8, \"size\": 11.475}, \"encoding\": {\"color\": {\"type\": \"quantitative\", \"field\": \"color\", \"legend\": {\"title\": \"vlf\"}, \"scale\": {\"clamp\": true, \"domain\": [0, 0.1], \"scheme\": \"reds\"}}, \"latitude\": {\"field\": \"lat\", \"type\": \"quantitative\"}, \"longitude\": {\"field\": \"lon\", \"type\": \"quantitative\"}}, \"height\": 170, \"projection\": {\"type\": \"albersUsa\"}, \"width\": 270}]}, {\"layer\": [{\"data\": {\"url\": \"https://vega.github.io/vega-datasets/data/us-10m.json\", \"format\": {\"feature\": \"states\", \"type\": \"topojson\"}}, \"mark\": {\"type\": \"geoshape\", \"fill\": \"white\", \"stroke\": \"black\", \"strokeWidth\": 0.3}, \"height\": 170, \"projection\": {\"type\": \"albersUsa\"}, \"title\": \"apr\", \"width\": 270}, {\"data\": {\"url\": \"http://localhost:16820/b897905ec205caf3686efd6a372f4571.json\"}, \"mark\": {\"type\": \"square\", \"opacity\": 0.8, \"size\": 11.475}, \"encoding\": {\"color\": {\"type\": \"quantitative\", \"field\": \"color\", \"legend\": {\"title\": \"vlf\"}, \"scale\": {\"clamp\": true, \"domain\": [0, 0.1], \"scheme\": \"reds\"}}, \"latitude\": {\"field\": \"lat\", \"type\": \"quantitative\"}, \"longitude\": {\"field\": \"lon\", \"type\": \"quantitative\"}}, \"height\": 170, \"projection\": {\"type\": \"albersUsa\"}, \"width\": 270}]}, {\"layer\": [{\"data\": {\"url\": \"https://vega.github.io/vega-datasets/data/us-10m.json\", \"format\": {\"feature\": \"states\", \"type\": \"topojson\"}}, \"mark\": {\"type\": \"geoshape\", \"fill\": \"white\", \"stroke\": \"black\", \"strokeWidth\": 0.3}, \"height\": 170, \"projection\": {\"type\": \"albersUsa\"}, \"title\": \"may\", \"width\": 270}, {\"data\": {\"url\": \"http://localhost:16820/7b25e3483de13cceee6368add338d789.json\"}, \"mark\": {\"type\": \"square\", \"opacity\": 0.8, \"size\": 11.475}, \"encoding\": {\"color\": {\"type\": \"quantitative\", \"field\": \"color\", \"legend\": {\"title\": \"vlf\"}, \"scale\": {\"clamp\": true, \"domain\": [0, 0.1], \"scheme\": \"reds\"}}, \"latitude\": {\"field\": \"lat\", \"type\": \"quantitative\"}, \"longitude\": {\"field\": \"lon\", \"type\": \"quantitative\"}}, \"height\": 170, \"projection\": {\"type\": \"albersUsa\"}, \"width\": 270}]}]}, {\"hconcat\": [{\"layer\": [{\"data\": {\"url\": \"https://vega.github.io/vega-datasets/data/us-10m.json\", \"format\": {\"feature\": \"states\", \"type\": \"topojson\"}}, \"mark\": {\"type\": \"geoshape\", \"fill\": \"white\", \"stroke\": \"black\", \"strokeWidth\": 0.3}, \"height\": 170, \"projection\": {\"type\": \"albersUsa\"}, \"title\": \"jun\", \"width\": 270}, {\"data\": {\"url\": \"http://localhost:16820/e7079c0b91a38214747ca0f235d7c123.json\"}, \"mark\": {\"type\": \"square\", \"opacity\": 0.8, \"size\": 11.475}, \"encoding\": {\"color\": {\"type\": \"quantitative\", \"field\": \"color\", \"legend\": {\"title\": \"vlf\"}, \"scale\": {\"clamp\": true, \"domain\": [0, 0.1], \"scheme\": \"reds\"}}, \"latitude\": {\"field\": \"lat\", \"type\": \"quantitative\"}, \"longitude\": {\"field\": \"lon\", \"type\": \"quantitative\"}}, \"height\": 170, \"projection\": {\"type\": \"albersUsa\"}, \"width\": 270}]}, {\"layer\": [{\"data\": {\"url\": \"https://vega.github.io/vega-datasets/data/us-10m.json\", \"format\": {\"feature\": \"states\", \"type\": \"topojson\"}}, \"mark\": {\"type\": \"geoshape\", \"fill\": \"white\", \"stroke\": \"black\", \"strokeWidth\": 0.3}, \"height\": 170, \"projection\": {\"type\": \"albersUsa\"}, \"title\": \"jul\", \"width\": 270}, {\"data\": {\"url\": \"http://localhost:16820/ddb3f28e713b14ead5f571cc4081ad0c.json\"}, \"mark\": {\"type\": \"square\", \"opacity\": 0.8, \"size\": 11.475}, \"encoding\": {\"color\": {\"type\": \"quantitative\", \"field\": \"color\", \"legend\": {\"title\": \"vlf\"}, \"scale\": {\"clamp\": true, \"domain\": [0, 0.1], \"scheme\": \"reds\"}}, \"latitude\": {\"field\": \"lat\", \"type\": \"quantitative\"}, \"longitude\": {\"field\": \"lon\", \"type\": \"quantitative\"}}, \"height\": 170, \"projection\": {\"type\": \"albersUsa\"}, \"width\": 270}]}, {\"layer\": [{\"data\": {\"url\": \"https://vega.github.io/vega-datasets/data/us-10m.json\", \"format\": {\"feature\": \"states\", \"type\": \"topojson\"}}, \"mark\": {\"type\": \"geoshape\", \"fill\": \"white\", \"stroke\": \"black\", \"strokeWidth\": 0.3}, \"height\": 170, \"projection\": {\"type\": \"albersUsa\"}, \"title\": \"aug\", \"width\": 270}, {\"data\": {\"url\": \"http://localhost:16820/1d1f9bc35aee9948eafafa0da389339c.json\"}, \"mark\": {\"type\": \"square\", \"opacity\": 0.8, \"size\": 11.475}, \"encoding\": {\"color\": {\"type\": \"quantitative\", \"field\": \"color\", \"legend\": {\"title\": \"vlf\"}, \"scale\": {\"clamp\": true, \"domain\": [0, 0.1], \"scheme\": \"reds\"}}, \"latitude\": {\"field\": \"lat\", \"type\": \"quantitative\"}, \"longitude\": {\"field\": \"lon\", \"type\": \"quantitative\"}}, \"height\": 170, \"projection\": {\"type\": \"albersUsa\"}, \"width\": 270}]}]}, {\"hconcat\": [{\"layer\": [{\"data\": {\"url\": \"https://vega.github.io/vega-datasets/data/us-10m.json\", \"format\": {\"feature\": \"states\", \"type\": \"topojson\"}}, \"mark\": {\"type\": \"geoshape\", \"fill\": \"white\", \"stroke\": \"black\", \"strokeWidth\": 0.3}, \"height\": 170, \"projection\": {\"type\": \"albersUsa\"}, \"title\": \"sep\", \"width\": 270}, {\"data\": {\"url\": \"http://localhost:16820/2f5e915bb7b101a14884b45a1494125a.json\"}, \"mark\": {\"type\": \"square\", \"opacity\": 0.8, \"size\": 11.475}, \"encoding\": {\"color\": {\"type\": \"quantitative\", \"field\": \"color\", \"legend\": {\"title\": \"vlf\"}, \"scale\": {\"clamp\": true, \"domain\": [0, 0.1], \"scheme\": \"reds\"}}, \"latitude\": {\"field\": \"lat\", \"type\": \"quantitative\"}, \"longitude\": {\"field\": \"lon\", \"type\": \"quantitative\"}}, \"height\": 170, \"projection\": {\"type\": \"albersUsa\"}, \"width\": 270}]}, {\"layer\": [{\"data\": {\"url\": \"https://vega.github.io/vega-datasets/data/us-10m.json\", \"format\": {\"feature\": \"states\", \"type\": \"topojson\"}}, \"mark\": {\"type\": \"geoshape\", \"fill\": \"white\", \"stroke\": \"black\", \"strokeWidth\": 0.3}, \"height\": 170, \"projection\": {\"type\": \"albersUsa\"}, \"title\": \"oct\", \"width\": 270}, {\"data\": {\"url\": \"http://localhost:16820/7beed63bd0f5f651c776938987ad78a9.json\"}, \"mark\": {\"type\": \"square\", \"opacity\": 0.8, \"size\": 11.475}, \"encoding\": {\"color\": {\"type\": \"quantitative\", \"field\": \"color\", \"legend\": {\"title\": \"vlf\"}, \"scale\": {\"clamp\": true, \"domain\": [0, 0.1], \"scheme\": \"reds\"}}, \"latitude\": {\"field\": \"lat\", \"type\": \"quantitative\"}, \"longitude\": {\"field\": \"lon\", \"type\": \"quantitative\"}}, \"height\": 170, \"projection\": {\"type\": \"albersUsa\"}, \"width\": 270}]}, {\"layer\": [{\"data\": {\"url\": \"https://vega.github.io/vega-datasets/data/us-10m.json\", \"format\": {\"feature\": \"states\", \"type\": \"topojson\"}}, \"mark\": {\"type\": \"geoshape\", \"fill\": \"white\", \"stroke\": \"black\", \"strokeWidth\": 0.3}, \"height\": 170, \"projection\": {\"type\": \"albersUsa\"}, \"title\": \"nov\", \"width\": 270}, {\"data\": {\"url\": \"http://localhost:16820/c198285fe2c7ae176750b7e23906cabf.json\"}, \"mark\": {\"type\": \"square\", \"opacity\": 0.8, \"size\": 11.475}, \"encoding\": {\"color\": {\"type\": \"quantitative\", \"field\": \"color\", \"legend\": {\"title\": \"vlf\"}, \"scale\": {\"clamp\": true, \"domain\": [0, 0.1], \"scheme\": \"reds\"}}, \"latitude\": {\"field\": \"lat\", \"type\": \"quantitative\"}, \"longitude\": {\"field\": \"lon\", \"type\": \"quantitative\"}}, \"height\": 170, \"projection\": {\"type\": \"albersUsa\"}, \"width\": 270}]}]}], \"$schema\": \"https://vega.github.io/schema/vega-lite/v4.8.1.json\"}, {\"actions\": false, \"mode\": \"vega-lite\"});\n",
       "</script>"
      ],
      "text/plain": [
       "alt.VConcatChart(...)"
      ]
     },
     "execution_count": 8,
     "metadata": {},
     "output_type": "execute_result"
    }
   ],
   "source": [
    "plot.fire.monthly(mtbs, 'vlf', clim=(0, 0.1))"
   ]
  },
  {
   "cell_type": "markdown",
   "metadata": {},
   "source": [
    "We can plot spatially averaged data over time to see both seasonable trends, and the fact that fire frequency and magnitude has increased over time."
   ]
  },
  {
   "cell_type": "code",
   "execution_count": 9,
   "metadata": {},
   "outputs": [
    {
     "data": {
      "text/html": [
       "\n",
       "<div id=\"altair-viz-44d799ab10554808a241af39391bf897\"></div>\n",
       "<script type=\"text/javascript\">\n",
       "  (function(spec, embedOpt){\n",
       "    let outputDiv = document.currentScript.previousElementSibling;\n",
       "    if (outputDiv.id !== \"altair-viz-44d799ab10554808a241af39391bf897\") {\n",
       "      outputDiv = document.getElementById(\"altair-viz-44d799ab10554808a241af39391bf897\");\n",
       "    }\n",
       "    const paths = {\n",
       "      \"vega\": \"https://cdn.jsdelivr.net/npm//vega@5?noext\",\n",
       "      \"vega-lib\": \"https://cdn.jsdelivr.net/npm//vega-lib?noext\",\n",
       "      \"vega-lite\": \"https://cdn.jsdelivr.net/npm//vega-lite@4.8.1?noext\",\n",
       "      \"vega-embed\": \"https://cdn.jsdelivr.net/npm//vega-embed@6?noext\",\n",
       "    };\n",
       "\n",
       "    function loadScript(lib) {\n",
       "      return new Promise(function(resolve, reject) {\n",
       "        var s = document.createElement('script');\n",
       "        s.src = paths[lib];\n",
       "        s.async = true;\n",
       "        s.onload = () => resolve(paths[lib]);\n",
       "        s.onerror = () => reject(`Error loading script: ${paths[lib]}`);\n",
       "        document.getElementsByTagName(\"head\")[0].appendChild(s);\n",
       "      });\n",
       "    }\n",
       "\n",
       "    function showError(err) {\n",
       "      outputDiv.innerHTML = `<div class=\"error\" style=\"color:red;\">${err}</div>`;\n",
       "      throw err;\n",
       "    }\n",
       "\n",
       "    function displayChart(vegaEmbed) {\n",
       "      vegaEmbed(outputDiv, spec, embedOpt)\n",
       "        .catch(err => showError(`Javascript Error: ${err.message}<br>This usually means there's a typo in your chart specification. See the javascript console for the full traceback.`));\n",
       "    }\n",
       "\n",
       "    if(typeof define === \"function\" && define.amd) {\n",
       "      requirejs.config({paths});\n",
       "      require([\"vega-embed\"], displayChart, err => showError(`Error loading script: ${err.message}`));\n",
       "    } else if (typeof vegaEmbed === \"function\") {\n",
       "      displayChart(vegaEmbed);\n",
       "    } else {\n",
       "      loadScript(\"vega\")\n",
       "        .then(() => loadScript(\"vega-lite\"))\n",
       "        .then(() => loadScript(\"vega-embed\"))\n",
       "        .catch(showError)\n",
       "        .then(() => displayChart(vegaEmbed));\n",
       "    }\n",
       "  })({\"config\": {\"view\": {\"continuousWidth\": 400, \"continuousHeight\": 300}}, \"data\": {\"url\": \"http://localhost:16820/216030f2d9d7fd634877409f43a88d28.json\"}, \"mark\": {\"type\": \"line\", \"color\": \"rgb(175,91,92)\", \"opacity\": 1, \"strokeWidth\": 2}, \"encoding\": {\"x\": {\"type\": \"temporal\", \"field\": \"x\"}, \"y\": {\"type\": \"quantitative\", \"field\": \"y\"}}, \"height\": 200, \"width\": 900, \"$schema\": \"https://vega.github.io/schema/vega-lite/v4.8.1.json\"}, {\"actions\": false, \"mode\": \"vega-lite\"});\n",
       "</script>"
      ],
      "text/plain": [
       "alt.Chart(...)"
      ]
     },
     "execution_count": 9,
     "metadata": {},
     "output_type": "execute_result"
    }
   ],
   "source": [
    "x = mtbs['time']\n",
    "y = mtbs['vlf'].mean(['x', 'y'])\n",
    "\n",
    "plot.line(x=x, y=y, width=900, height=200, color='rgb(175,91,92)', strokeWidth=2)"
   ]
  },
  {
   "cell_type": "markdown",
   "metadata": {},
   "source": [
    "We can summarize the data by plotting annual, seasonal, and spatial trends by averaging across different groupings and dimensions."
   ]
  },
  {
   "cell_type": "code",
   "execution_count": 10,
   "metadata": {},
   "outputs": [
    {
     "data": {
      "text/html": [
       "\n",
       "<div id=\"altair-viz-9c6eeb1838f74d8c8068e0fa508999c4\"></div>\n",
       "<script type=\"text/javascript\">\n",
       "  (function(spec, embedOpt){\n",
       "    let outputDiv = document.currentScript.previousElementSibling;\n",
       "    if (outputDiv.id !== \"altair-viz-9c6eeb1838f74d8c8068e0fa508999c4\") {\n",
       "      outputDiv = document.getElementById(\"altair-viz-9c6eeb1838f74d8c8068e0fa508999c4\");\n",
       "    }\n",
       "    const paths = {\n",
       "      \"vega\": \"https://cdn.jsdelivr.net/npm//vega@5?noext\",\n",
       "      \"vega-lib\": \"https://cdn.jsdelivr.net/npm//vega-lib?noext\",\n",
       "      \"vega-lite\": \"https://cdn.jsdelivr.net/npm//vega-lite@4.8.1?noext\",\n",
       "      \"vega-embed\": \"https://cdn.jsdelivr.net/npm//vega-embed@6?noext\",\n",
       "    };\n",
       "\n",
       "    function loadScript(lib) {\n",
       "      return new Promise(function(resolve, reject) {\n",
       "        var s = document.createElement('script');\n",
       "        s.src = paths[lib];\n",
       "        s.async = true;\n",
       "        s.onload = () => resolve(paths[lib]);\n",
       "        s.onerror = () => reject(`Error loading script: ${paths[lib]}`);\n",
       "        document.getElementsByTagName(\"head\")[0].appendChild(s);\n",
       "      });\n",
       "    }\n",
       "\n",
       "    function showError(err) {\n",
       "      outputDiv.innerHTML = `<div class=\"error\" style=\"color:red;\">${err}</div>`;\n",
       "      throw err;\n",
       "    }\n",
       "\n",
       "    function displayChart(vegaEmbed) {\n",
       "      vegaEmbed(outputDiv, spec, embedOpt)\n",
       "        .catch(err => showError(`Javascript Error: ${err.message}<br>This usually means there's a typo in your chart specification. See the javascript console for the full traceback.`));\n",
       "    }\n",
       "\n",
       "    if(typeof define === \"function\" && define.amd) {\n",
       "      requirejs.config({paths});\n",
       "      require([\"vega-embed\"], displayChart, err => showError(`Error loading script: ${err.message}`));\n",
       "    } else if (typeof vegaEmbed === \"function\") {\n",
       "      displayChart(vegaEmbed);\n",
       "    } else {\n",
       "      loadScript(\"vega\")\n",
       "        .then(() => loadScript(\"vega-lite\"))\n",
       "        .then(() => loadScript(\"vega-embed\"))\n",
       "        .catch(showError)\n",
       "        .then(() => displayChart(vegaEmbed));\n",
       "    }\n",
       "  })({\"config\": {\"view\": {\"continuousWidth\": 400, \"continuousHeight\": 300}}, \"hconcat\": [{\"vconcat\": [{\"mark\": {\"type\": \"line\", \"color\": \"rgb(175,91,92)\", \"opacity\": 1, \"strokeWidth\": 2}, \"encoding\": {\"x\": {\"type\": \"quantitative\", \"field\": \"x\"}, \"y\": {\"type\": \"quantitative\", \"field\": \"y\"}}, \"height\": 122, \"width\": 300}, {\"data\": {\"url\": \"http://localhost:16820/04b03d21cdef686e7ef70239e48186ff.json\"}, \"mark\": {\"type\": \"line\", \"color\": \"rgb(175,91,92)\", \"opacity\": 1, \"strokeWidth\": 2}, \"encoding\": {\"x\": {\"type\": \"quantitative\", \"field\": \"x\"}, \"y\": {\"type\": \"quantitative\", \"field\": \"y\"}}, \"height\": 122, \"width\": 300}]}, {\"layer\": [{\"data\": {\"url\": \"https://vega.github.io/vega-datasets/data/us-10m.json\", \"format\": {\"feature\": \"states\", \"type\": \"topojson\"}}, \"mark\": {\"type\": \"geoshape\", \"fill\": \"white\", \"stroke\": \"black\", \"strokeWidth\": 0.3}, \"height\": 300, \"projection\": {\"type\": \"albersUsa\"}, \"width\": 500}, {\"data\": {\"url\": \"http://localhost:16820/a2ec7fac7c7a7b01691244d4b2bbefa1.json\"}, \"mark\": {\"type\": \"square\", \"opacity\": 0.8, \"size\": 37.50000000000001}, \"encoding\": {\"color\": {\"type\": \"quantitative\", \"field\": \"color\", \"legend\": {\"title\": \"vlf\"}, \"scale\": {\"clamp\": true, \"domain\": [0, 0.05], \"scheme\": \"reds\"}}, \"latitude\": {\"field\": \"lat\", \"type\": \"quantitative\"}, \"longitude\": {\"field\": \"lon\", \"type\": \"quantitative\"}}, \"height\": 300, \"projection\": {\"type\": \"albersUsa\"}, \"width\": 500}]}], \"data\": {\"url\": \"http://localhost:16820/9ea936f8250b34cd38124bb2514570bd.json\"}, \"$schema\": \"https://vega.github.io/schema/vega-lite/v4.8.1.json\"}, {\"actions\": false, \"mode\": \"vega-lite\"});\n",
       "</script>"
      ],
      "text/plain": [
       "alt.HConcatChart(...)"
      ]
     },
     "execution_count": 10,
     "metadata": {},
     "output_type": "execute_result"
    }
   ],
   "source": [
    "plot.fire.summary(mtbs, 'vlf', clim=(0, 0.05))"
   ]
  },
  {
   "cell_type": "markdown",
   "metadata": {},
   "source": [
    "As a motivation for fitting fires as functions of climatic variables, we can look at spatially averaged climatic variables alongside fires, e.g. average tempreature, and see that there is a clear relationship (in this case a positive correlation)."
   ]
  },
  {
   "cell_type": "code",
   "execution_count": 11,
   "metadata": {},
   "outputs": [
    {
     "data": {
      "text/html": [
       "\n",
       "<div id=\"altair-viz-075eaa75f132419ba0837d81af0266b6\"></div>\n",
       "<script type=\"text/javascript\">\n",
       "  (function(spec, embedOpt){\n",
       "    let outputDiv = document.currentScript.previousElementSibling;\n",
       "    if (outputDiv.id !== \"altair-viz-075eaa75f132419ba0837d81af0266b6\") {\n",
       "      outputDiv = document.getElementById(\"altair-viz-075eaa75f132419ba0837d81af0266b6\");\n",
       "    }\n",
       "    const paths = {\n",
       "      \"vega\": \"https://cdn.jsdelivr.net/npm//vega@5?noext\",\n",
       "      \"vega-lib\": \"https://cdn.jsdelivr.net/npm//vega-lib?noext\",\n",
       "      \"vega-lite\": \"https://cdn.jsdelivr.net/npm//vega-lite@4.8.1?noext\",\n",
       "      \"vega-embed\": \"https://cdn.jsdelivr.net/npm//vega-embed@6?noext\",\n",
       "    };\n",
       "\n",
       "    function loadScript(lib) {\n",
       "      return new Promise(function(resolve, reject) {\n",
       "        var s = document.createElement('script');\n",
       "        s.src = paths[lib];\n",
       "        s.async = true;\n",
       "        s.onload = () => resolve(paths[lib]);\n",
       "        s.onerror = () => reject(`Error loading script: ${paths[lib]}`);\n",
       "        document.getElementsByTagName(\"head\")[0].appendChild(s);\n",
       "      });\n",
       "    }\n",
       "\n",
       "    function showError(err) {\n",
       "      outputDiv.innerHTML = `<div class=\"error\" style=\"color:red;\">${err}</div>`;\n",
       "      throw err;\n",
       "    }\n",
       "\n",
       "    function displayChart(vegaEmbed) {\n",
       "      vegaEmbed(outputDiv, spec, embedOpt)\n",
       "        .catch(err => showError(`Javascript Error: ${err.message}<br>This usually means there's a typo in your chart specification. See the javascript console for the full traceback.`));\n",
       "    }\n",
       "\n",
       "    if(typeof define === \"function\" && define.amd) {\n",
       "      requirejs.config({paths});\n",
       "      require([\"vega-embed\"], displayChart, err => showError(`Error loading script: ${err.message}`));\n",
       "    } else if (typeof vegaEmbed === \"function\") {\n",
       "      displayChart(vegaEmbed);\n",
       "    } else {\n",
       "      loadScript(\"vega\")\n",
       "        .then(() => loadScript(\"vega-lite\"))\n",
       "        .then(() => loadScript(\"vega-embed\"))\n",
       "        .catch(showError)\n",
       "        .then(() => displayChart(vegaEmbed));\n",
       "    }\n",
       "  })({\"config\": {\"view\": {\"continuousWidth\": 400, \"continuousHeight\": 300}}, \"layer\": [{\"data\": {\"url\": \"http://localhost:16820/e07115ed6ed390364a439a48e4aa5113.json\"}, \"mark\": {\"type\": \"line\", \"color\": \"rgb(175,91,92)\", \"opacity\": 1, \"strokeWidth\": 2}, \"encoding\": {\"x\": {\"type\": \"quantitative\", \"field\": \"x\"}, \"y\": {\"type\": \"quantitative\", \"field\": \"y\"}}, \"height\": 200, \"width\": 350}, {\"data\": {\"url\": \"http://localhost:16820/806983c5aa322ae809b1564d0c975b67.json\"}, \"mark\": {\"type\": \"line\", \"color\": \"rgb(175,91,92)\", \"opacity\": 0.5, \"strokeWidth\": 2}, \"encoding\": {\"x\": {\"type\": \"quantitative\", \"field\": \"x\"}, \"y\": {\"type\": \"quantitative\", \"field\": \"y\"}}, \"height\": 200, \"width\": 350}], \"$schema\": \"https://vega.github.io/schema/vega-lite/v4.8.1.json\"}, {\"actions\": false, \"mode\": \"vega-lite\"});\n",
       "</script>"
      ],
      "text/plain": [
       "alt.LayerChart(...)"
      ]
     },
     "execution_count": 11,
     "metadata": {},
     "output_type": "execute_result"
    }
   ],
   "source": [
    "x = mtbs.groupby('time.year').mean()['year']\n",
    "y1 = mtbs['vlf'].groupby('time.year').mean().mean(['x','y'])\n",
    "y2 = climate['tavg'].groupby('time.year').mean().mean(['x', 'y'])\n",
    "\n",
    "(\n",
    "    plot.line(x=x, y=sp.stats.zscore(y1), color='rgb(175,91,92)')\n",
    "    + plot.line(x=x, y=sp.stats.zscore(y2), color='rgb(175,91,92)', opacity=0.5)\n",
    ")"
   ]
  },
  {
   "cell_type": "markdown",
   "metadata": {},
   "source": [
    "### Fitting the model"
   ]
  },
  {
   "cell_type": "markdown",
   "metadata": {},
   "source": [
    "We'll define the variables to use in the model"
   ]
  },
  {
   "cell_type": "code",
   "execution_count": 12,
   "metadata": {},
   "outputs": [],
   "source": [
    "fit_vars = ['tavg', 'ppt']"
   ]
  },
  {
   "cell_type": "markdown",
   "metadata": {},
   "source": [
    "Then we fit it by providing both the climate variables and the forest type groups. We distinguish the two sets of input variables because the climate variables change over time by the groups do not."
   ]
  },
  {
   "cell_type": "code",
   "execution_count": 13,
   "metadata": {},
   "outputs": [],
   "source": [
    "model = fit.fire(x=climate[fit_vars], y=mtbs['vlf'], f=groups)"
   ]
  },
  {
   "cell_type": "markdown",
   "metadata": {},
   "source": [
    "We can evaluate the fitting model on arbitrary new inputs. In this case, we evaluate on the data we used to fit."
   ]
  },
  {
   "cell_type": "code",
   "execution_count": 14,
   "metadata": {},
   "outputs": [],
   "source": [
    "prediction = model.predict(x=climate[fit_vars], f=groups)"
   ]
  },
  {
   "cell_type": "markdown",
   "metadata": {},
   "source": [
    "We can plot the predictions monthly just as we plotted the real data."
   ]
  },
  {
   "cell_type": "code",
   "execution_count": 43,
   "metadata": {},
   "outputs": [
    {
     "data": {
      "text/html": [
       "\n",
       "<div id=\"altair-viz-b3be366d56af4ee3934bd7ebefc1a2e4\"></div>\n",
       "<script type=\"text/javascript\">\n",
       "  (function(spec, embedOpt){\n",
       "    let outputDiv = document.currentScript.previousElementSibling;\n",
       "    if (outputDiv.id !== \"altair-viz-b3be366d56af4ee3934bd7ebefc1a2e4\") {\n",
       "      outputDiv = document.getElementById(\"altair-viz-b3be366d56af4ee3934bd7ebefc1a2e4\");\n",
       "    }\n",
       "    const paths = {\n",
       "      \"vega\": \"https://cdn.jsdelivr.net/npm//vega@5?noext\",\n",
       "      \"vega-lib\": \"https://cdn.jsdelivr.net/npm//vega-lib?noext\",\n",
       "      \"vega-lite\": \"https://cdn.jsdelivr.net/npm//vega-lite@4.8.1?noext\",\n",
       "      \"vega-embed\": \"https://cdn.jsdelivr.net/npm//vega-embed@6?noext\",\n",
       "    };\n",
       "\n",
       "    function loadScript(lib) {\n",
       "      return new Promise(function(resolve, reject) {\n",
       "        var s = document.createElement('script');\n",
       "        s.src = paths[lib];\n",
       "        s.async = true;\n",
       "        s.onload = () => resolve(paths[lib]);\n",
       "        s.onerror = () => reject(`Error loading script: ${paths[lib]}`);\n",
       "        document.getElementsByTagName(\"head\")[0].appendChild(s);\n",
       "      });\n",
       "    }\n",
       "\n",
       "    function showError(err) {\n",
       "      outputDiv.innerHTML = `<div class=\"error\" style=\"color:red;\">${err}</div>`;\n",
       "      throw err;\n",
       "    }\n",
       "\n",
       "    function displayChart(vegaEmbed) {\n",
       "      vegaEmbed(outputDiv, spec, embedOpt)\n",
       "        .catch(err => showError(`Javascript Error: ${err.message}<br>This usually means there's a typo in your chart specification. See the javascript console for the full traceback.`));\n",
       "    }\n",
       "\n",
       "    if(typeof define === \"function\" && define.amd) {\n",
       "      requirejs.config({paths});\n",
       "      require([\"vega-embed\"], displayChart, err => showError(`Error loading script: ${err.message}`));\n",
       "    } else if (typeof vegaEmbed === \"function\") {\n",
       "      displayChart(vegaEmbed);\n",
       "    } else {\n",
       "      loadScript(\"vega\")\n",
       "        .then(() => loadScript(\"vega-lite\"))\n",
       "        .then(() => loadScript(\"vega-embed\"))\n",
       "        .catch(showError)\n",
       "        .then(() => displayChart(vegaEmbed));\n",
       "    }\n",
       "  })({\"config\": {\"view\": {\"continuousWidth\": 400, \"continuousHeight\": 300, \"strokeOpacity\": 0}}, \"vconcat\": [{\"hconcat\": [{\"layer\": [{\"data\": {\"url\": \"https://vega.github.io/vega-datasets/data/us-10m.json\", \"format\": {\"feature\": \"states\", \"type\": \"topojson\"}}, \"mark\": {\"type\": \"geoshape\", \"fill\": \"white\", \"stroke\": \"black\", \"strokeWidth\": 0.3}, \"height\": 170, \"projection\": {\"type\": \"albersUsa\"}, \"title\": \"mar\", \"width\": 270}, {\"data\": {\"url\": \"http://localhost:16820/1f7c975fdfe951e688ecbc825be29686.json\"}, \"mark\": {\"type\": \"square\", \"opacity\": 0.8, \"size\": 11.475}, \"encoding\": {\"color\": {\"type\": \"quantitative\", \"field\": \"color\", \"legend\": {\"title\": \"prob\"}, \"scale\": {\"clamp\": true, \"domain\": [0.005, 0.025], \"scheme\": \"reds\"}}, \"latitude\": {\"field\": \"lat\", \"type\": \"quantitative\"}, \"longitude\": {\"field\": \"lon\", \"type\": \"quantitative\"}}, \"height\": 170, \"projection\": {\"type\": \"albersUsa\"}, \"width\": 270}]}, {\"layer\": [{\"data\": {\"url\": \"https://vega.github.io/vega-datasets/data/us-10m.json\", \"format\": {\"feature\": \"states\", \"type\": \"topojson\"}}, \"mark\": {\"type\": \"geoshape\", \"fill\": \"white\", \"stroke\": \"black\", \"strokeWidth\": 0.3}, \"height\": 170, \"projection\": {\"type\": \"albersUsa\"}, \"title\": \"apr\", \"width\": 270}, {\"data\": {\"url\": \"http://localhost:16820/31c83ef50279715cb97cefb240107c74.json\"}, \"mark\": {\"type\": \"square\", \"opacity\": 0.8, \"size\": 11.475}, \"encoding\": {\"color\": {\"type\": \"quantitative\", \"field\": \"color\", \"legend\": {\"title\": \"prob\"}, \"scale\": {\"clamp\": true, \"domain\": [0.005, 0.025], \"scheme\": \"reds\"}}, \"latitude\": {\"field\": \"lat\", \"type\": \"quantitative\"}, \"longitude\": {\"field\": \"lon\", \"type\": \"quantitative\"}}, \"height\": 170, \"projection\": {\"type\": \"albersUsa\"}, \"width\": 270}]}, {\"layer\": [{\"data\": {\"url\": \"https://vega.github.io/vega-datasets/data/us-10m.json\", \"format\": {\"feature\": \"states\", \"type\": \"topojson\"}}, \"mark\": {\"type\": \"geoshape\", \"fill\": \"white\", \"stroke\": \"black\", \"strokeWidth\": 0.3}, \"height\": 170, \"projection\": {\"type\": \"albersUsa\"}, \"title\": \"may\", \"width\": 270}, {\"data\": {\"url\": \"http://localhost:16820/129dd2de8eba673465133809396b7eb0.json\"}, \"mark\": {\"type\": \"square\", \"opacity\": 0.8, \"size\": 11.475}, \"encoding\": {\"color\": {\"type\": \"quantitative\", \"field\": \"color\", \"legend\": {\"title\": \"prob\"}, \"scale\": {\"clamp\": true, \"domain\": [0.005, 0.025], \"scheme\": \"reds\"}}, \"latitude\": {\"field\": \"lat\", \"type\": \"quantitative\"}, \"longitude\": {\"field\": \"lon\", \"type\": \"quantitative\"}}, \"height\": 170, \"projection\": {\"type\": \"albersUsa\"}, \"width\": 270}]}]}, {\"hconcat\": [{\"layer\": [{\"data\": {\"url\": \"https://vega.github.io/vega-datasets/data/us-10m.json\", \"format\": {\"feature\": \"states\", \"type\": \"topojson\"}}, \"mark\": {\"type\": \"geoshape\", \"fill\": \"white\", \"stroke\": \"black\", \"strokeWidth\": 0.3}, \"height\": 170, \"projection\": {\"type\": \"albersUsa\"}, \"title\": \"jun\", \"width\": 270}, {\"data\": {\"url\": \"http://localhost:16820/23bf2147411dadb8caf79689b9f72e56.json\"}, \"mark\": {\"type\": \"square\", \"opacity\": 0.8, \"size\": 11.475}, \"encoding\": {\"color\": {\"type\": \"quantitative\", \"field\": \"color\", \"legend\": {\"title\": \"prob\"}, \"scale\": {\"clamp\": true, \"domain\": [0.005, 0.025], \"scheme\": \"reds\"}}, \"latitude\": {\"field\": \"lat\", \"type\": \"quantitative\"}, \"longitude\": {\"field\": \"lon\", \"type\": \"quantitative\"}}, \"height\": 170, \"projection\": {\"type\": \"albersUsa\"}, \"width\": 270}]}, {\"layer\": [{\"data\": {\"url\": \"https://vega.github.io/vega-datasets/data/us-10m.json\", \"format\": {\"feature\": \"states\", \"type\": \"topojson\"}}, \"mark\": {\"type\": \"geoshape\", \"fill\": \"white\", \"stroke\": \"black\", \"strokeWidth\": 0.3}, \"height\": 170, \"projection\": {\"type\": \"albersUsa\"}, \"title\": \"jul\", \"width\": 270}, {\"data\": {\"url\": \"http://localhost:16820/fbb720f60c65d62446b400fb216c84c4.json\"}, \"mark\": {\"type\": \"square\", \"opacity\": 0.8, \"size\": 11.475}, \"encoding\": {\"color\": {\"type\": \"quantitative\", \"field\": \"color\", \"legend\": {\"title\": \"prob\"}, \"scale\": {\"clamp\": true, \"domain\": [0.005, 0.025], \"scheme\": \"reds\"}}, \"latitude\": {\"field\": \"lat\", \"type\": \"quantitative\"}, \"longitude\": {\"field\": \"lon\", \"type\": \"quantitative\"}}, \"height\": 170, \"projection\": {\"type\": \"albersUsa\"}, \"width\": 270}]}, {\"layer\": [{\"data\": {\"url\": \"https://vega.github.io/vega-datasets/data/us-10m.json\", \"format\": {\"feature\": \"states\", \"type\": \"topojson\"}}, \"mark\": {\"type\": \"geoshape\", \"fill\": \"white\", \"stroke\": \"black\", \"strokeWidth\": 0.3}, \"height\": 170, \"projection\": {\"type\": \"albersUsa\"}, \"title\": \"aug\", \"width\": 270}, {\"data\": {\"url\": \"http://localhost:16820/1298a00aaa1024ee31ddc1efb11b5da2.json\"}, \"mark\": {\"type\": \"square\", \"opacity\": 0.8, \"size\": 11.475}, \"encoding\": {\"color\": {\"type\": \"quantitative\", \"field\": \"color\", \"legend\": {\"title\": \"prob\"}, \"scale\": {\"clamp\": true, \"domain\": [0.005, 0.025], \"scheme\": \"reds\"}}, \"latitude\": {\"field\": \"lat\", \"type\": \"quantitative\"}, \"longitude\": {\"field\": \"lon\", \"type\": \"quantitative\"}}, \"height\": 170, \"projection\": {\"type\": \"albersUsa\"}, \"width\": 270}]}]}, {\"hconcat\": [{\"layer\": [{\"data\": {\"url\": \"https://vega.github.io/vega-datasets/data/us-10m.json\", \"format\": {\"feature\": \"states\", \"type\": \"topojson\"}}, \"mark\": {\"type\": \"geoshape\", \"fill\": \"white\", \"stroke\": \"black\", \"strokeWidth\": 0.3}, \"height\": 170, \"projection\": {\"type\": \"albersUsa\"}, \"title\": \"sep\", \"width\": 270}, {\"data\": {\"url\": \"http://localhost:16820/c6630a4dc120594151f809c38b3e3429.json\"}, \"mark\": {\"type\": \"square\", \"opacity\": 0.8, \"size\": 11.475}, \"encoding\": {\"color\": {\"type\": \"quantitative\", \"field\": \"color\", \"legend\": {\"title\": \"prob\"}, \"scale\": {\"clamp\": true, \"domain\": [0.005, 0.025], \"scheme\": \"reds\"}}, \"latitude\": {\"field\": \"lat\", \"type\": \"quantitative\"}, \"longitude\": {\"field\": \"lon\", \"type\": \"quantitative\"}}, \"height\": 170, \"projection\": {\"type\": \"albersUsa\"}, \"width\": 270}]}, {\"layer\": [{\"data\": {\"url\": \"https://vega.github.io/vega-datasets/data/us-10m.json\", \"format\": {\"feature\": \"states\", \"type\": \"topojson\"}}, \"mark\": {\"type\": \"geoshape\", \"fill\": \"white\", \"stroke\": \"black\", \"strokeWidth\": 0.3}, \"height\": 170, \"projection\": {\"type\": \"albersUsa\"}, \"title\": \"oct\", \"width\": 270}, {\"data\": {\"url\": \"http://localhost:16820/49c389b9cf6db04e595c6b5bf58988c1.json\"}, \"mark\": {\"type\": \"square\", \"opacity\": 0.8, \"size\": 11.475}, \"encoding\": {\"color\": {\"type\": \"quantitative\", \"field\": \"color\", \"legend\": {\"title\": \"prob\"}, \"scale\": {\"clamp\": true, \"domain\": [0.005, 0.025], \"scheme\": \"reds\"}}, \"latitude\": {\"field\": \"lat\", \"type\": \"quantitative\"}, \"longitude\": {\"field\": \"lon\", \"type\": \"quantitative\"}}, \"height\": 170, \"projection\": {\"type\": \"albersUsa\"}, \"width\": 270}]}, {\"layer\": [{\"data\": {\"url\": \"https://vega.github.io/vega-datasets/data/us-10m.json\", \"format\": {\"feature\": \"states\", \"type\": \"topojson\"}}, \"mark\": {\"type\": \"geoshape\", \"fill\": \"white\", \"stroke\": \"black\", \"strokeWidth\": 0.3}, \"height\": 170, \"projection\": {\"type\": \"albersUsa\"}, \"title\": \"nov\", \"width\": 270}, {\"data\": {\"url\": \"http://localhost:16820/c7460089748e1098f2cb2e6f0a09510d.json\"}, \"mark\": {\"type\": \"square\", \"opacity\": 0.8, \"size\": 11.475}, \"encoding\": {\"color\": {\"type\": \"quantitative\", \"field\": \"color\", \"legend\": {\"title\": \"prob\"}, \"scale\": {\"clamp\": true, \"domain\": [0.005, 0.025], \"scheme\": \"reds\"}}, \"latitude\": {\"field\": \"lat\", \"type\": \"quantitative\"}, \"longitude\": {\"field\": \"lon\", \"type\": \"quantitative\"}}, \"height\": 170, \"projection\": {\"type\": \"albersUsa\"}, \"width\": 270}]}]}], \"$schema\": \"https://vega.github.io/schema/vega-lite/v4.8.1.json\"}, {\"actions\": false, \"mode\": \"vega-lite\"});\n",
       "</script>"
      ],
      "text/plain": [
       "alt.VConcatChart(...)"
      ]
     },
     "execution_count": 43,
     "metadata": {},
     "output_type": "execute_result"
    }
   ],
   "source": [
    "plot.fire.monthly(prediction, 'prob', clim=(0.005, 0.025))"
   ]
  },
  {
   "cell_type": "markdown",
   "metadata": {},
   "source": [
    "And we can plot the same summary of trends but now with both data and model"
   ]
  },
  {
   "cell_type": "code",
   "execution_count": 16,
   "metadata": {},
   "outputs": [
    {
     "data": {
      "text/html": [
       "\n",
       "<div id=\"altair-viz-e2aaa0d674b14c908902e438ccbd11d6\"></div>\n",
       "<script type=\"text/javascript\">\n",
       "  (function(spec, embedOpt){\n",
       "    let outputDiv = document.currentScript.previousElementSibling;\n",
       "    if (outputDiv.id !== \"altair-viz-e2aaa0d674b14c908902e438ccbd11d6\") {\n",
       "      outputDiv = document.getElementById(\"altair-viz-e2aaa0d674b14c908902e438ccbd11d6\");\n",
       "    }\n",
       "    const paths = {\n",
       "      \"vega\": \"https://cdn.jsdelivr.net/npm//vega@5?noext\",\n",
       "      \"vega-lib\": \"https://cdn.jsdelivr.net/npm//vega-lib?noext\",\n",
       "      \"vega-lite\": \"https://cdn.jsdelivr.net/npm//vega-lite@4.8.1?noext\",\n",
       "      \"vega-embed\": \"https://cdn.jsdelivr.net/npm//vega-embed@6?noext\",\n",
       "    };\n",
       "\n",
       "    function loadScript(lib) {\n",
       "      return new Promise(function(resolve, reject) {\n",
       "        var s = document.createElement('script');\n",
       "        s.src = paths[lib];\n",
       "        s.async = true;\n",
       "        s.onload = () => resolve(paths[lib]);\n",
       "        s.onerror = () => reject(`Error loading script: ${paths[lib]}`);\n",
       "        document.getElementsByTagName(\"head\")[0].appendChild(s);\n",
       "      });\n",
       "    }\n",
       "\n",
       "    function showError(err) {\n",
       "      outputDiv.innerHTML = `<div class=\"error\" style=\"color:red;\">${err}</div>`;\n",
       "      throw err;\n",
       "    }\n",
       "\n",
       "    function displayChart(vegaEmbed) {\n",
       "      vegaEmbed(outputDiv, spec, embedOpt)\n",
       "        .catch(err => showError(`Javascript Error: ${err.message}<br>This usually means there's a typo in your chart specification. See the javascript console for the full traceback.`));\n",
       "    }\n",
       "\n",
       "    if(typeof define === \"function\" && define.amd) {\n",
       "      requirejs.config({paths});\n",
       "      require([\"vega-embed\"], displayChart, err => showError(`Error loading script: ${err.message}`));\n",
       "    } else if (typeof vegaEmbed === \"function\") {\n",
       "      displayChart(vegaEmbed);\n",
       "    } else {\n",
       "      loadScript(\"vega\")\n",
       "        .then(() => loadScript(\"vega-lite\"))\n",
       "        .then(() => loadScript(\"vega-embed\"))\n",
       "        .catch(showError)\n",
       "        .then(() => displayChart(vegaEmbed));\n",
       "    }\n",
       "  })({\"config\": {\"view\": {\"continuousWidth\": 400, \"continuousHeight\": 300}}, \"hconcat\": [{\"vconcat\": [{\"layer\": [{\"data\": {\"url\": \"http://localhost:16820/9ea936f8250b34cd38124bb2514570bd.json\"}, \"mark\": {\"type\": \"line\", \"color\": \"rgb(175,91,92)\", \"opacity\": 0.5, \"strokeWidth\": 2}, \"encoding\": {\"x\": {\"type\": \"quantitative\", \"field\": \"x\"}, \"y\": {\"type\": \"quantitative\", \"field\": \"y\"}}, \"height\": 122, \"width\": 300}, {\"data\": {\"url\": \"http://localhost:16820/1a8d1f7f31b701c852835bf1fc0a7cb8.json\"}, \"mark\": {\"type\": \"line\", \"color\": \"rgb(175,91,92)\", \"opacity\": 1, \"strokeWidth\": 2}, \"encoding\": {\"x\": {\"type\": \"quantitative\", \"field\": \"x\"}, \"y\": {\"type\": \"quantitative\", \"field\": \"y\"}}, \"height\": 122, \"width\": 300}]}, {\"layer\": [{\"data\": {\"url\": \"http://localhost:16820/04b03d21cdef686e7ef70239e48186ff.json\"}, \"mark\": {\"type\": \"line\", \"color\": \"rgb(175,91,92)\", \"opacity\": 0.5, \"strokeWidth\": 2}, \"encoding\": {\"x\": {\"type\": \"quantitative\", \"field\": \"x\"}, \"y\": {\"type\": \"quantitative\", \"field\": \"y\"}}, \"height\": 122, \"width\": 300}, {\"data\": {\"url\": \"http://localhost:16820/5ce1f8dc015e10118e0c7ddfb5c4587c.json\"}, \"mark\": {\"type\": \"line\", \"color\": \"rgb(175,91,92)\", \"opacity\": 1, \"strokeWidth\": 2}, \"encoding\": {\"x\": {\"type\": \"quantitative\", \"field\": \"x\"}, \"y\": {\"type\": \"quantitative\", \"field\": \"y\"}}, \"height\": 122, \"width\": 300}]}]}, {\"layer\": [{\"data\": {\"url\": \"https://vega.github.io/vega-datasets/data/us-10m.json\", \"format\": {\"feature\": \"states\", \"type\": \"topojson\"}}, \"mark\": {\"type\": \"geoshape\", \"fill\": \"white\", \"stroke\": \"black\", \"strokeWidth\": 0.3}, \"height\": 300, \"projection\": {\"type\": \"albersUsa\"}, \"width\": 500}, {\"data\": {\"url\": \"http://localhost:16820/1c52b57255ddc960a643d7dbc98cdfd6.json\"}, \"mark\": {\"type\": \"square\", \"opacity\": 0.8, \"size\": 35.41666666666667}, \"encoding\": {\"color\": {\"type\": \"quantitative\", \"field\": \"color\", \"legend\": {\"title\": \"vlf\"}, \"scale\": {\"clamp\": true, \"domain\": [0.004, 0.02], \"scheme\": \"reds\"}}, \"latitude\": {\"field\": \"lat\", \"type\": \"quantitative\"}, \"longitude\": {\"field\": \"lon\", \"type\": \"quantitative\"}}, \"height\": 300, \"projection\": {\"type\": \"albersUsa\"}, \"width\": 500}]}], \"$schema\": \"https://vega.github.io/schema/vega-lite/v4.8.1.json\"}, {\"actions\": false, \"mode\": \"vega-lite\"});\n",
       "</script>"
      ],
      "text/plain": [
       "alt.HConcatChart(...)"
      ]
     },
     "execution_count": 16,
     "metadata": {},
     "output_type": "execute_result"
    }
   ],
   "source": [
    "plot.fire.evaluation(mtbs, prediction, 'vlf', 'prob', clim=(0.004, 0.02))"
   ]
  },
  {
   "cell_type": "markdown",
   "metadata": {},
   "source": [
    "We can also compare the predicted and real probabilities over time."
   ]
  },
  {
   "cell_type": "code",
   "execution_count": 17,
   "metadata": {},
   "outputs": [
    {
     "data": {
      "text/html": [
       "\n",
       "<div id=\"altair-viz-b830953652194545bffeb2796a7a6bbd\"></div>\n",
       "<script type=\"text/javascript\">\n",
       "  (function(spec, embedOpt){\n",
       "    let outputDiv = document.currentScript.previousElementSibling;\n",
       "    if (outputDiv.id !== \"altair-viz-b830953652194545bffeb2796a7a6bbd\") {\n",
       "      outputDiv = document.getElementById(\"altair-viz-b830953652194545bffeb2796a7a6bbd\");\n",
       "    }\n",
       "    const paths = {\n",
       "      \"vega\": \"https://cdn.jsdelivr.net/npm//vega@5?noext\",\n",
       "      \"vega-lib\": \"https://cdn.jsdelivr.net/npm//vega-lib?noext\",\n",
       "      \"vega-lite\": \"https://cdn.jsdelivr.net/npm//vega-lite@4.8.1?noext\",\n",
       "      \"vega-embed\": \"https://cdn.jsdelivr.net/npm//vega-embed@6?noext\",\n",
       "    };\n",
       "\n",
       "    function loadScript(lib) {\n",
       "      return new Promise(function(resolve, reject) {\n",
       "        var s = document.createElement('script');\n",
       "        s.src = paths[lib];\n",
       "        s.async = true;\n",
       "        s.onload = () => resolve(paths[lib]);\n",
       "        s.onerror = () => reject(`Error loading script: ${paths[lib]}`);\n",
       "        document.getElementsByTagName(\"head\")[0].appendChild(s);\n",
       "      });\n",
       "    }\n",
       "\n",
       "    function showError(err) {\n",
       "      outputDiv.innerHTML = `<div class=\"error\" style=\"color:red;\">${err}</div>`;\n",
       "      throw err;\n",
       "    }\n",
       "\n",
       "    function displayChart(vegaEmbed) {\n",
       "      vegaEmbed(outputDiv, spec, embedOpt)\n",
       "        .catch(err => showError(`Javascript Error: ${err.message}<br>This usually means there's a typo in your chart specification. See the javascript console for the full traceback.`));\n",
       "    }\n",
       "\n",
       "    if(typeof define === \"function\" && define.amd) {\n",
       "      requirejs.config({paths});\n",
       "      require([\"vega-embed\"], displayChart, err => showError(`Error loading script: ${err.message}`));\n",
       "    } else if (typeof vegaEmbed === \"function\") {\n",
       "      displayChart(vegaEmbed);\n",
       "    } else {\n",
       "      loadScript(\"vega\")\n",
       "        .then(() => loadScript(\"vega-lite\"))\n",
       "        .then(() => loadScript(\"vega-embed\"))\n",
       "        .catch(showError)\n",
       "        .then(() => displayChart(vegaEmbed));\n",
       "    }\n",
       "  })({\"config\": {\"view\": {\"continuousWidth\": 400, \"continuousHeight\": 300}}, \"layer\": [{\"data\": {\"url\": \"http://localhost:16820/216030f2d9d7fd634877409f43a88d28.json\"}, \"mark\": {\"type\": \"line\", \"color\": \"rgb(175,91,92)\", \"opacity\": 0.5, \"strokeWidth\": 2}, \"encoding\": {\"x\": {\"type\": \"temporal\", \"field\": \"x\"}, \"y\": {\"type\": \"quantitative\", \"field\": \"y\"}}, \"height\": 200, \"width\": 900}, {\"data\": {\"url\": \"http://localhost:16820/072dd79d5c3c4fc032fb1cd2765822e8.json\"}, \"mark\": {\"type\": \"line\", \"color\": \"rgb(175,91,92)\", \"opacity\": 1, \"strokeWidth\": 2}, \"encoding\": {\"x\": {\"type\": \"temporal\", \"field\": \"x\"}, \"y\": {\"type\": \"quantitative\", \"field\": \"y\"}}, \"height\": 200, \"width\": 900}], \"$schema\": \"https://vega.github.io/schema/vega-lite/v4.8.1.json\"}, {\"actions\": false, \"mode\": \"vega-lite\"});\n",
       "</script>"
      ],
      "text/plain": [
       "alt.LayerChart(...)"
      ]
     },
     "execution_count": 17,
     "metadata": {},
     "output_type": "execute_result"
    }
   ],
   "source": [
    "x = mtbs['time']\n",
    "y1 = mtbs['vlf'].mean(['x', 'y'])\n",
    "y2 = prediction['prob'].mean(['x', 'y'])\n",
    "\n",
    "(plot.line(x=x, y=y1, width=900, height=200, opacity=0.5, color='rgb(175,91,92)', strokeWidth=2)\n",
    "+ plot.line(x=x, y=y2, width=900, height=200, color='rgb(175,91,92)', strokeWidth=2))"
   ]
  },
  {
   "cell_type": "markdown",
   "metadata": {},
   "source": [
    "Given that we fit a logistic regression, the natural model performance metric is area under the ROC curve, which we computed on the training data (you can use the variable `crossval` to repeat the model fit and compute a score on 25% held out data)."
   ]
  },
  {
   "cell_type": "code",
   "execution_count": 18,
   "metadata": {},
   "outputs": [
    {
     "data": {
      "text/plain": [
       "0.8791616999957409"
      ]
     },
     "execution_count": 18,
     "metadata": {},
     "output_type": "execute_result"
    }
   ],
   "source": [
    "model.train_roc"
   ]
  },
  {
   "cell_type": "markdown",
   "metadata": {},
   "source": [
    "Finally, we can compute correlations between model and prediction for annual, seasonal, and spatial trends. Note that these were not metrics used to explicitly fit the model, but in general a better fitting model ought to reproduce at least some of these trends."
   ]
  },
  {
   "cell_type": "code",
   "execution_count": 19,
   "metadata": {},
   "outputs": [
    {
     "name": "stdout",
     "output_type": "stream",
     "text": [
      "correlation of annual trends\n"
     ]
    },
    {
     "data": {
      "text/plain": [
       "0.7704952520953599"
      ]
     },
     "execution_count": 19,
     "metadata": {},
     "output_type": "execute_result"
    }
   ],
   "source": [
    "print('correlation of annual trends')\n",
    "np.corrcoef(\n",
    "    mtbs['vlf'].groupby('time.year').mean().mean(['x', 'y']),\n",
    "    prediction['prob'].groupby('time.year').mean().mean(['x', 'y'])\n",
    ")[0,1]"
   ]
  },
  {
   "cell_type": "code",
   "execution_count": 20,
   "metadata": {},
   "outputs": [
    {
     "name": "stdout",
     "output_type": "stream",
     "text": [
      "correlation of monthly trends\n"
     ]
    },
    {
     "data": {
      "text/plain": [
       "0.9227232913428375"
      ]
     },
     "execution_count": 20,
     "metadata": {},
     "output_type": "execute_result"
    }
   ],
   "source": [
    "print('correlation of monthly trends')\n",
    "np.corrcoef(\n",
    "    mtbs['vlf'].groupby('time.month').mean().mean(['x', 'y']),\n",
    "    prediction['prob'].groupby('time.month').mean().mean(['x', 'y'])\n",
    ")[0,1]"
   ]
  },
  {
   "cell_type": "code",
   "execution_count": 21,
   "metadata": {},
   "outputs": [
    {
     "name": "stdout",
     "output_type": "stream",
     "text": [
      "correlation of spatial trends\n"
     ]
    },
    {
     "data": {
      "text/plain": [
       "0.45351626458092403"
      ]
     },
     "execution_count": 21,
     "metadata": {},
     "output_type": "execute_result"
    }
   ],
   "source": [
    "print('correlation of spatial trends')\n",
    "np.corrcoef(\n",
    "    mtbs['vlf'].mean('time').values.flatten(),\n",
    "    prediction['prob'].mean('time').values.flatten()\n",
    ")[0,1]"
   ]
  }
 ],
 "metadata": {
  "kernelspec": {
   "display_name": "Python 3",
   "language": "python",
   "name": "python3"
  },
  "language_info": {
   "codemirror_mode": {
    "name": "ipython",
    "version": 3
   },
   "file_extension": ".py",
   "mimetype": "text/x-python",
   "name": "python",
   "nbconvert_exporter": "python",
   "pygments_lexer": "ipython3",
   "version": "3.8.5"
  }
 },
 "nbformat": 4,
 "nbformat_minor": 4
}
