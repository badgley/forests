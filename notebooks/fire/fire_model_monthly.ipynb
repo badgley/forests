{
 "cells": [
  {
   "cell_type": "markdown",
   "metadata": {},
   "source": [
    "<img width=\"50\" src=\"https://carbonplan-assets.s3.amazonaws.com/monogram/dark-small.png\" style=\"margin-left:0px;margin-top:20px\"/>\n",
    "\n",
    "# MTBS Fire Model\n",
    "\n",
    "_by Jeremy Freeman (CarbonPlan), September 19, 2020_\n",
    "\n",
    "This notebook loads downsampled MTBS fire data and TerraClimate climate data and fits a logistical regression model."
   ]
  },
  {
   "cell_type": "code",
   "execution_count": 1,
   "metadata": {},
   "outputs": [],
   "source": [
    "import numpy as np\n",
    "import pandas as pd\n",
    "import scipy as sp\n",
    "from carbonplan_forests import load, setup, plot, fit"
   ]
  },
  {
   "cell_type": "code",
   "execution_count": 2,
   "metadata": {},
   "outputs": [],
   "source": [
    "setup.plotting()"
   ]
  },
  {
   "cell_type": "markdown",
   "metadata": {},
   "source": [
    "First we set some top-level parameters: the level of spatial coarsening (which can speed up fitting substantially, especially useful when testing), the time range (MTBS spans 1984 to 2018), and the climatic variables we'll use in the model."
   ]
  },
  {
   "cell_type": "code",
   "execution_count": 3,
   "metadata": {},
   "outputs": [],
   "source": [
    "coarsen = 16\n",
    "tlim = (1984, 2018)\n",
    "data_vars = ['ppt', 'tavg']"
   ]
  },
  {
   "cell_type": "markdown",
   "metadata": {},
   "source": [
    "First we load data from `nlcd` which we will use to mask out non-land areas and data from `nftd` to use a regressors for forest type groups."
   ]
  },
  {
   "cell_type": "code",
   "execution_count": 4,
   "metadata": {},
   "outputs": [],
   "source": [
    "mask = load.nlcd(store='local', classes='all', year=2001)\n",
    "groups = load.nftd(store='local', groups='all', coarsen=coarsen, mask=mask, area_threshold=1500)"
   ]
  },
  {
   "cell_type": "markdown",
   "metadata": {},
   "source": [
    "Now we load the `terraclim` data from the same time range."
   ]
  },
  {
   "cell_type": "code",
   "execution_count": 5,
   "metadata": {
    "scrolled": true
   },
   "outputs": [],
   "source": [
    "climate = load.terraclim(store='local', tlim=tlim, coarsen=coarsen, data_vars=data_vars, mask=mask)"
   ]
  },
  {
   "cell_type": "markdown",
   "metadata": {},
   "source": [
    "And finally load the `mtbs` data, setting all non-zero values to 1 as setup for our logistic model."
   ]
  },
  {
   "cell_type": "code",
   "execution_count": null,
   "metadata": {},
   "outputs": [],
   "source": [
    "mtbs = load.mtbs(store='local', coarsen=coarsen, tlim=tlim)\n",
    "mtbs['vlf'] = mtbs['vlf'] > 0"
   ]
  },
  {
   "cell_type": "markdown",
   "metadata": {},
   "source": [
    "### Inspecting the data"
   ]
  },
  {
   "cell_type": "markdown",
   "metadata": {},
   "source": [
    "We can plot the `mtbs` data for a specific year to get a sense of the raw data."
   ]
  },
  {
   "cell_type": "code",
   "execution_count": null,
   "metadata": {},
   "outputs": [],
   "source": [
    "plot.fire.monthly(mtbs.sel(time='2017'), 'vlf', clim=(0, 1))"
   ]
  },
  {
   "cell_type": "markdown",
   "metadata": {},
   "source": [
    "Here is the same thing but averaged over all years"
   ]
  },
  {
   "cell_type": "code",
   "execution_count": null,
   "metadata": {},
   "outputs": [],
   "source": [
    "plot.fire.monthly(mtbs, 'vlf', clim=(0, 0.1))"
   ]
  },
  {
   "cell_type": "markdown",
   "metadata": {},
   "source": [
    "We can plot spatially averaged data over time to see both seasonable trends, and the fact that fire frequency and magnitude has increased over time."
   ]
  },
  {
   "cell_type": "code",
   "execution_count": null,
   "metadata": {},
   "outputs": [],
   "source": [
    "x = mtbs['time']\n",
    "y = mtbs['vlf'].mean(['x', 'y'])\n",
    "\n",
    "plot.line(x=x, y=y, width=900, height=200, color='rgb(175,91,92)', strokeWidth=2)"
   ]
  },
  {
   "cell_type": "markdown",
   "metadata": {},
   "source": [
    "We can summarize the data by plotting annual, seasonal, and spatial trends by averaging across different groupings and dimensions."
   ]
  },
  {
   "cell_type": "code",
   "execution_count": null,
   "metadata": {},
   "outputs": [],
   "source": [
    "plot.fire.summary(mtbs, 'vlf', clim=(0, 0.05))"
   ]
  },
  {
   "cell_type": "markdown",
   "metadata": {},
   "source": [
    "As a motivation for fitting fires as functions of climatic variables, we can look at spatially averaged climatic variables alongside fires, e.g. average tempreature, and see that there is a clear relationship (in this case a positive correlation)."
   ]
  },
  {
   "cell_type": "code",
   "execution_count": null,
   "metadata": {},
   "outputs": [],
   "source": [
    "x = mtbs.groupby('time.year').mean()['year']\n",
    "y1 = mtbs['vlf'].groupby('time.year').mean().mean(['x','y'])\n",
    "y2 = climate['tavg'].groupby('time.year').mean().mean(['x', 'y'])\n",
    "\n",
    "(\n",
    "    plot.line(x=x, y=sp.stats.zscore(y1), color='rgb(175,91,92)')\n",
    "    + plot.line(x=x, y=sp.stats.zscore(y2), color='rgb(175,91,92)', opacity=0.5)\n",
    ")"
   ]
  },
  {
   "cell_type": "markdown",
   "metadata": {},
   "source": [
    "### Fitting the model"
   ]
  },
  {
   "cell_type": "markdown",
   "metadata": {},
   "source": [
    "We'll define the variables to use in the model"
   ]
  },
  {
   "cell_type": "code",
   "execution_count": null,
   "metadata": {},
   "outputs": [],
   "source": [
    "fit_vars = ['tavg', 'ppt']"
   ]
  },
  {
   "cell_type": "markdown",
   "metadata": {},
   "source": [
    "Then we fit it by providing both the climate variables and the forest type groups. We distinguish the two sets of input variables because the climate variables change over time by the groups do not."
   ]
  },
  {
   "cell_type": "code",
   "execution_count": null,
   "metadata": {},
   "outputs": [],
   "source": [
    "model = fit.fire(x=climate[fit_vars], y=mtbs['vlf'], f=groups)"
   ]
  },
  {
   "cell_type": "markdown",
   "metadata": {},
   "source": [
    "We can evaluate the fitting model on arbitrary new inputs. In this case, we evaluate on the data we used to fit."
   ]
  },
  {
   "cell_type": "code",
   "execution_count": null,
   "metadata": {},
   "outputs": [],
   "source": [
    "prediction = model.predict(x=climate[fit_vars], f=groups)"
   ]
  },
  {
   "cell_type": "markdown",
   "metadata": {},
   "source": [
    "We can plot the predictions monthly just as we plotted the real data."
   ]
  },
  {
   "cell_type": "code",
   "execution_count": null,
   "metadata": {},
   "outputs": [],
   "source": [
    "plot.fire.monthly(prediction, 'prob', clim=(0.005, 0.025))"
   ]
  },
  {
   "cell_type": "markdown",
   "metadata": {},
   "source": [
    "And we can plot the same summary of trends but now with both data and model"
   ]
  },
  {
   "cell_type": "code",
   "execution_count": null,
   "metadata": {},
   "outputs": [],
   "source": [
    "plot.fire.evaluation(mtbs, prediction, 'vlf', 'prob', clim=(0.004, 0.02))"
   ]
  },
  {
   "cell_type": "markdown",
   "metadata": {},
   "source": [
    "We can also compare the predicted and real probabilities over time."
   ]
  },
  {
   "cell_type": "code",
   "execution_count": null,
   "metadata": {},
   "outputs": [],
   "source": [
    "x = mtbs['time']\n",
    "y1 = mtbs['vlf'].mean(['x', 'y'])\n",
    "y2 = prediction['prob'].mean(['x', 'y'])\n",
    "\n",
    "(plot.line(x=x, y=y1, width=900, height=200, opacity=0.5, color='rgb(175,91,92)', strokeWidth=2)\n",
    "+ plot.line(x=x, y=y2, width=900, height=200, color='rgb(175,91,92)', strokeWidth=2))"
   ]
  },
  {
   "cell_type": "markdown",
   "metadata": {},
   "source": [
    "Given that we fit a logistic regression, the natural model performance metric is area under the ROC curve, which we computed on the training data (you can use the variable `crossval` to repeat the model fit and compute a score on 25% held out data)."
   ]
  },
  {
   "cell_type": "code",
   "execution_count": null,
   "metadata": {},
   "outputs": [],
   "source": [
    "model.train_roc"
   ]
  },
  {
   "cell_type": "markdown",
   "metadata": {},
   "source": [
    "Finally, we can compute correlations between model and prediction for annual, seasonal, and spatial trends. Note that these were not metrics used to explicitly fit the model, but in general a better fitting model ought to reproduce at least some of these trends."
   ]
  },
  {
   "cell_type": "code",
   "execution_count": null,
   "metadata": {},
   "outputs": [],
   "source": [
    "print('correlation of annual trends')\n",
    "np.corrcoef(\n",
    "    mtbs['vlf'].groupby('time.year').mean().mean(['x', 'y']),\n",
    "    prediction['prob'].groupby('time.year').mean().mean(['x', 'y'])\n",
    ")[0,1]"
   ]
  },
  {
   "cell_type": "code",
   "execution_count": null,
   "metadata": {},
   "outputs": [],
   "source": [
    "print('correlation of monthly trends')\n",
    "np.corrcoef(\n",
    "    mtbs['vlf'].groupby('time.month').mean().mean(['x', 'y']),\n",
    "    prediction['prob'].groupby('time.month').mean().mean(['x', 'y'])\n",
    ")[0,1]"
   ]
  },
  {
   "cell_type": "code",
   "execution_count": null,
   "metadata": {},
   "outputs": [],
   "source": [
    "print('correlation of spatial trends')\n",
    "np.corrcoef(\n",
    "    mtbs['vlf'].mean('time').values.flatten(),\n",
    "    prediction['prob'].mean('time').values.flatten()\n",
    ")[0,1]"
   ]
  }
 ],
 "metadata": {
  "kernelspec": {
   "display_name": "Python 3",
   "language": "python",
   "name": "python3"
  },
  "language_info": {
   "codemirror_mode": {
    "name": "ipython",
    "version": 3
   },
   "file_extension": ".py",
   "mimetype": "text/x-python",
   "name": "python",
   "nbconvert_exporter": "python",
   "pygments_lexer": "ipython3",
   "version": "3.8.5"
  }
 },
 "nbformat": 4,
 "nbformat_minor": 4
}
