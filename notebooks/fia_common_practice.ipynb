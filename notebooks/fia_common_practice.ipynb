{
 "cells": [
  {
   "cell_type": "code",
   "execution_count": 1,
   "metadata": {},
   "outputs": [],
   "source": [
    "import dask.array as da\n",
    "import dask.dataframe as dd\n",
    "import networkx as nx\n",
    "import numpy as np\n",
    "import pandas as pd\n",
    "\n",
    "import intake\n",
    "\n",
    "import warnings\n",
    "warnings.filterwarnings('ignore') # for now, warnings were tipping over jhub"
   ]
  },
  {
   "cell_type": "code",
   "execution_count": 2,
   "metadata": {},
   "outputs": [],
   "source": [
    "def generate_uids(data, prev_cn_var='PREV_PLT_CN'):\n",
    "    \"\"\"\n",
    "    Generate dict mapping ever CN to a unique group, allows tracking single plot/tree through time\n",
    "    Can change `prev_cn_var` to apply to tree (etc)\n",
    "    \"\"\"\n",
    "    g = nx.Graph()\n",
    "    for row in data[['CN', prev_cn_var]].itertuples():\n",
    "        if ~np.isnan(row.PREV_PLT_CN):\n",
    "            g.add_edge(row.CN, row.PREV_PLT_CN)\n",
    "        else:\n",
    "            g.add_node(row.CN)\n",
    "\n",
    "    uids = {} \n",
    "    for uid, subgraph in enumerate(nx.connected_components(g)):\n",
    "        for node in subgraph:\n",
    "            uids[node] = uid\n",
    "    return uids\n",
    "\n",
    "def is_monospecific(data, threshold=0.75): \n",
    "    \"\"\" if > threshold is single species, return species code\n",
    "    \"\"\"\n",
    "    pass\n",
    "\n",
    "def tree_stats(df):\n",
    "    idx = (df[\"STATUSCD\"] == 1) & (df[\"DIA\"] > 1.0) & (df[\"DIACHECK\"] == 0)\n",
    "    out = pd.Series(\n",
    "        np.full(6, np.nan), index=[\"DIA\", \"HT\", \"TOTAGE\", \"SITREE\", \"BIOMASS\", \"BALIVE\"]\n",
    "    )\n",
    "    if sum(idx) > 0:\n",
    "        out[\"DIA\"] = np.nanmean(df[\"DIA\"][idx])\n",
    "        out[\"HT\"] = np.nanmean(df[\"HT\"][idx])\n",
    "        out[\"TOTAGE\"] = np.nanmean(df[\"TOTAGE\"][idx])\n",
    "        out[\"SITREE\"] = np.nanmean(df[\"SITREE\"][idx])\n",
    "        out[\"BIOMASS\"] = np.nansum((df[\"CARBON_AG\"][idx] * 2) * df[\"TPA_UNADJ\"][idx])\n",
    "        out[\"BALIVE\"] = np.nansum(\n",
    "            ((df[\"DIA\"][idx] ** 2) * 0.005454) * df[\"TPA_UNADJ\"][idx]\n",
    "        )\n",
    "    return out\n",
    " "
   ]
  },
  {
   "cell_type": "code",
   "execution_count": 3,
   "metadata": {},
   "outputs": [],
   "source": [
    "tree_df = intake.cat.fia.raw_table(name='tree').to_dask()\n",
    "plt_df = intake.cat.fia.raw_table(name='plot').to_dask()\n",
    "cond_df = intake.cat.fia.raw_table(name='cond').to_dask()"
   ]
  },
  {
   "cell_type": "code",
   "execution_count": 7,
   "metadata": {},
   "outputs": [],
   "source": [
    "tree_usevars = [\n",
    "    \"DIA\",\n",
    "    \"HT\",\n",
    "    \"TOTAGE\",\n",
    "    \"SITREE\",\n",
    "    \"TPA_UNADJ\",\n",
    "    \"CARBON_AG\",\n",
    "    \"STATUSCD\",\n",
    "    \"DIACHECK\",\n",
    "]\n",
    "\n",
    "cond_vars = [\n",
    "        \"STDAGE\",\n",
    "        \"BALIVE\",\n",
    "        \"SICOND\",\n",
    "        \"SISP\",\n",
    "        \"FORTYPCD\",\n",
    "        \"DSTRBCD1\",\n",
    "        \"DSTRBYR1\",\n",
    "        \"CONDPROP_UNADJ\",\n",
    "    ]"
   ]
  },
  {
   "cell_type": "code",
   "execution_count": null,
   "metadata": {},
   "outputs": [],
   "source": [
    "for state_id in [1]:\n",
    "#for state_id in range(1,73):\n",
    "\n",
    "    state_plt = plt_df[plt_df[\"STATECD\"] == state_id].compute()\n",
    "    if len(state_plt) > 0:\n",
    "        state_cond = cond_df[cond_df[\"STATECD\"] == state_id].compute()\n",
    "        state_tree = tree_df.loc[tree_df[\"STATECD\"] == state_id, tree_usevars].compute()\n",
    "\n",
    "        cond_agg = state_cond.groupby([\"PLT_CN\", \"CONDID\"])[cond_vars].max()\n",
    "        tree_agg = state_tree.groupby([\"PLT_CN\", \"CONDID\"]).apply(tree_stats)\n",
    "        \n",
    "        plt_uids = generate_uids(state_plt)\n",
    "\n",
    "        agg = pd.merge(cond_agg, tree_agg, left_index=True, right_index=True).reset_index(level=1)\n",
    "        agg = agg.join(state_plt.set_index('CN')[['LAT', 'LON', 'ELEV', 'INVYR']], )\n",
    "        agg['plt_uid'] = agg.index.map(plt_uids)\n",
    "        #agg.to_parquet(f\"gs://carbonplan-scratch/fia_{state_id}.parquet\")"
   ]
  },
  {
   "cell_type": "code",
   "execution_count": null,
   "metadata": {},
   "outputs": [],
   "source": []
  }
 ],
 "metadata": {
  "kernelspec": {
   "display_name": "Python 3",
   "language": "python",
   "name": "python3"
  },
  "language_info": {
   "codemirror_mode": {
    "name": "ipython",
    "version": 3
   },
   "file_extension": ".py",
   "mimetype": "text/x-python",
   "name": "python",
   "nbconvert_exporter": "python",
   "pygments_lexer": "ipython3",
   "version": "3.7.8"
  }
 },
 "nbformat": 4,
 "nbformat_minor": 4
}
