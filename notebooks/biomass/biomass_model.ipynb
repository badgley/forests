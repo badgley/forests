{
 "cells": [
  {
   "cell_type": "markdown",
   "metadata": {},
   "source": [
    "<img width=\"50\" src=\"https://carbonplan-assets.s3.amazonaws.com/monogram/dark-small.png\" style=\"margin-left:0px;margin-top:20px\"/>\n",
    "\n",
    "# FIA Biomass Model\n",
    "\n",
    "_by Jeremy Freeman (CarbonPlan), September 19, 2020_\n",
    "\n",
    "This notebook show examples of fitting predictive biomass growth curves from FIA data\n"
   ]
  },
  {
   "cell_type": "code",
   "execution_count": 1,
   "metadata": {},
   "outputs": [],
   "source": [
    "import numpy as np\n",
    "import pandas as pd\n",
    "from carbonplan_forests import load, setup, plot, fit"
   ]
  },
  {
   "cell_type": "code",
   "execution_count": 2,
   "metadata": {},
   "outputs": [],
   "source": [
    "setup.plotting()"
   ]
  },
  {
   "cell_type": "markdown",
   "metadata": {},
   "source": [
    "First we load the data. To speed things up, we'll just load data from California. We load the raw FIA data, as well as two climatic variables `tavg` and `ppt` from the terraclim dataset. "
   ]
  },
  {
   "cell_type": "code",
   "execution_count": 3,
   "metadata": {},
   "outputs": [],
   "source": [
    "df = load.fia(store='local', states='CA')\n",
    "df = load.terraclim(\n",
    "    store='local',\n",
    "    tlim=(2000, 2020),\n",
    "    data_vars=['tavg', 'ppt'],\n",
    "    data_aggs=['mean', 'sum'],\n",
    "    df=df,\n",
    ")"
   ]
  },
  {
   "cell_type": "markdown",
   "metadata": {},
   "source": [
    "We'll now pick a single forest type and plot biomass vs age colored by our climatic variables"
   ]
  },
  {
   "cell_type": "code",
   "execution_count": 11,
   "metadata": {},
   "outputs": [
    {
     "data": {
      "text/plain": [
       "array([924, 185, 368, 225, 281, 221, 262, 922, 371, 261, 271, 201, 941,\n",
       "       341, 923, 911, 933, 962, 369, 184, 974, 934, 367, 270, 901, 366,\n",
       "       305, 801, 301, 704, 973, 976, 972, 267, 125, 709])"
      ]
     },
     "execution_count": 11,
     "metadata": {},
     "output_type": "execute_result"
    }
   ],
   "source": [
    "df['type_code'].unique()"
   ]
  },
  {
   "cell_type": "code",
   "execution_count": 24,
   "metadata": {},
   "outputs": [
    {
     "data": {
      "text/html": [
       "\n",
       "<div id=\"altair-viz-005dd1db6eb84e2080f6f33b08c21fd7\"></div>\n",
       "<script type=\"text/javascript\">\n",
       "  (function(spec, embedOpt){\n",
       "    let outputDiv = document.currentScript.previousElementSibling;\n",
       "    if (outputDiv.id !== \"altair-viz-005dd1db6eb84e2080f6f33b08c21fd7\") {\n",
       "      outputDiv = document.getElementById(\"altair-viz-005dd1db6eb84e2080f6f33b08c21fd7\");\n",
       "    }\n",
       "    const paths = {\n",
       "      \"vega\": \"https://cdn.jsdelivr.net/npm//vega@5?noext\",\n",
       "      \"vega-lib\": \"https://cdn.jsdelivr.net/npm//vega-lib?noext\",\n",
       "      \"vega-lite\": \"https://cdn.jsdelivr.net/npm//vega-lite@4.8.1?noext\",\n",
       "      \"vega-embed\": \"https://cdn.jsdelivr.net/npm//vega-embed@6?noext\",\n",
       "    };\n",
       "\n",
       "    function loadScript(lib) {\n",
       "      return new Promise(function(resolve, reject) {\n",
       "        var s = document.createElement('script');\n",
       "        s.src = paths[lib];\n",
       "        s.async = true;\n",
       "        s.onload = () => resolve(paths[lib]);\n",
       "        s.onerror = () => reject(`Error loading script: ${paths[lib]}`);\n",
       "        document.getElementsByTagName(\"head\")[0].appendChild(s);\n",
       "      });\n",
       "    }\n",
       "\n",
       "    function showError(err) {\n",
       "      outputDiv.innerHTML = `<div class=\"error\" style=\"color:red;\">${err}</div>`;\n",
       "      throw err;\n",
       "    }\n",
       "\n",
       "    function displayChart(vegaEmbed) {\n",
       "      vegaEmbed(outputDiv, spec, embedOpt)\n",
       "        .catch(err => showError(`Javascript Error: ${err.message}<br>This usually means there's a typo in your chart specification. See the javascript console for the full traceback.`));\n",
       "    }\n",
       "\n",
       "    if(typeof define === \"function\" && define.amd) {\n",
       "      requirejs.config({paths});\n",
       "      require([\"vega-embed\"], displayChart, err => showError(`Error loading script: ${err.message}`));\n",
       "    } else if (typeof vegaEmbed === \"function\") {\n",
       "      displayChart(vegaEmbed);\n",
       "    } else {\n",
       "      loadScript(\"vega\")\n",
       "        .then(() => loadScript(\"vega-lite\"))\n",
       "        .then(() => loadScript(\"vega-embed\"))\n",
       "        .catch(showError)\n",
       "        .then(() => displayChart(vegaEmbed));\n",
       "    }\n",
       "  })({\"config\": {\"view\": {\"continuousWidth\": 400, \"continuousHeight\": 300}}, \"hconcat\": [{\"data\": {\"url\": \"http://localhost:22022/d020cc814f7b108662b2fe456efa02fb.json\"}, \"mark\": {\"type\": \"circle\", \"size\": 42}, \"encoding\": {\"color\": {\"type\": \"quantitative\", \"field\": \"color\", \"legend\": {\"title\": \"tavg_mean_mean\"}, \"scale\": {\"scheme\": \"magma\"}}, \"x\": {\"type\": \"quantitative\", \"axis\": {\"title\": \"age\"}, \"field\": \"x\", \"scale\": {\"clamp\": true, \"domain\": [0, 250]}}, \"y\": {\"type\": \"quantitative\", \"axis\": {\"title\": \"biomass\"}, \"field\": \"y\", \"scale\": {\"clamp\": true, \"domain\": [0, 600]}}}, \"height\": 300, \"width\": 350}, {\"data\": {\"url\": \"http://localhost:22022/71868ed9cc265707fa9c4f85cde8ce28.json\"}, \"mark\": {\"type\": \"circle\", \"size\": 42}, \"encoding\": {\"color\": {\"type\": \"quantitative\", \"field\": \"color\", \"legend\": {\"title\": \"ppt_sum_mean\"}, \"scale\": {\"scheme\": \"viridis\"}}, \"x\": {\"type\": \"quantitative\", \"axis\": {\"title\": \"age\"}, \"field\": \"x\", \"scale\": {\"clamp\": true, \"domain\": [0, 250]}}, \"y\": {\"type\": \"quantitative\", \"axis\": {\"title\": \"biomass\"}, \"field\": \"y\", \"scale\": {\"clamp\": true, \"domain\": [0, 600]}}}, \"height\": 300, \"width\": 350}], \"resolve\": {\"scale\": {\"color\": \"independent\"}}, \"$schema\": \"https://vega.github.io/schema/vega-lite/v4.8.1.json\"}, {\"actions\": false, \"mode\": \"vega-lite\"});\n",
       "</script>"
      ],
      "text/plain": [
       "alt.HConcatChart(...)"
      ]
     },
     "execution_count": 24,
     "metadata": {},
     "output_type": "execute_result"
    }
   ],
   "source": [
    "inds = (df[\"type_code\"] == 923) & (df[\"state\"] == \"CA\")\n",
    "x = df[inds][\"age\"]\n",
    "y = df[inds][\"biomass\"]\n",
    "f = [df[inds][\"tavg_mean_mean\"], df[inds][\"ppt_sum_mean\"]]\n",
    "(\n",
    "    plot.xy(x=x, y=y, color=f[0], cmap=\"magma\", xlim=[0, 250], ylim=[0, 600])\n",
    "    | plot.xy(x=x, y=y, color=f[1], cmap='viridis', xlim=[0, 250], ylim=[0, 600])\n",
    ").resolve_scale(color=\"independent\")"
   ]
  },
  {
   "cell_type": "markdown",
   "metadata": {},
   "source": [
    "To fit the model to these data we use the `fit.biomass` method"
   ]
  },
  {
   "cell_type": "code",
   "execution_count": 5,
   "metadata": {},
   "outputs": [],
   "source": [
    "model = fit.biomass(x=x, y=y, f=f, noise=\"gamma\")"
   ]
  },
  {
   "cell_type": "markdown",
   "metadata": {},
   "source": [
    "We can evaluate `r2` on the training data"
   ]
  },
  {
   "cell_type": "code",
   "execution_count": 6,
   "metadata": {},
   "outputs": [
    {
     "data": {
      "text/plain": [
       "0.3216490563169261"
      ]
     },
     "execution_count": 6,
     "metadata": {},
     "output_type": "execute_result"
    }
   ],
   "source": [
    "model.r2(x, f, y)"
   ]
  },
  {
   "cell_type": "markdown",
   "metadata": {},
   "source": [
    "And we can plot the fitted curves. When plotting, we show curves for different levels of the climatic variables, to show the form of dependency."
   ]
  },
  {
   "cell_type": "code",
   "execution_count": 7,
   "metadata": {},
   "outputs": [
    {
     "data": {
      "text/html": [
       "\n",
       "<div id=\"altair-viz-f04200cbed2f4b209bfd42a7c467d9eb\"></div>\n",
       "<script type=\"text/javascript\">\n",
       "  (function(spec, embedOpt){\n",
       "    let outputDiv = document.currentScript.previousElementSibling;\n",
       "    if (outputDiv.id !== \"altair-viz-f04200cbed2f4b209bfd42a7c467d9eb\") {\n",
       "      outputDiv = document.getElementById(\"altair-viz-f04200cbed2f4b209bfd42a7c467d9eb\");\n",
       "    }\n",
       "    const paths = {\n",
       "      \"vega\": \"https://cdn.jsdelivr.net/npm//vega@5?noext\",\n",
       "      \"vega-lib\": \"https://cdn.jsdelivr.net/npm//vega-lib?noext\",\n",
       "      \"vega-lite\": \"https://cdn.jsdelivr.net/npm//vega-lite@4.8.1?noext\",\n",
       "      \"vega-embed\": \"https://cdn.jsdelivr.net/npm//vega-embed@6?noext\",\n",
       "    };\n",
       "\n",
       "    function loadScript(lib) {\n",
       "      return new Promise(function(resolve, reject) {\n",
       "        var s = document.createElement('script');\n",
       "        s.src = paths[lib];\n",
       "        s.async = true;\n",
       "        s.onload = () => resolve(paths[lib]);\n",
       "        s.onerror = () => reject(`Error loading script: ${paths[lib]}`);\n",
       "        document.getElementsByTagName(\"head\")[0].appendChild(s);\n",
       "      });\n",
       "    }\n",
       "\n",
       "    function showError(err) {\n",
       "      outputDiv.innerHTML = `<div class=\"error\" style=\"color:red;\">${err}</div>`;\n",
       "      throw err;\n",
       "    }\n",
       "\n",
       "    function displayChart(vegaEmbed) {\n",
       "      vegaEmbed(outputDiv, spec, embedOpt)\n",
       "        .catch(err => showError(`Javascript Error: ${err.message}<br>This usually means there's a typo in your chart specification. See the javascript console for the full traceback.`));\n",
       "    }\n",
       "\n",
       "    if(typeof define === \"function\" && define.amd) {\n",
       "      requirejs.config({paths});\n",
       "      require([\"vega-embed\"], displayChart, err => showError(`Error loading script: ${err.message}`));\n",
       "    } else if (typeof vegaEmbed === \"function\") {\n",
       "      displayChart(vegaEmbed);\n",
       "    } else {\n",
       "      loadScript(\"vega\")\n",
       "        .then(() => loadScript(\"vega-lite\"))\n",
       "        .then(() => loadScript(\"vega-embed\"))\n",
       "        .catch(showError)\n",
       "        .then(() => displayChart(vegaEmbed));\n",
       "    }\n",
       "  })({\"config\": {\"view\": {\"continuousWidth\": 400, \"continuousHeight\": 300}}, \"hconcat\": [{\"layer\": [{\"data\": {\"url\": \"http://localhost:22022/16fdfe6cd2020a1ac0f59b687eca594b.json\"}, \"mark\": {\"type\": \"circle\", \"size\": 42}, \"encoding\": {\"color\": {\"type\": \"quantitative\", \"field\": \"color\", \"legend\": {\"title\": \"tavg_mean_mean\"}, \"scale\": {\"scheme\": \"magma\"}}, \"x\": {\"type\": \"quantitative\", \"axis\": {\"title\": \"age\"}, \"field\": \"x\", \"scale\": {\"clamp\": true, \"domain\": [0, 250]}}, \"y\": {\"type\": \"quantitative\", \"axis\": {\"title\": \"biomass\"}, \"field\": \"y\", \"scale\": {\"clamp\": true, \"domain\": [0, 600]}}}, \"height\": 300, \"width\": 350}, {\"data\": {\"url\": \"http://localhost:22022/191f8e1f6202b059822477b8f3903647.json\"}, \"mark\": {\"type\": \"line\", \"opacity\": 1, \"strokeWidth\": 2}, \"encoding\": {\"color\": {\"type\": \"quantitative\", \"field\": \"color\", \"scale\": {\"scheme\": \"viridis\"}}, \"x\": {\"type\": \"quantitative\", \"field\": \"x\"}, \"y\": {\"type\": \"quantitative\", \"field\": \"y\"}}, \"height\": 200, \"width\": 350}, {\"data\": {\"url\": \"http://localhost:22022/c6d1bfaf9bfd6e11c17dd209a6ef8d9e.json\"}, \"mark\": {\"type\": \"line\", \"opacity\": 1, \"strokeWidth\": 2}, \"encoding\": {\"color\": {\"type\": \"quantitative\", \"field\": \"color\", \"scale\": {\"scheme\": \"viridis\"}}, \"x\": {\"type\": \"quantitative\", \"field\": \"x\"}, \"y\": {\"type\": \"quantitative\", \"field\": \"y\"}}, \"height\": 200, \"width\": 350}]}, {\"layer\": [{\"data\": {\"url\": \"http://localhost:22022/ba7cff985c2ddfd1638c0c64f62bda9f.json\"}, \"mark\": {\"type\": \"circle\", \"size\": 42}, \"encoding\": {\"color\": {\"type\": \"quantitative\", \"field\": \"color\", \"legend\": {\"title\": \"ppt_sum_mean\"}, \"scale\": {\"scheme\": \"viridis\"}}, \"x\": {\"type\": \"quantitative\", \"axis\": {\"title\": \"age\"}, \"field\": \"x\", \"scale\": {\"clamp\": true, \"domain\": [0, 250]}}, \"y\": {\"type\": \"quantitative\", \"axis\": {\"title\": \"biomass\"}, \"field\": \"y\", \"scale\": {\"clamp\": true, \"domain\": [0, 600]}}}, \"height\": 300, \"width\": 350}, {\"data\": {\"url\": \"http://localhost:22022/60eb86ba3becd22b9f4f389b4020e39a.json\"}, \"mark\": {\"type\": \"line\", \"opacity\": 1, \"strokeWidth\": 2}, \"encoding\": {\"color\": {\"type\": \"quantitative\", \"field\": \"color\", \"scale\": {\"scheme\": \"viridis\"}}, \"x\": {\"type\": \"quantitative\", \"field\": \"x\"}, \"y\": {\"type\": \"quantitative\", \"field\": \"y\"}}, \"height\": 200, \"width\": 350}, {\"data\": {\"url\": \"http://localhost:22022/cbc3553ecf42cd0ec8c912c7c0ef4a83.json\"}, \"mark\": {\"type\": \"line\", \"opacity\": 1, \"strokeWidth\": 2}, \"encoding\": {\"color\": {\"type\": \"quantitative\", \"field\": \"color\", \"scale\": {\"scheme\": \"viridis\"}}, \"x\": {\"type\": \"quantitative\", \"field\": \"x\"}, \"y\": {\"type\": \"quantitative\", \"field\": \"y\"}}, \"height\": 200, \"width\": 350}]}], \"resolve\": {\"scale\": {\"color\": \"independent\"}}, \"$schema\": \"https://vega.github.io/schema/vega-lite/v4.8.1.json\"}, {\"actions\": false, \"mode\": \"vega-lite\"});\n",
       "</script>"
      ],
      "text/plain": [
       "alt.HConcatChart(...)"
      ]
     },
     "execution_count": 7,
     "metadata": {},
     "output_type": "execute_result"
    }
   ],
   "source": [
    "xlim = [0, 250]\n",
    "ylim = [0, 600]\n",
    "(\n",
    "    (\n",
    "        plot.xy(x=x, y=y, color=f[0], cmap=\"magma\", xlim=xlim, ylim=ylim)\n",
    "        + plot.line(x=x, y=model.predict(x, f, [90, 50]), color=np.nanpercentile(f[0], 90))\n",
    "        + plot.line(x=x, y=model.predict(x, f, [10, 50]), color=np.nanpercentile(f[0], 10))\n",
    "    )\n",
    "    | (\n",
    "        plot.xy(x=x, y=y, color=f[1], cmap='viridis', xlim=xlim, ylim=ylim)\n",
    "        + plot.line(x=x, y=model.predict(x, f, [50, 10]), color=np.nanpercentile(f[1], 10))\n",
    "        + plot.line(x=x, y=model.predict(x, f, [50, 90]), color=np.nanpercentile(f[1], 90))\n",
    "    )\n",
    ").resolve_scale(color=\"independent\")"
   ]
  },
  {
   "cell_type": "markdown",
   "metadata": {},
   "source": [
    "As an inspection of model validity, we can plot the raw data and a sample from the generative process underlying the model using the fitted parameters (specifically, the fitted growth curve, and the Gamma noise model). It should look qualatatively similar to the actual data. In particular, note how the noise grows with age, and there are no negative values."
   ]
  },
  {
   "cell_type": "code",
   "execution_count": 8,
   "metadata": {},
   "outputs": [
    {
     "data": {
      "text/html": [
       "\n",
       "<div id=\"altair-viz-b673e53cf3ef41fab9d2c8df8834b927\"></div>\n",
       "<script type=\"text/javascript\">\n",
       "  (function(spec, embedOpt){\n",
       "    let outputDiv = document.currentScript.previousElementSibling;\n",
       "    if (outputDiv.id !== \"altair-viz-b673e53cf3ef41fab9d2c8df8834b927\") {\n",
       "      outputDiv = document.getElementById(\"altair-viz-b673e53cf3ef41fab9d2c8df8834b927\");\n",
       "    }\n",
       "    const paths = {\n",
       "      \"vega\": \"https://cdn.jsdelivr.net/npm//vega@5?noext\",\n",
       "      \"vega-lib\": \"https://cdn.jsdelivr.net/npm//vega-lib?noext\",\n",
       "      \"vega-lite\": \"https://cdn.jsdelivr.net/npm//vega-lite@4.8.1?noext\",\n",
       "      \"vega-embed\": \"https://cdn.jsdelivr.net/npm//vega-embed@6?noext\",\n",
       "    };\n",
       "\n",
       "    function loadScript(lib) {\n",
       "      return new Promise(function(resolve, reject) {\n",
       "        var s = document.createElement('script');\n",
       "        s.src = paths[lib];\n",
       "        s.async = true;\n",
       "        s.onload = () => resolve(paths[lib]);\n",
       "        s.onerror = () => reject(`Error loading script: ${paths[lib]}`);\n",
       "        document.getElementsByTagName(\"head\")[0].appendChild(s);\n",
       "      });\n",
       "    }\n",
       "\n",
       "    function showError(err) {\n",
       "      outputDiv.innerHTML = `<div class=\"error\" style=\"color:red;\">${err}</div>`;\n",
       "      throw err;\n",
       "    }\n",
       "\n",
       "    function displayChart(vegaEmbed) {\n",
       "      vegaEmbed(outputDiv, spec, embedOpt)\n",
       "        .catch(err => showError(`Javascript Error: ${err.message}<br>This usually means there's a typo in your chart specification. See the javascript console for the full traceback.`));\n",
       "    }\n",
       "\n",
       "    if(typeof define === \"function\" && define.amd) {\n",
       "      requirejs.config({paths});\n",
       "      require([\"vega-embed\"], displayChart, err => showError(`Error loading script: ${err.message}`));\n",
       "    } else if (typeof vegaEmbed === \"function\") {\n",
       "      displayChart(vegaEmbed);\n",
       "    } else {\n",
       "      loadScript(\"vega\")\n",
       "        .then(() => loadScript(\"vega-lite\"))\n",
       "        .then(() => loadScript(\"vega-embed\"))\n",
       "        .catch(showError)\n",
       "        .then(() => displayChart(vegaEmbed));\n",
       "    }\n",
       "  })({\"config\": {\"view\": {\"continuousWidth\": 400, \"continuousHeight\": 300}}, \"hconcat\": [{\"layer\": [{\"data\": {\"url\": \"http://localhost:22022/dd9e9d3fc48aa126df02237614185075.json\"}, \"mark\": {\"type\": \"circle\", \"color\": \"black\", \"fill\": \"black\", \"size\": 42}, \"encoding\": {\"x\": {\"type\": \"quantitative\", \"axis\": {\"title\": \"age\"}, \"field\": \"x\", \"scale\": {\"clamp\": true, \"domain\": [0, 250]}}, \"y\": {\"type\": \"quantitative\", \"axis\": {\"title\": \"biomass\"}, \"field\": \"y\", \"scale\": {\"clamp\": true, \"domain\": [-200, 600]}}}, \"height\": 300, \"width\": 350}, {\"data\": {\"url\": \"http://localhost:22022/2462b12c42fdf38945c1900a615d821d.json\"}, \"mark\": {\"type\": \"line\", \"color\": \"rgb(250,100,150)\", \"opacity\": 1, \"strokeWidth\": 2}, \"encoding\": {\"x\": {\"type\": \"quantitative\", \"field\": \"x\"}, \"y\": {\"type\": \"quantitative\", \"field\": \"y\"}}, \"height\": 200, \"width\": 350}]}, {\"layer\": [{\"data\": {\"url\": \"http://localhost:22022/4af8260f80d535c2372f4ef4a9f330fb.json\"}, \"mark\": {\"type\": \"circle\", \"color\": \"black\", \"fill\": \"black\", \"size\": 42}, \"encoding\": {\"x\": {\"type\": \"quantitative\", \"axis\": {\"title\": \"age\"}, \"field\": \"x\", \"scale\": {\"clamp\": true, \"domain\": [0, 250]}}, \"y\": {\"type\": \"quantitative\", \"axis\": {\"title\": \"y\"}, \"field\": \"y\", \"scale\": {\"clamp\": true, \"domain\": [-200, 600]}}}, \"height\": 300, \"width\": 350}, {\"data\": {\"url\": \"http://localhost:22022/2462b12c42fdf38945c1900a615d821d.json\"}, \"mark\": {\"type\": \"line\", \"color\": \"rgb(250,100,150)\", \"opacity\": 1, \"strokeWidth\": 2}, \"encoding\": {\"x\": {\"type\": \"quantitative\", \"field\": \"x\"}, \"y\": {\"type\": \"quantitative\", \"field\": \"y\"}}, \"height\": 200, \"width\": 350}]}], \"$schema\": \"https://vega.github.io/schema/vega-lite/v4.8.1.json\"}, {\"actions\": false, \"mode\": \"vega-lite\"});\n",
       "</script>"
      ],
      "text/plain": [
       "alt.HConcatChart(...)"
      ]
     },
     "execution_count": 8,
     "metadata": {},
     "output_type": "execute_result"
    }
   ],
   "source": [
    "xlim = [0, 250]\n",
    "ylim = [-200, 600]\n",
    "(\n",
    "    (\n",
    "        plot.xy(x=x, y=y, xlim=xlim, ylim=ylim)\n",
    "        + plot.line(x=x, y=model.predict(x, f, [50, 50]))\n",
    "    )\n",
    "    | (\n",
    "        plot.xy(x=x, y=model.sample(x, f), xlim=xlim, ylim=ylim)\n",
    "        + plot.line(x=x, y=model.predict(x, f, [50, 50]))\n",
    "    )\n",
    ")"
   ]
  },
  {
   "cell_type": "markdown",
   "metadata": {},
   "source": [
    "We can set the noise to `'normal'` instead of `'gamma'` and see that the sampled data no longer matches the real data. While the fitted curve is similar, the variability is too high for low ages, and there are negative predictions where there shouldn't be! These behaviors help justify the choice of Gamma distribution."
   ]
  },
  {
   "cell_type": "code",
   "execution_count": 9,
   "metadata": {},
   "outputs": [],
   "source": [
    "model = fit.biomass(x=x, y=y, f=f, noise=\"normal\")"
   ]
  },
  {
   "cell_type": "code",
   "execution_count": 10,
   "metadata": {},
   "outputs": [
    {
     "data": {
      "text/html": [
       "\n",
       "<div id=\"altair-viz-3a458daaf19e40f3966ce3714174f3ae\"></div>\n",
       "<script type=\"text/javascript\">\n",
       "  (function(spec, embedOpt){\n",
       "    let outputDiv = document.currentScript.previousElementSibling;\n",
       "    if (outputDiv.id !== \"altair-viz-3a458daaf19e40f3966ce3714174f3ae\") {\n",
       "      outputDiv = document.getElementById(\"altair-viz-3a458daaf19e40f3966ce3714174f3ae\");\n",
       "    }\n",
       "    const paths = {\n",
       "      \"vega\": \"https://cdn.jsdelivr.net/npm//vega@5?noext\",\n",
       "      \"vega-lib\": \"https://cdn.jsdelivr.net/npm//vega-lib?noext\",\n",
       "      \"vega-lite\": \"https://cdn.jsdelivr.net/npm//vega-lite@4.8.1?noext\",\n",
       "      \"vega-embed\": \"https://cdn.jsdelivr.net/npm//vega-embed@6?noext\",\n",
       "    };\n",
       "\n",
       "    function loadScript(lib) {\n",
       "      return new Promise(function(resolve, reject) {\n",
       "        var s = document.createElement('script');\n",
       "        s.src = paths[lib];\n",
       "        s.async = true;\n",
       "        s.onload = () => resolve(paths[lib]);\n",
       "        s.onerror = () => reject(`Error loading script: ${paths[lib]}`);\n",
       "        document.getElementsByTagName(\"head\")[0].appendChild(s);\n",
       "      });\n",
       "    }\n",
       "\n",
       "    function showError(err) {\n",
       "      outputDiv.innerHTML = `<div class=\"error\" style=\"color:red;\">${err}</div>`;\n",
       "      throw err;\n",
       "    }\n",
       "\n",
       "    function displayChart(vegaEmbed) {\n",
       "      vegaEmbed(outputDiv, spec, embedOpt)\n",
       "        .catch(err => showError(`Javascript Error: ${err.message}<br>This usually means there's a typo in your chart specification. See the javascript console for the full traceback.`));\n",
       "    }\n",
       "\n",
       "    if(typeof define === \"function\" && define.amd) {\n",
       "      requirejs.config({paths});\n",
       "      require([\"vega-embed\"], displayChart, err => showError(`Error loading script: ${err.message}`));\n",
       "    } else if (typeof vegaEmbed === \"function\") {\n",
       "      displayChart(vegaEmbed);\n",
       "    } else {\n",
       "      loadScript(\"vega\")\n",
       "        .then(() => loadScript(\"vega-lite\"))\n",
       "        .then(() => loadScript(\"vega-embed\"))\n",
       "        .catch(showError)\n",
       "        .then(() => displayChart(vegaEmbed));\n",
       "    }\n",
       "  })({\"config\": {\"view\": {\"continuousWidth\": 400, \"continuousHeight\": 300}}, \"hconcat\": [{\"layer\": [{\"data\": {\"url\": \"http://localhost:22022/dd9e9d3fc48aa126df02237614185075.json\"}, \"mark\": {\"type\": \"circle\", \"color\": \"black\", \"fill\": \"black\", \"size\": 42}, \"encoding\": {\"x\": {\"type\": \"quantitative\", \"axis\": {\"title\": \"age\"}, \"field\": \"x\", \"scale\": {\"clamp\": true, \"domain\": [0, 250]}}, \"y\": {\"type\": \"quantitative\", \"axis\": {\"title\": \"biomass\"}, \"field\": \"y\", \"scale\": {\"clamp\": true, \"domain\": [-200, 600]}}}, \"height\": 300, \"width\": 350}, {\"data\": {\"url\": \"http://localhost:22022/33df2e1a1481e6c71dfad9bebe042d15.json\"}, \"mark\": {\"type\": \"line\", \"color\": \"rgb(250,100,150)\", \"opacity\": 1, \"strokeWidth\": 2}, \"encoding\": {\"x\": {\"type\": \"quantitative\", \"field\": \"x\"}, \"y\": {\"type\": \"quantitative\", \"field\": \"y\"}}, \"height\": 200, \"width\": 350}]}, {\"layer\": [{\"data\": {\"url\": \"http://localhost:22022/5f697f107adfb74e90f2780e4c683553.json\"}, \"mark\": {\"type\": \"circle\", \"color\": \"black\", \"fill\": \"black\", \"size\": 42}, \"encoding\": {\"x\": {\"type\": \"quantitative\", \"axis\": {\"title\": \"age\"}, \"field\": \"x\", \"scale\": {\"clamp\": true, \"domain\": [0, 250]}}, \"y\": {\"type\": \"quantitative\", \"axis\": {\"title\": \"y\"}, \"field\": \"y\", \"scale\": {\"clamp\": true, \"domain\": [-200, 600]}}}, \"height\": 300, \"width\": 350}, {\"data\": {\"url\": \"http://localhost:22022/33df2e1a1481e6c71dfad9bebe042d15.json\"}, \"mark\": {\"type\": \"line\", \"color\": \"rgb(250,100,150)\", \"opacity\": 1, \"strokeWidth\": 2}, \"encoding\": {\"x\": {\"type\": \"quantitative\", \"field\": \"x\"}, \"y\": {\"type\": \"quantitative\", \"field\": \"y\"}}, \"height\": 200, \"width\": 350}]}], \"$schema\": \"https://vega.github.io/schema/vega-lite/v4.8.1.json\"}, {\"actions\": false, \"mode\": \"vega-lite\"});\n",
       "</script>"
      ],
      "text/plain": [
       "alt.HConcatChart(...)"
      ]
     },
     "execution_count": 10,
     "metadata": {},
     "output_type": "execute_result"
    }
   ],
   "source": [
    "xlim = [0, 250]\n",
    "ylim = [-200, 600]\n",
    "(\n",
    "    (\n",
    "        plot.xy(x=x, y=y, xlim=xlim, ylim=ylim)\n",
    "        + plot.line(x=x, y=model.predict(x, f, [50, 50]))\n",
    "    )\n",
    "    | (\n",
    "        plot.xy(x=x, y=model.sample(x, f), xlim=xlim, ylim=ylim)\n",
    "        + plot.line(x=x, y=model.predict(x, f, [50, 50]))\n",
    "    )\n",
    ")"
   ]
  }
 ],
 "metadata": {
  "kernelspec": {
   "display_name": "Python 3",
   "language": "python",
   "name": "python3"
  },
  "language_info": {
   "codemirror_mode": {
    "name": "ipython",
    "version": 3
   },
   "file_extension": ".py",
   "mimetype": "text/x-python",
   "name": "python",
   "nbconvert_exporter": "python",
   "pygments_lexer": "ipython3",
   "version": "3.8.5"
  }
 },
 "nbformat": 4,
 "nbformat_minor": 4
}
