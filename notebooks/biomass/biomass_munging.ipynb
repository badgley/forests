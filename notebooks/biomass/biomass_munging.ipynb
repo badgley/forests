{
 "cells": [
  {
   "cell_type": "markdown",
   "metadata": {},
   "source": [
    "<img width=\"50\" src=\"https://carbonplan-assets.s3.amazonaws.com/monogram/dark-small.png\" style=\"margin-left:0px;margin-top:20px\"/>\n",
    "\n",
    "# FIA Biomass Modeling\n",
    "\n",
    "_by Jeremy Freeman (CarbonPlan), September 19, 2020_\n",
    "\n",
    "This notebook extracts fits predictive biomass growth curves from FIA data"
   ]
  },
  {
   "cell_type": "code",
   "execution_count": 1,
   "metadata": {},
   "outputs": [],
   "source": [
    "%load_ext autoreload\n",
    "%autoreload 2"
   ]
  },
  {
   "cell_type": "code",
   "execution_count": 2,
   "metadata": {},
   "outputs": [],
   "source": [
    "import numpy as np\n",
    "import pandas as pd\n",
    "from forests import load, setup, plot, fit"
   ]
  },
  {
   "cell_type": "code",
   "execution_count": 3,
   "metadata": {},
   "outputs": [],
   "source": [
    "setup.plotting()"
   ]
  },
  {
   "cell_type": "code",
   "execution_count": 54,
   "metadata": {},
   "outputs": [],
   "source": [
    "df = load.fia(store='local', states='conus')\n",
    "df = load.terraclim(store='local', tlim=(2000,2020), mean=True, df=df)"
   ]
  },
  {
   "cell_type": "code",
   "execution_count": 12,
   "metadata": {},
   "outputs": [],
   "source": [
    "type_codes = df['type_code'].unique()"
   ]
  },
  {
   "cell_type": "code",
   "execution_count": null,
   "metadata": {},
   "outputs": [],
   "source": [
    "foo = load.fia(store='local', states='NY', wide=True)"
   ]
  },
  {
   "cell_type": "code",
   "execution_count": 69,
   "metadata": {},
   "outputs": [
    {
     "name": "stdout",
     "output_type": "stream",
     "text": [
      "code: 407.0\n",
      "percent complete: 0.0%\n",
      "code: 141.0\n",
      "percent complete: 0.6172839506172839%\n",
      "code: 403.0\n",
      "percent complete: 1.2345679012345678%\n",
      "code: 161.0\n",
      "percent complete: 1.8518518518518519%\n",
      "code: 406.0\n",
      "percent complete: 2.4691358024691357%\n",
      "code: 508.0\n",
      "percent complete: 3.0864197530864197%\n",
      "code: 607.0\n",
      "percent complete: 3.7037037037037037%\n",
      "code: 409.0\n",
      "percent complete: 4.320987654320987%\n",
      "code: 520.0\n",
      "percent complete: 4.938271604938271%\n",
      "code: 608.0\n",
      "percent complete: 5.555555555555555%\n",
      "code: 503.0\n",
      "percent complete: 6.172839506172839%\n",
      "code: 706.0\n",
      "percent complete: 6.790123456790123%\n",
      "code: 602.0\n",
      "percent complete: 7.407407407407407%\n",
      "code: 506.0\n",
      "percent complete: 8.024691358024691%\n",
      "code: 171.0\n",
      "percent complete: 8.641975308641975%\n",
      "code: 510.0\n",
      "percent complete: 9.25925925925926%\n",
      "code: 142.0\n",
      "percent complete: 9.876543209876543%\n",
      "code: 501.0\n",
      "percent complete: 10.493827160493828%\n",
      "code: 405.0\n",
      "percent complete: 11.11111111111111%\n",
      "code: 404.0\n",
      "percent complete: 11.728395061728396%\n",
      "code: 502.0\n",
      "percent complete: 12.345679012345679%\n",
      "code: 163.0\n",
      "percent complete: 12.962962962962964%\n",
      "code: 708.0\n",
      "percent complete: 13.580246913580247%\n",
      "code: 601.0\n",
      "percent complete: 14.197530864197532%\n",
      "code: 504.0\n",
      "percent complete: 14.814814814814815%\n",
      "code: 705.0\n",
      "percent complete: 15.432098765432098%\n",
      "code: 505.0\n",
      "percent complete: 16.049382716049383%\n",
      "code: 162.0\n",
      "percent complete: 16.666666666666668%\n",
      "code: 402.0\n",
      "percent complete: 17.28395061728395%\n",
      "code: 515.0\n",
      "percent complete: 17.901234567901234%\n",
      "code: 605.0\n",
      "percent complete: 18.51851851851852%\n",
      "code: 519.0\n",
      "percent complete: 19.135802469135804%\n",
      "code: 511.0\n",
      "percent complete: 19.753086419753085%\n",
      "code: 702.0\n",
      "percent complete: 20.37037037037037%\n",
      "code: 168.0\n",
      "percent complete: 20.987654320987655%\n",
      "skipping due to low n\n",
      "code: 704.0\n",
      "percent complete: 21.604938271604937%\n",
      "code: 801.0\n",
      "percent complete: 22.22222222222222%\n",
      "code: 606.0\n",
      "percent complete: 22.839506172839506%\n",
      "code: 514.0\n",
      "percent complete: 23.45679012345679%\n",
      "code: 709.0\n",
      "percent complete: 24.074074074074073%\n",
      "code: 104.0\n",
      "percent complete: 24.691358024691358%\n",
      "code: 805.0\n",
      "percent complete: 25.308641975308642%\n",
      "code: 401.0\n",
      "percent complete: 25.925925925925927%\n",
      "code: 507.0\n",
      "percent complete: 26.54320987654321%\n",
      "code: 105.0\n",
      "percent complete: 27.160493827160494%\n",
      "code: 703.0\n",
      "percent complete: 27.77777777777778%\n",
      "code: 609.0\n",
      "percent complete: 28.395061728395063%\n",
      "code: 701.0\n",
      "percent complete: 29.012345679012345%\n",
      "code: 269.0\n",
      "percent complete: 29.62962962962963%\n",
      "code: 184.0\n",
      "percent complete: 30.246913580246915%\n",
      "code: 266.0\n",
      "percent complete: 30.864197530864196%\n",
      "code: 221.0\n",
      "percent complete: 31.48148148148148%\n",
      "code: 185.0\n",
      "percent complete: 32.098765432098766%\n",
      "code: 261.0\n",
      "percent complete: 32.71604938271605%\n",
      "code: 901.0\n",
      "percent complete: 33.333333333333336%\n",
      "code: 201.0\n",
      "percent complete: 33.95061728395062%\n",
      "code: 973.0\n",
      "percent complete: 34.5679012345679%\n",
      "code: 972.0\n",
      "percent complete: 35.18518518518518%\n",
      "code: 971.0\n",
      "percent complete: 35.80246913580247%\n",
      "code: 962.0\n",
      "percent complete: 36.41975308641975%\n",
      "code: 182.0\n",
      "percent complete: 37.03703703703704%\n",
      "code: 368.0\n",
      "percent complete: 37.65432098765432%\n",
      "code: 265.0\n",
      "percent complete: 38.27160493827161%\n",
      "code: 362.0\n",
      "percent complete: 38.888888888888886%\n",
      "skipping due to low n\n",
      "code: 366.0\n",
      "percent complete: 39.50617283950617%\n",
      "code: 975.0\n",
      "percent complete: 40.123456790123456%\n",
      "code: 517.0\n",
      "percent complete: 40.74074074074074%\n",
      "code: 707.0\n",
      "percent complete: 41.358024691358025%\n",
      "code: 513.0\n",
      "percent complete: 41.97530864197531%\n",
      "code: 512.0\n",
      "percent complete: 42.592592592592595%\n",
      "code: 924.0\n",
      "percent complete: 43.20987654320987%\n",
      "code: 225.0\n",
      "percent complete: 43.82716049382716%\n",
      "code: 281.0\n",
      "percent complete: 44.44444444444444%\n",
      "code: 262.0\n",
      "percent complete: 45.06172839506173%\n",
      "code: 922.0\n",
      "percent complete: 45.67901234567901%\n",
      "code: 371.0\n",
      "percent complete: 46.2962962962963%\n",
      "code: 241.0\n",
      "percent complete: 46.91358024691358%\n",
      "code: 202.0\n",
      "percent complete: 47.53086419753087%\n",
      "code: 941.0\n",
      "percent complete: 48.148148148148145%\n",
      "code: 341.0\n",
      "percent complete: 48.76543209876543%\n",
      "code: 923.0\n",
      "percent complete: 49.382716049382715%\n",
      "code: 911.0\n",
      "percent complete: 50.0%\n",
      "code: 921.0\n",
      "percent complete: 50.617283950617285%\n",
      "code: 933.0\n",
      "percent complete: 51.23456790123457%\n",
      "code: 369.0\n",
      "percent complete: 51.851851851851855%\n",
      "code: 974.0\n",
      "percent complete: 52.46913580246913%\n",
      "code: 934.0\n",
      "percent complete: 53.08641975308642%\n",
      "code: 935.0\n",
      "percent complete: 53.7037037037037%\n",
      "code: 367.0\n",
      "percent complete: 54.32098765432099%\n",
      "code: 931.0\n",
      "percent complete: 54.93827160493827%\n",
      "code: 361.0\n",
      "percent complete: 55.55555555555556%\n",
      "code: 270.0\n",
      "percent complete: 56.17283950617284%\n",
      "code: 226.0\n",
      "percent complete: 56.79012345679013%\n",
      "skipping due to low n\n",
      "code: 365.0\n",
      "percent complete: 57.407407407407405%\n",
      "code: 942.0\n",
      "percent complete: 58.02469135802469%\n",
      "code: 363.0\n",
      "percent complete: 58.641975308641975%\n",
      "skipping due to low n\n",
      "code: 280.0\n",
      "percent complete: 59.25925925925926%\n",
      "skipping due to low n\n",
      "code: 910.0\n",
      "percent complete: 59.876543209876544%\n",
      "skipping due to low n\n",
      "code: 961.0\n",
      "percent complete: 60.49382716049383%\n",
      "code: 203.0\n",
      "percent complete: 61.111111111111114%\n",
      "skipping due to low n\n",
      "code: 305.0\n",
      "percent complete: 61.72839506172839%\n",
      "code: 912.0\n",
      "percent complete: 62.34567901234568%\n",
      "code: 943.0\n",
      "percent complete: 62.96296296296296%\n",
      "skipping due to low n\n",
      "code: 301.0\n",
      "percent complete: 63.58024691358025%\n",
      "code: 364.0\n",
      "percent complete: 64.19753086419753%\n",
      "skipping due to low n\n",
      "code: 383.0\n",
      "percent complete: 64.81481481481481%\n",
      "code: 222.0\n",
      "percent complete: 65.4320987654321%\n",
      "skipping due to low n\n",
      "code: 224.0\n",
      "percent complete: 66.04938271604938%\n",
      "skipping due to low n\n",
      "code: 976.0\n",
      "percent complete: 66.66666666666667%\n",
      "code: 342.0\n",
      "percent complete: 67.28395061728395%\n",
      "skipping due to low n\n",
      "code: 267.0\n",
      "percent complete: 67.90123456790124%\n",
      "code: 125.0\n",
      "percent complete: 68.51851851851852%\n",
      "code: 268.0\n",
      "percent complete: 69.1358024691358%\n",
      "code: 809.0\n",
      "percent complete: 69.75308641975309%\n",
      "code: 516.0\n",
      "percent complete: 70.37037037037037%\n",
      "code: 103.0\n",
      "percent complete: 70.98765432098766%\n",
      "code: 802.0\n",
      "percent complete: 71.60493827160494%\n",
      "code: 902.0\n",
      "percent complete: 72.22222222222223%\n",
      "code: 903.0\n",
      "percent complete: 72.8395061728395%\n",
      "code: 102.0\n",
      "percent complete: 73.45679012345678%\n",
      "code: 167.0\n",
      "percent complete: 74.07407407407408%\n",
      "code: 983.0\n",
      "percent complete: 74.69135802469135%\n",
      "optimization failed\n",
      "code: 164.0\n",
      "percent complete: 75.30864197530865%\n",
      "code: 982.0\n",
      "percent complete: 75.92592592592592%\n",
      "skipping due to low n\n",
      "code: 166.0\n",
      "percent complete: 76.54320987654322%\n",
      "code: 121.0\n",
      "percent complete: 77.1604938271605%\n",
      "code: 509.0\n",
      "percent complete: 77.77777777777777%\n",
      "code: 500.0\n",
      "percent complete: 78.39506172839506%\n",
      "code: 321.0\n",
      "percent complete: 79.01234567901234%\n",
      "code: 304.0\n",
      "percent complete: 79.62962962962963%\n",
      "code: 800.0\n",
      "percent complete: 80.24691358024691%\n",
      "code: 600.0\n",
      "percent complete: 80.8641975308642%\n",
      "skipping due to low n\n",
      "code: 400.0\n",
      "percent complete: 81.48148148148148%\n",
      "code: 101.0\n",
      "percent complete: 82.09876543209876%\n",
      "code: 384.0\n",
      "percent complete: 82.71604938271605%\n",
      "code: 381.0\n",
      "percent complete: 83.33333333333333%\n",
      "code: 380.0\n",
      "percent complete: 83.95061728395062%\n",
      "skipping due to low n\n",
      "code: 700.0\n",
      "percent complete: 84.5679012345679%\n",
      "code: 123.0\n",
      "percent complete: 85.18518518518519%\n",
      "code: 391.0\n",
      "percent complete: 85.80246913580247%\n",
      "skipping due to low n\n",
      "code: 124.0\n",
      "percent complete: 86.41975308641975%\n",
      "code: 127.0\n",
      "percent complete: 87.03703703703704%\n",
      "code: 126.0\n",
      "percent complete: 87.65432098765432%\n",
      "code: 122.0\n",
      "percent complete: 88.27160493827161%\n",
      "code: 904.0\n",
      "percent complete: 88.88888888888889%\n",
      "code: 385.0\n",
      "percent complete: 89.50617283950618%\n",
      "code: 905.0\n",
      "percent complete: 90.12345679012346%\n",
      "skipping due to low n\n",
      "code: 900.0\n",
      "percent complete: 90.74074074074075%\n",
      "code: 165.0\n",
      "percent complete: 91.35802469135803%\n",
      "code: 128.0\n",
      "percent complete: 91.9753086419753%\n",
      "skipping due to low n\n",
      "code: 264.0\n",
      "percent complete: 92.5925925925926%\n",
      "code: 263.0\n",
      "percent complete: 93.20987654320987%\n",
      "code: 200.0\n",
      "percent complete: 93.82716049382717%\n",
      "skipping due to low n\n",
      "code: 360.0\n",
      "percent complete: 94.44444444444444%\n",
      "skipping due to low n\n",
      "code: 300.0\n",
      "percent complete: 95.06172839506173%\n",
      "skipping due to low n\n",
      "code: 722.0\n",
      "percent complete: 95.67901234567901%\n",
      "skipping due to low n\n",
      "code: 396.0\n",
      "percent complete: 96.29629629629629%\n",
      "skipping due to low n\n",
      "code: 220.0\n",
      "percent complete: 96.91358024691358%\n",
      "skipping due to low n\n",
      "code: 260.0\n",
      "percent complete: 97.53086419753086%\n",
      "skipping due to low n\n",
      "code: 320.0\n",
      "percent complete: 98.14814814814815%\n",
      "skipping due to low n\n",
      "code: 129.0\n",
      "percent complete: 98.76543209876543%\n",
      "skipping due to low n\n",
      "code: 271.0\n",
      "percent complete: 99.38271604938272%\n",
      "skipping due to low n\n"
     ]
    }
   ],
   "source": [
    "# fit all models\n",
    "models = {}\n",
    "for i, code in enumerate(type_codes):\n",
    "    print(f'code: {code}')\n",
    "    print(f'percent complete: {100 * i/len(type_codes)}%')\n",
    "    df_type = df[df['type_code'] == code].reset_index()\n",
    "    if len(df_type) > 30:\n",
    "        x = df_type['age']\n",
    "        y = df_type['biomass']\n",
    "        f = [df_type['tmax'], df_type['ppt']]\n",
    "        model = fit.biomass(x=x, y=y, f=f, noise='gamma')\n",
    "        models[code] = model\n",
    "    else:\n",
    "        print('skipping due to low n')"
   ]
  },
  {
   "cell_type": "code",
   "execution_count": null,
   "metadata": {},
   "outputs": [],
   "source": [
    "code"
   ]
  },
  {
   "cell_type": "code",
   "execution_count": null,
   "metadata": {},
   "outputs": [],
   "source": [
    "# evaluate predictions across target years\n",
    "\n",
    "code = 221\n",
    "inds = df['type_code'] == code\n",
    "\n",
    "mf = pd.DataFrame()\n",
    "mf['lat'] = df[inds]['lat']\n",
    "mf['lon'] = df[inds]['lon']\n",
    "\n",
    "targets = np.arange(2000,2100,5)\n",
    "for it in range(len(targets)):\n",
    "    x = df[inds]['age']\n",
    "    year = df[inds]['year']\n",
    "    f = [df[inds]['tmax'], df[inds]['ppt']]\n",
    "    if it == 0:\n",
    "        mf[targets[it]] = models[code].predict(np.maximum(x + (targets[it] - year), 0), f)\n",
    "    else:\n",
    "        diff = models[code].predict(x + (targets[it] - year), f) - models[code].predict(x + (targets[it-1] - year), f)\n",
    "        mf[targets[it]] = np.maximum(mf[targets[it-1]] + diff, 0)"
   ]
  },
  {
   "cell_type": "code",
   "execution_count": null,
   "metadata": {},
   "outputs": [],
   "source": [
    "plt.plot?"
   ]
  },
  {
   "cell_type": "code",
   "execution_count": null,
   "metadata": {},
   "outputs": [],
   "source": [
    "from palettable.cubehelix import perceptual_rainbow_16\n",
    "cmap = perceptual_rainbow_16.mpl_colormap"
   ]
  },
  {
   "cell_type": "code",
   "execution_count": null,
   "metadata": {},
   "outputs": [],
   "source": [
    "import matplotlib as mpl\n",
    "\n",
    "mpl.rcParams['axes.spines.right'] = False\n",
    "mpl.rcParams['axes.spines.top'] = False"
   ]
  },
  {
   "cell_type": "code",
   "execution_count": null,
   "metadata": {},
   "outputs": [],
   "source": [
    "plt.figure(figsize=[12,5])\n",
    "pf = mf[targets].sort_values(2000).reset_index(drop=True)\n",
    "for row,value  in pf.iterrows():\n",
    "    plt.plot(value, 'b', color=cmap(row/len(pf)), alpha=0.1);"
   ]
  },
  {
   "cell_type": "code",
   "execution_count": null,
   "metadata": {},
   "outputs": [],
   "source": [
    "plt.plot(mf[targets].T, 'b', alpha=0.01);"
   ]
  },
  {
   "cell_type": "code",
   "execution_count": null,
   "metadata": {},
   "outputs": [],
   "source": [
    "plt.hist([models[k].train_r2 for k in models.keys()])"
   ]
  },
  {
   "cell_type": "code",
   "execution_count": null,
   "metadata": {},
   "outputs": [],
   "source": [
    "code"
   ]
  },
  {
   "cell_type": "code",
   "execution_count": null,
   "metadata": {},
   "outputs": [],
   "source": [
    "df.groupby('type_code').agg(count=('type_code', 'count')).sort_values('count', ascending=False).T"
   ]
  },
  {
   "cell_type": "code",
   "execution_count": 60,
   "metadata": {},
   "outputs": [
    {
     "data": {
      "text/html": [
       "\n",
       "<div id=\"altair-viz-21\"></div>\n",
       "<script type=\"text/javascript\">\n",
       "  (function(spec, embedOpt){\n",
       "    const outputDiv = document.getElementById(\"altair-viz-21\");\n",
       "    const paths = {\n",
       "      \"vega\": \"https://cdn.jsdelivr.net/npm//vega@5?noext\",\n",
       "      \"vega-lib\": \"https://cdn.jsdelivr.net/npm//vega-lib?noext\",\n",
       "      \"vega-lite\": \"https://cdn.jsdelivr.net/npm//vega-lite@4.0.0?noext\",\n",
       "      \"vega-embed\": \"https://cdn.jsdelivr.net/npm//vega-embed@6?noext\",\n",
       "    };\n",
       "\n",
       "    function loadScript(lib) {\n",
       "      return new Promise(function(resolve, reject) {\n",
       "        var s = document.createElement('script');\n",
       "        s.src = paths[lib];\n",
       "        s.async = true;\n",
       "        s.onload = () => resolve(paths[lib]);\n",
       "        s.onerror = () => reject(`Error loading script: ${paths[lib]}`);\n",
       "        document.getElementsByTagName(\"head\")[0].appendChild(s);\n",
       "      });\n",
       "    }\n",
       "\n",
       "    function showError(err) {\n",
       "      outputDiv.innerHTML = `<div class=\"error\" style=\"color:red;\">${err}</div>`;\n",
       "      throw err;\n",
       "    }\n",
       "\n",
       "    function displayChart(vegaEmbed) {\n",
       "      vegaEmbed(outputDiv, spec, embedOpt)\n",
       "        .catch(err => showError(`Javascript Error: ${err.message}<br>This usually means there's a typo in your chart specification. See the javascript console for the full traceback.`));\n",
       "    }\n",
       "\n",
       "    if(typeof define === \"function\" && define.amd) {\n",
       "      requirejs.config({paths});\n",
       "      require([\"vega-embed\"], displayChart, err => showError(`Error loading script: ${err.message}`));\n",
       "    } else if (typeof vegaEmbed === \"function\") {\n",
       "      displayChart(vegaEmbed);\n",
       "    } else {\n",
       "      loadScript(\"vega\")\n",
       "        .then(() => loadScript(\"vega-lite\"))\n",
       "        .then(() => loadScript(\"vega-embed\"))\n",
       "        .catch(showError)\n",
       "        .then(() => displayChart(vegaEmbed));\n",
       "    }\n",
       "  })({\"config\": {\"view\": {\"continuousWidth\": 400, \"continuousHeight\": 300}}, \"hconcat\": [{\"data\": {\"url\": \"http://localhost:17743/5e1ea809cd9951eb22ac27746ec2f184.json\"}, \"mark\": {\"type\": \"circle\", \"size\": 42}, \"encoding\": {\"color\": {\"type\": \"quantitative\", \"field\": \"color\", \"scale\": {\"scheme\": \"viridis\"}}, \"x\": {\"type\": \"quantitative\", \"field\": \"x\", \"scale\": {\"clamp\": true, \"domain\": [0, 200]}}, \"y\": {\"type\": \"quantitative\", \"field\": \"y\", \"scale\": {\"clamp\": true, \"domain\": [0, 500]}}}, \"height\": 300, \"width\": 350}, {\"data\": {\"url\": \"http://localhost:17743/3b16443135563d22c8ed399668de3194.json\"}, \"mark\": {\"type\": \"circle\", \"size\": 42}, \"encoding\": {\"color\": {\"type\": \"quantitative\", \"field\": \"color\", \"scale\": {\"scheme\": \"viridis\"}}, \"x\": {\"type\": \"quantitative\", \"field\": \"x\", \"scale\": {\"clamp\": true, \"domain\": [0, 200]}}, \"y\": {\"type\": \"quantitative\", \"field\": \"y\", \"scale\": {\"clamp\": true, \"domain\": [0, 500]}}}, \"height\": 300, \"width\": 350}], \"resolve\": {\"scale\": {\"color\": \"independent\"}}, \"$schema\": \"https://vega.github.io/schema/vega-lite/v4.0.0.json\"}, {\"actions\": false, \"mode\": \"vega-lite\"});\n",
       "</script>"
      ],
      "text/plain": [
       "alt.HConcatChart(...)"
      ]
     },
     "execution_count": 60,
     "metadata": {},
     "output_type": "execute_result"
    }
   ],
   "source": [
    "inds = df['type_code'] == 983 # 261 is a problem, 941 / 371 is a good example, 341 shows model deviation\n",
    "x = df[inds]['age']\n",
    "y = df[inds]['biomass']\n",
    "f = [df[inds]['tmax'], df[inds]['ppt']]\n",
    "(\n",
    "plot.xy(x=x, y=y, color=f[0], xlim=[0,200], ylim=[0,500])\n",
    "|\n",
    "plot.xy(x=x, y=y, color=f[1], xlim=[0,200], ylim=[0,500])\n",
    ").resolve_scale(color='independent')"
   ]
  },
  {
   "cell_type": "code",
   "execution_count": null,
   "metadata": {},
   "outputs": [],
   "source": [
    "604.4287614874837"
   ]
  },
  {
   "cell_type": "code",
   "execution_count": 66,
   "metadata": {},
   "outputs": [
    {
     "name": "stdout",
     "output_type": "stream",
     "text": [
      "optimization failed\n",
      " barrier_parameter: 0.1\n",
      " barrier_tolerance: 0.1\n",
      "          cg_niter: 29829\n",
      "      cg_stop_cond: 1\n",
      "            constr: [array([9.70052286e+01, 3.58466984e-02, 3.57805127e+00, 1.44647089e+00,\n",
      "       4.65208110e-02, 6.45373609e+01])]\n",
      "       constr_nfev: [0]\n",
      "       constr_nhev: [0]\n",
      "       constr_njev: [0]\n",
      "    constr_penalty: 10.980954230232987\n",
      "  constr_violation: 0.0\n",
      "    execution_time: 18.522501945495605\n",
      "               fun: 612.558647448375\n",
      "              grad: array([-0.00387969,  1.26554108, -0.00706636, -0.10988342, -2.37420654,\n",
      "        0.35317159])\n",
      "               jac: [<6x6 sparse matrix of type '<class 'numpy.float64'>'\n",
      "\twith 6 stored elements in Compressed Sparse Row format>]\n",
      "   lagrangian_grad: array([-4.91004250e-03, -1.95586287e-03, -3.98583260e-02, -1.09883425e-01,\n",
      "       -2.37420654e+00,  3.51537703e-01])\n",
      "           message: 'The maximum number of function evaluations is exceeded.'\n",
      "            method: 'tr_interior_point'\n",
      "              nfev: 686\n",
      "              nhev: 0\n",
      "               nit: 5001\n",
      "             niter: 5001\n",
      "              njev: 0\n",
      "        optimality: 2.37420654296875\n",
      "            status: 0\n",
      "           success: False\n",
      "         tr_radius: 88.36322820420514\n",
      "                 v: [array([-1.03035059e-03, -1.26749694e+00, -3.27919618e-02,  0.00000000e+00,\n",
      "        0.00000000e+00, -1.63389171e-03])]\n",
      "                 x: array([9.70052286e+01, 3.58466984e-02, 3.57805127e+00, 1.44647089e+00,\n",
      "       4.65208110e-02, 6.45373609e+01])\n"
     ]
    }
   ],
   "source": [
    "model = fit.biomass(x=x, y=y, f=f, noise='gamma')\n",
    "print(model.result)"
   ]
  },
  {
   "cell_type": "code",
   "execution_count": 67,
   "metadata": {},
   "outputs": [
    {
     "data": {
      "text/plain": [
       "0.386607329178414"
      ]
     },
     "execution_count": 67,
     "metadata": {},
     "output_type": "execute_result"
    }
   ],
   "source": [
    "model.r2(x, f, y)"
   ]
  },
  {
   "cell_type": "code",
   "execution_count": 68,
   "metadata": {},
   "outputs": [
    {
     "data": {
      "text/html": [
       "\n",
       "<div id=\"altair-viz-23\"></div>\n",
       "<script type=\"text/javascript\">\n",
       "  (function(spec, embedOpt){\n",
       "    const outputDiv = document.getElementById(\"altair-viz-23\");\n",
       "    const paths = {\n",
       "      \"vega\": \"https://cdn.jsdelivr.net/npm//vega@5?noext\",\n",
       "      \"vega-lib\": \"https://cdn.jsdelivr.net/npm//vega-lib?noext\",\n",
       "      \"vega-lite\": \"https://cdn.jsdelivr.net/npm//vega-lite@4.0.0?noext\",\n",
       "      \"vega-embed\": \"https://cdn.jsdelivr.net/npm//vega-embed@6?noext\",\n",
       "    };\n",
       "\n",
       "    function loadScript(lib) {\n",
       "      return new Promise(function(resolve, reject) {\n",
       "        var s = document.createElement('script');\n",
       "        s.src = paths[lib];\n",
       "        s.async = true;\n",
       "        s.onload = () => resolve(paths[lib]);\n",
       "        s.onerror = () => reject(`Error loading script: ${paths[lib]}`);\n",
       "        document.getElementsByTagName(\"head\")[0].appendChild(s);\n",
       "      });\n",
       "    }\n",
       "\n",
       "    function showError(err) {\n",
       "      outputDiv.innerHTML = `<div class=\"error\" style=\"color:red;\">${err}</div>`;\n",
       "      throw err;\n",
       "    }\n",
       "\n",
       "    function displayChart(vegaEmbed) {\n",
       "      vegaEmbed(outputDiv, spec, embedOpt)\n",
       "        .catch(err => showError(`Javascript Error: ${err.message}<br>This usually means there's a typo in your chart specification. See the javascript console for the full traceback.`));\n",
       "    }\n",
       "\n",
       "    if(typeof define === \"function\" && define.amd) {\n",
       "      requirejs.config({paths});\n",
       "      require([\"vega-embed\"], displayChart, err => showError(`Error loading script: ${err.message}`));\n",
       "    } else if (typeof vegaEmbed === \"function\") {\n",
       "      displayChart(vegaEmbed);\n",
       "    } else {\n",
       "      loadScript(\"vega\")\n",
       "        .then(() => loadScript(\"vega-lite\"))\n",
       "        .then(() => loadScript(\"vega-embed\"))\n",
       "        .catch(showError)\n",
       "        .then(() => displayChart(vegaEmbed));\n",
       "    }\n",
       "  })({\"config\": {\"view\": {\"continuousWidth\": 400, \"continuousHeight\": 300}}, \"hconcat\": [{\"layer\": [{\"data\": {\"url\": \"http://localhost:17743/5e1ea809cd9951eb22ac27746ec2f184.json\"}, \"mark\": {\"type\": \"circle\", \"size\": 42}, \"encoding\": {\"color\": {\"type\": \"quantitative\", \"field\": \"color\", \"scale\": {\"scheme\": \"viridis\"}}, \"x\": {\"type\": \"quantitative\", \"field\": \"x\", \"scale\": {\"clamp\": true, \"domain\": [0, 150]}}, \"y\": {\"type\": \"quantitative\", \"field\": \"y\", \"scale\": {\"clamp\": true, \"domain\": [0, 1000]}}}, \"height\": 300, \"width\": 350}, {\"data\": {\"url\": \"http://localhost:17743/5dc274547901a788e21d663e7f385130.json\"}, \"mark\": {\"type\": \"line\", \"strokeWidth\": 3}, \"encoding\": {\"color\": {\"type\": \"quantitative\", \"field\": \"color\", \"scale\": {\"scheme\": \"viridis\"}}, \"x\": {\"type\": \"quantitative\", \"field\": \"x\", \"scale\": {\"clamp\": true, \"domain\": [0, 150]}}, \"y\": {\"type\": \"quantitative\", \"field\": \"y\", \"scale\": {\"clamp\": true, \"domain\": [0, 1000]}}}, \"height\": 300, \"width\": 350}, {\"data\": {\"url\": \"http://localhost:17743/faed2a2d5b0f642ee6fa1017706a7689.json\"}, \"mark\": {\"type\": \"line\", \"strokeWidth\": 3}, \"encoding\": {\"color\": {\"type\": \"quantitative\", \"field\": \"color\", \"scale\": {\"scheme\": \"viridis\"}}, \"x\": {\"type\": \"quantitative\", \"field\": \"x\", \"scale\": {\"clamp\": true, \"domain\": [0, 150]}}, \"y\": {\"type\": \"quantitative\", \"field\": \"y\", \"scale\": {\"clamp\": true, \"domain\": [0, 1000]}}}, \"height\": 300, \"width\": 350}]}, {\"layer\": [{\"data\": {\"url\": \"http://localhost:17743/3b16443135563d22c8ed399668de3194.json\"}, \"mark\": {\"type\": \"circle\", \"size\": 42}, \"encoding\": {\"color\": {\"type\": \"quantitative\", \"field\": \"color\", \"scale\": {\"scheme\": \"viridis\"}}, \"x\": {\"type\": \"quantitative\", \"field\": \"x\", \"scale\": {\"clamp\": true, \"domain\": [0, 150]}}, \"y\": {\"type\": \"quantitative\", \"field\": \"y\", \"scale\": {\"clamp\": true, \"domain\": [0, 1000]}}}, \"height\": 300, \"width\": 350}, {\"data\": {\"url\": \"http://localhost:17743/487979ce8b5dba21effe63f89aaa5c9c.json\"}, \"mark\": {\"type\": \"line\", \"strokeWidth\": 3}, \"encoding\": {\"color\": {\"type\": \"quantitative\", \"field\": \"color\", \"scale\": {\"scheme\": \"viridis\"}}, \"x\": {\"type\": \"quantitative\", \"field\": \"x\", \"scale\": {\"clamp\": true, \"domain\": [0, 150]}}, \"y\": {\"type\": \"quantitative\", \"field\": \"y\", \"scale\": {\"clamp\": true, \"domain\": [0, 1000]}}}, \"height\": 300, \"width\": 350}, {\"data\": {\"url\": \"http://localhost:17743/773d223801a590002f8135dd93e66fdc.json\"}, \"mark\": {\"type\": \"line\", \"strokeWidth\": 3}, \"encoding\": {\"color\": {\"type\": \"quantitative\", \"field\": \"color\", \"scale\": {\"scheme\": \"viridis\"}}, \"x\": {\"type\": \"quantitative\", \"field\": \"x\", \"scale\": {\"clamp\": true, \"domain\": [0, 150]}}, \"y\": {\"type\": \"quantitative\", \"field\": \"y\", \"scale\": {\"clamp\": true, \"domain\": [0, 1000]}}}, \"height\": 300, \"width\": 350}]}], \"resolve\": {\"scale\": {\"color\": \"independent\"}}, \"$schema\": \"https://vega.github.io/schema/vega-lite/v4.0.0.json\"}, {\"actions\": false, \"mode\": \"vega-lite\"});\n",
       "</script>"
      ],
      "text/plain": [
       "alt.HConcatChart(...)"
      ]
     },
     "execution_count": 68,
     "metadata": {},
     "output_type": "execute_result"
    }
   ],
   "source": [
    "xlim = [0, 150]\n",
    "ylim= [0, 1000]\n",
    "(\n",
    "(\n",
    "plot.xy(x=x, y=y, color=f[0], xlim=xlim, ylim=ylim)\n",
    "+ plot.line(x=x, y=model.predict(x, f, [90, 50]), color=np.nanpercentile(f[0], 90), xlim=xlim, ylim=ylim)\n",
    "+ plot.line(x=x, y=model.predict(x, f, [10, 50]), color=np.nanpercentile(f[0], 10), xlim=xlim, ylim=ylim)\n",
    ")\n",
    "|\n",
    "(\n",
    "plot.xy(x=x, y=y, color=f[1], xlim=xlim, ylim=ylim)\n",
    "+ plot.line(x=x, y=model.predict(x, f, [50, 10]), color=np.nanpercentile(f[1], 10), xlim=xlim, ylim=ylim)\n",
    "+ plot.line(x=x, y=model.predict(x, f, [50, 90]), color=np.nanpercentile(f[1], 90), xlim=xlim, ylim=ylim)\n",
    ")\n",
    ").resolve_scale(color='independent')"
   ]
  },
  {
   "cell_type": "code",
   "execution_count": null,
   "metadata": {},
   "outputs": [],
   "source": [
    "xlim = [0,150]\n",
    "ylim= [-100,400]\n",
    "((plot.xy(x=x, y=y, xlim=xlim, ylim=ylim)\n",
    "+ plot.line(x=x, y=model.predict(x, f, [50, 50]), xlim=xlim, ylim=ylim))\n",
    "|\n",
    "(plot.xy(x=x, y=model.sample(x, f), xlim=xlim, ylim=ylim)\n",
    "+ plot.line(x=x, y=model.predict(x, f, [50, 50]), xlim=xlim, ylim=ylim)))"
   ]
  },
  {
   "cell_type": "code",
   "execution_count": null,
   "metadata": {},
   "outputs": [],
   "source": [
    "plot.carto(lat=df['lat'], lon=df['lon'], color=df['biomass'], cmap='yellowgreen', clim=(0,200))"
   ]
  },
  {
   "cell_type": "code",
   "execution_count": null,
   "metadata": {},
   "outputs": [],
   "source": [
    "plot.carto(lat=df['lat'], lon=df['lon'], color=df['tmax'], cmap='plasma', clim=(5, 30))"
   ]
  },
  {
   "cell_type": "code",
   "execution_count": null,
   "metadata": {},
   "outputs": [],
   "source": [
    "import rasterio"
   ]
  },
  {
   "cell_type": "code",
   "execution_count": null,
   "metadata": {},
   "outputs": [],
   "source": [
    "r = rasterio.open('/Users/freeman/workdir/carbonplan-data/processed/nlcd/conus/4000m/2016_c42.tif')"
   ]
  },
  {
   "cell_type": "code",
   "execution_count": null,
   "metadata": {},
   "outputs": [],
   "source": [
    "a = r.read(1)"
   ]
  },
  {
   "cell_type": "code",
   "execution_count": null,
   "metadata": {},
   "outputs": [],
   "source": [
    "from showit import image\n",
    "%matplotlib inline"
   ]
  },
  {
   "cell_type": "code",
   "execution_count": null,
   "metadata": {},
   "outputs": [],
   "source": [
    "a.shape"
   ]
  },
  {
   "cell_type": "code",
   "execution_count": null,
   "metadata": {},
   "outputs": [],
   "source": [
    "image(a, size=12)"
   ]
  },
  {
   "cell_type": "code",
   "execution_count": null,
   "metadata": {},
   "outputs": [],
   "source": [
    "from rasterio import Affine\n",
    "from rasterio.transform import rowcol\n",
    "from pyproj import transform, Proj\n",
    "from carbonplan_data.utils import albers_conus_crs, albers_conus_transform"
   ]
  },
  {
   "cell_type": "code",
   "execution_count": null,
   "metadata": {},
   "outputs": [],
   "source": [
    "inds = df['year'] > 2010\n",
    "df_sub = df[inds].reset_index()\n",
    "t = Affine(*albers_conus_transform(4000))\n",
    "p1 = Proj(albers_conus_crs())\n",
    "p2 = Proj(proj='latlong', datum='WGS84')\n",
    "x, y = transform(p2, p1, df_sub['lon'].values, df_sub['lat'].values)\n",
    "rc = rowcol(t, x, y)"
   ]
  },
  {
   "cell_type": "code",
   "execution_count": null,
   "metadata": {},
   "outputs": [],
   "source": [
    "m = np.zeros(a.shape)\n",
    "b = np.zeros(a.shape)"
   ]
  },
  {
   "cell_type": "code",
   "execution_count": null,
   "metadata": {},
   "outputs": [],
   "source": [
    "for i, (r, c) in enumerate(zip(rc[0],rc[1])):\n",
    "    m[r, c] += 1\n",
    "    b[r, c] += df_sub['biomass'][i]"
   ]
  },
  {
   "cell_type": "code",
   "execution_count": null,
   "metadata": {},
   "outputs": [],
   "source": [
    "m[rc[0], rc[1]] = df['biomass']"
   ]
  },
  {
   "cell_type": "code",
   "execution_count": null,
   "metadata": {},
   "outputs": [],
   "source": [
    "image(a[0:300,0:300], size=12)"
   ]
  },
  {
   "cell_type": "code",
   "execution_count": null,
   "metadata": {},
   "outputs": [],
   "source": [
    "image(b[0:300,0:300] / m[0:300,0:300], clim=(0,400), size=12)"
   ]
  },
  {
   "cell_type": "code",
   "execution_count": null,
   "metadata": {},
   "outputs": [],
   "source": [
    "image(m[0:300,0:300], clim=(0,1), size=12)"
   ]
  },
  {
   "cell_type": "code",
   "execution_count": null,
   "metadata": {},
   "outputs": [],
   "source": [
    "image(m, clim=(0,200), cmap='viridis', size=12)"
   ]
  },
  {
   "cell_type": "code",
   "execution_count": null,
   "metadata": {},
   "outputs": [],
   "source": [
    "image((m[0:400,0:400]!=201) & (m[0:400,0:400]!=0), size=12)"
   ]
  },
  {
   "cell_type": "code",
   "execution_count": null,
   "metadata": {},
   "outputs": [],
   "source": [
    "np.unique(a[0:400,0:400])"
   ]
  },
  {
   "cell_type": "code",
   "execution_count": null,
   "metadata": {},
   "outputs": [],
   "source": [
    "image(((m[0:400,0:400]!=201) & (m[0:400,0:400]!=0)) + 0.5*(a[0:400,0:400]==301), size=12)"
   ]
  },
  {
   "cell_type": "code",
   "execution_count": null,
   "metadata": {},
   "outputs": [],
   "source": [
    "import matplotlib.pyplot as plt"
   ]
  },
  {
   "cell_type": "code",
   "execution_count": null,
   "metadata": {},
   "outputs": [],
   "source": [
    "sum(types==df['type_code'])/len(types)"
   ]
  },
  {
   "cell_type": "code",
   "execution_count": null,
   "metadata": {},
   "outputs": [],
   "source": [
    "plot.xy(x=types, y=df['type_code'])"
   ]
  },
  {
   "cell_type": "code",
   "execution_count": null,
   "metadata": {},
   "outputs": [],
   "source": [
    "image(m[0:300,0:300], size=12)"
   ]
  }
 ],
 "metadata": {
  "kernelspec": {
   "display_name": "Python 3",
   "language": "python",
   "name": "python3"
  },
  "language_info": {
   "codemirror_mode": {
    "name": "ipython",
    "version": 3
   },
   "file_extension": ".py",
   "mimetype": "text/x-python",
   "name": "python",
   "nbconvert_exporter": "python",
   "pygments_lexer": "ipython3",
   "version": "3.7.6"
  }
 },
 "nbformat": 4,
 "nbformat_minor": 2
}
