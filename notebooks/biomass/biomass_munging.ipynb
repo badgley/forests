{
 "cells": [
  {
   "cell_type": "markdown",
   "metadata": {},
   "source": [
    "<img width=\"50\" src=\"https://carbonplan-assets.s3.amazonaws.com/monogram/dark-small.png\" style=\"margin-left:0px;margin-top:20px\"/>\n",
    "\n",
    "# FIA Biomass Modeling\n",
    "\n",
    "_by Jeremy Freeman (CarbonPlan), September 19, 2020_\n",
    "\n",
    "This notebook extracts fits predictive biomass growth curves from FIA data"
   ]
  },
  {
   "cell_type": "code",
   "execution_count": null,
   "metadata": {},
   "outputs": [],
   "source": [
    "%load_ext autoreload\n",
    "%autoreload 2"
   ]
  },
  {
   "cell_type": "code",
   "execution_count": 1,
   "metadata": {},
   "outputs": [],
   "source": [
    "import numpy as np\n",
    "import pandas as pd\n",
    "from forests import load, setup, plot, fit"
   ]
  },
  {
   "cell_type": "code",
   "execution_count": 2,
   "metadata": {},
   "outputs": [],
   "source": [
    "setup.plotting()"
   ]
  },
  {
   "cell_type": "code",
   "execution_count": 3,
   "metadata": {},
   "outputs": [],
   "source": [
    "df = load.fia(store='local', states='CA')\n",
    "df = load.terraclim(store='local', tlim=(2000,2020), mean=True, df=df)"
   ]
  },
  {
   "cell_type": "code",
   "execution_count": null,
   "metadata": {},
   "outputs": [],
   "source": [
    "type_codes = df['type_code'].unique()"
   ]
  },
  {
   "cell_type": "code",
   "execution_count": null,
   "metadata": {},
   "outputs": [],
   "source": [
    "foo = load.fia(store='local', states='NY', wide=True)"
   ]
  },
  {
   "cell_type": "code",
   "execution_count": null,
   "metadata": {},
   "outputs": [],
   "source": [
    "# fit all models\n",
    "models = {}\n",
    "for i, code in enumerate(type_codes):\n",
    "    print(f'code: {code}')\n",
    "    print(f'percent complete: {100 * i/len(type_codes)}%')\n",
    "    df_type = df[df['type_code'] == code].reset_index()\n",
    "    if len(df_type) > 30:\n",
    "        x = df_type['age']\n",
    "        y = df_type['biomass']\n",
    "        f = [df_type['tmax'], df_type['ppt']]\n",
    "        model = fit.biomass(x=x, y=y, f=f, noise='gamma')\n",
    "        models[code] = model\n",
    "    else:\n",
    "        print('skipping due to low n')"
   ]
  },
  {
   "cell_type": "code",
   "execution_count": null,
   "metadata": {},
   "outputs": [],
   "source": [
    "code"
   ]
  },
  {
   "cell_type": "code",
   "execution_count": null,
   "metadata": {},
   "outputs": [],
   "source": [
    "# evaluate predictions across target years\n",
    "\n",
    "code = 221\n",
    "inds = df['type_code'] == code\n",
    "\n",
    "mf = pd.DataFrame()\n",
    "mf['lat'] = df[inds]['lat']\n",
    "mf['lon'] = df[inds]['lon']\n",
    "\n",
    "targets = np.arange(2000,2100,5)\n",
    "for it in range(len(targets)):\n",
    "    x = df[inds]['age']\n",
    "    year = df[inds]['year']\n",
    "    f = [df[inds]['tmax'], df[inds]['ppt']]\n",
    "    if it == 0:\n",
    "        mf[targets[it]] = models[code].predict(np.maximum(x + (targets[it] - year), 0), f)\n",
    "    else:\n",
    "        diff = models[code].predict(x + (targets[it] - year), f) - models[code].predict(x + (targets[it-1] - year), f)\n",
    "        mf[targets[it]] = np.maximum(mf[targets[it-1]] + diff, 0)"
   ]
  },
  {
   "cell_type": "code",
   "execution_count": null,
   "metadata": {},
   "outputs": [],
   "source": [
    "plt.plot?"
   ]
  },
  {
   "cell_type": "code",
   "execution_count": null,
   "metadata": {},
   "outputs": [],
   "source": [
    "from palettable.cubehelix import perceptual_rainbow_16\n",
    "cmap = perceptual_rainbow_16.mpl_colormap"
   ]
  },
  {
   "cell_type": "code",
   "execution_count": null,
   "metadata": {},
   "outputs": [],
   "source": [
    "import matplotlib as mpl\n",
    "\n",
    "mpl.rcParams['axes.spines.right'] = False\n",
    "mpl.rcParams['axes.spines.top'] = False"
   ]
  },
  {
   "cell_type": "code",
   "execution_count": null,
   "metadata": {},
   "outputs": [],
   "source": [
    "plt.figure(figsize=[12,5])\n",
    "pf = mf[targets].sort_values(2000).reset_index(drop=True)\n",
    "for row,value  in pf.iterrows():\n",
    "    plt.plot(value, 'b', color=cmap(row/len(pf)), alpha=0.1);"
   ]
  },
  {
   "cell_type": "code",
   "execution_count": null,
   "metadata": {},
   "outputs": [],
   "source": [
    "plt.plot(mf[targets].T, 'b', alpha=0.01);"
   ]
  },
  {
   "cell_type": "code",
   "execution_count": null,
   "metadata": {},
   "outputs": [],
   "source": [
    "plt.hist([models[k].train_r2 for k in models.keys()])"
   ]
  },
  {
   "cell_type": "code",
   "execution_count": null,
   "metadata": {},
   "outputs": [],
   "source": [
    "code"
   ]
  },
  {
   "cell_type": "code",
   "execution_count": null,
   "metadata": {},
   "outputs": [],
   "source": [
    "df.groupby('type_code').agg(count=('type_code', 'count')).sort_values('count', ascending=False).T"
   ]
  },
  {
   "cell_type": "code",
   "execution_count": 41,
   "metadata": {},
   "outputs": [
    {
     "data": {
      "text/html": [
       "\n",
       "<div id=\"altair-viz-24\"></div>\n",
       "<script type=\"text/javascript\">\n",
       "  (function(spec, embedOpt){\n",
       "    const outputDiv = document.getElementById(\"altair-viz-24\");\n",
       "    const paths = {\n",
       "      \"vega\": \"https://cdn.jsdelivr.net/npm//vega@5?noext\",\n",
       "      \"vega-lib\": \"https://cdn.jsdelivr.net/npm//vega-lib?noext\",\n",
       "      \"vega-lite\": \"https://cdn.jsdelivr.net/npm//vega-lite@4.0.0?noext\",\n",
       "      \"vega-embed\": \"https://cdn.jsdelivr.net/npm//vega-embed@6?noext\",\n",
       "    };\n",
       "\n",
       "    function loadScript(lib) {\n",
       "      return new Promise(function(resolve, reject) {\n",
       "        var s = document.createElement('script');\n",
       "        s.src = paths[lib];\n",
       "        s.async = true;\n",
       "        s.onload = () => resolve(paths[lib]);\n",
       "        s.onerror = () => reject(`Error loading script: ${paths[lib]}`);\n",
       "        document.getElementsByTagName(\"head\")[0].appendChild(s);\n",
       "      });\n",
       "    }\n",
       "\n",
       "    function showError(err) {\n",
       "      outputDiv.innerHTML = `<div class=\"error\" style=\"color:red;\">${err}</div>`;\n",
       "      throw err;\n",
       "    }\n",
       "\n",
       "    function displayChart(vegaEmbed) {\n",
       "      vegaEmbed(outputDiv, spec, embedOpt)\n",
       "        .catch(err => showError(`Javascript Error: ${err.message}<br>This usually means there's a typo in your chart specification. See the javascript console for the full traceback.`));\n",
       "    }\n",
       "\n",
       "    if(typeof define === \"function\" && define.amd) {\n",
       "      requirejs.config({paths});\n",
       "      require([\"vega-embed\"], displayChart, err => showError(`Error loading script: ${err.message}`));\n",
       "    } else if (typeof vegaEmbed === \"function\") {\n",
       "      displayChart(vegaEmbed);\n",
       "    } else {\n",
       "      loadScript(\"vega\")\n",
       "        .then(() => loadScript(\"vega-lite\"))\n",
       "        .then(() => loadScript(\"vega-embed\"))\n",
       "        .catch(showError)\n",
       "        .then(() => displayChart(vegaEmbed));\n",
       "    }\n",
       "  })({\"config\": {\"view\": {\"continuousWidth\": 400, \"continuousHeight\": 300}}, \"hconcat\": [{\"data\": {\"url\": \"http://localhost:19674/8fce1fa1b0efb4eb866575f433027be3.json\"}, \"mark\": {\"type\": \"circle\", \"size\": 42}, \"encoding\": {\"color\": {\"type\": \"quantitative\", \"field\": \"color\", \"scale\": {\"scheme\": \"viridis\"}}, \"x\": {\"type\": \"quantitative\", \"field\": \"x\", \"scale\": {\"clamp\": true, \"domain\": [0, 200]}}, \"y\": {\"type\": \"quantitative\", \"field\": \"y\", \"scale\": {\"clamp\": true, \"domain\": [0, 500]}}}, \"height\": 300, \"width\": 350}, {\"data\": {\"url\": \"http://localhost:19674/967ec7c90a3afa5c9f74d5797b7d4f49.json\"}, \"mark\": {\"type\": \"circle\", \"size\": 42}, \"encoding\": {\"color\": {\"type\": \"quantitative\", \"field\": \"color\", \"scale\": {\"scheme\": \"viridis\"}}, \"x\": {\"type\": \"quantitative\", \"field\": \"x\", \"scale\": {\"clamp\": true, \"domain\": [0, 200]}}, \"y\": {\"type\": \"quantitative\", \"field\": \"y\", \"scale\": {\"clamp\": true, \"domain\": [0, 500]}}}, \"height\": 300, \"width\": 350}], \"resolve\": {\"scale\": {\"color\": \"independent\"}}, \"$schema\": \"https://vega.github.io/schema/vega-lite/v4.0.0.json\"}, {\"actions\": false, \"mode\": \"vega-lite\"});\n",
       "</script>"
      ],
      "text/plain": [
       "alt.HConcatChart(...)"
      ]
     },
     "execution_count": 41,
     "metadata": {},
     "output_type": "execute_result"
    }
   ],
   "source": [
    "inds = df['type_code'] == 281 # 261 is a problem, 941 / 371 is a good example, 341 shows model deviation\n",
    "x = df[inds]['age']\n",
    "y = df[inds]['biomass']\n",
    "f = [df[inds]['tmax'], df[inds]['ppt']]\n",
    "(\n",
    "plot.xy(x=x, y=y, color=f[0], xlim=[0,200], ylim=[0,500])\n",
    "|\n",
    "plot.xy(x=x, y=y, color=f[1], xlim=[0,200], ylim=[0,500])\n",
    ").resolve_scale(color='independent')"
   ]
  },
  {
   "cell_type": "code",
   "execution_count": null,
   "metadata": {},
   "outputs": [],
   "source": [
    "604.4287614874837"
   ]
  },
  {
   "cell_type": "code",
   "execution_count": 42,
   "metadata": {},
   "outputs": [
    {
     "name": "stdout",
     "output_type": "stream",
     "text": [
      " barrier_parameter: 2.048000000000001e-09\n",
      " barrier_tolerance: 2.048000000000001e-09\n",
      "          cg_niter: 540\n",
      "      cg_stop_cond: 4\n",
      "            constr: [array([ 1.64008012e+02,  3.30793522e-02,  1.30010218e+01, -1.73111469e+00,\n",
      "        3.76106525e-02,  9.28263777e+01])]\n",
      "       constr_nfev: [0]\n",
      "       constr_nhev: [0]\n",
      "       constr_njev: [0]\n",
      "    constr_penalty: 1.0\n",
      "  constr_violation: 0.0\n",
      "    execution_time: 3.156899929046631\n",
      "               fun: 1487.417114663866\n",
      "              grad: array([-4.55880576e-06,  3.20434570e-04,  4.69464300e-06, -0.00000000e+00,\n",
      "        6.10351562e-05,  4.93139647e-06])\n",
      "               jac: [<6x6 sparse matrix of type '<class 'numpy.float64'>'\n",
      "\twith 6 stored elements in Compressed Sparse Row format>]\n",
      "   lagrangian_grad: array([-4.55864877e-06,  3.49971047e-07,  4.66210215e-06,  0.00000000e+00,\n",
      "        6.10351562e-05,  4.93080217e-06])\n",
      "           message: '`xtol` termination condition is satisfied.'\n",
      "            method: 'tr_interior_point'\n",
      "              nfev: 1393\n",
      "              nhev: 0\n",
      "               nit: 223\n",
      "             niter: 223\n",
      "              njev: 0\n",
      "        optimality: 6.103515625e-05\n",
      "            status: 2\n",
      "           success: True\n",
      "         tr_radius: 1.4872883000542579e-09\n",
      "                 v: [array([ 1.56987967e-10, -3.20084599e-04, -3.25408485e-08,  0.00000000e+00,\n",
      "        0.00000000e+00, -5.94298286e-10])]\n",
      "                 x: array([ 1.64008012e+02,  3.30793522e-02,  1.30010218e+01, -1.73111469e+00,\n",
      "        3.76106525e-02,  9.28263777e+01])\n"
     ]
    }
   ],
   "source": [
    "model = fit.biomass(x=x, y=y, f=f, noise='normal')\n",
    "print(model.result)"
   ]
  },
  {
   "cell_type": "code",
   "execution_count": 43,
   "metadata": {},
   "outputs": [
    {
     "data": {
      "text/plain": [
       "0.15034640855022985"
      ]
     },
     "execution_count": 43,
     "metadata": {},
     "output_type": "execute_result"
    }
   ],
   "source": [
    "model.r2(x, f, y)"
   ]
  },
  {
   "cell_type": "code",
   "execution_count": 44,
   "metadata": {},
   "outputs": [
    {
     "data": {
      "text/html": [
       "\n",
       "<div id=\"altair-viz-25\"></div>\n",
       "<script type=\"text/javascript\">\n",
       "  (function(spec, embedOpt){\n",
       "    const outputDiv = document.getElementById(\"altair-viz-25\");\n",
       "    const paths = {\n",
       "      \"vega\": \"https://cdn.jsdelivr.net/npm//vega@5?noext\",\n",
       "      \"vega-lib\": \"https://cdn.jsdelivr.net/npm//vega-lib?noext\",\n",
       "      \"vega-lite\": \"https://cdn.jsdelivr.net/npm//vega-lite@4.0.0?noext\",\n",
       "      \"vega-embed\": \"https://cdn.jsdelivr.net/npm//vega-embed@6?noext\",\n",
       "    };\n",
       "\n",
       "    function loadScript(lib) {\n",
       "      return new Promise(function(resolve, reject) {\n",
       "        var s = document.createElement('script');\n",
       "        s.src = paths[lib];\n",
       "        s.async = true;\n",
       "        s.onload = () => resolve(paths[lib]);\n",
       "        s.onerror = () => reject(`Error loading script: ${paths[lib]}`);\n",
       "        document.getElementsByTagName(\"head\")[0].appendChild(s);\n",
       "      });\n",
       "    }\n",
       "\n",
       "    function showError(err) {\n",
       "      outputDiv.innerHTML = `<div class=\"error\" style=\"color:red;\">${err}</div>`;\n",
       "      throw err;\n",
       "    }\n",
       "\n",
       "    function displayChart(vegaEmbed) {\n",
       "      vegaEmbed(outputDiv, spec, embedOpt)\n",
       "        .catch(err => showError(`Javascript Error: ${err.message}<br>This usually means there's a typo in your chart specification. See the javascript console for the full traceback.`));\n",
       "    }\n",
       "\n",
       "    if(typeof define === \"function\" && define.amd) {\n",
       "      requirejs.config({paths});\n",
       "      require([\"vega-embed\"], displayChart, err => showError(`Error loading script: ${err.message}`));\n",
       "    } else if (typeof vegaEmbed === \"function\") {\n",
       "      displayChart(vegaEmbed);\n",
       "    } else {\n",
       "      loadScript(\"vega\")\n",
       "        .then(() => loadScript(\"vega-lite\"))\n",
       "        .then(() => loadScript(\"vega-embed\"))\n",
       "        .catch(showError)\n",
       "        .then(() => displayChart(vegaEmbed));\n",
       "    }\n",
       "  })({\"config\": {\"view\": {\"continuousWidth\": 400, \"continuousHeight\": 300}}, \"hconcat\": [{\"layer\": [{\"data\": {\"url\": \"http://localhost:19674/8fce1fa1b0efb4eb866575f433027be3.json\"}, \"mark\": {\"type\": \"circle\", \"size\": 42}, \"encoding\": {\"color\": {\"type\": \"quantitative\", \"field\": \"color\", \"scale\": {\"scheme\": \"viridis\"}}, \"x\": {\"type\": \"quantitative\", \"field\": \"x\", \"scale\": {\"clamp\": true, \"domain\": [0, 500]}}, \"y\": {\"type\": \"quantitative\", \"field\": \"y\", \"scale\": {\"clamp\": true, \"domain\": [0, 600]}}}, \"height\": 300, \"width\": 350}, {\"data\": {\"url\": \"http://localhost:19674/9eab921c832cf62278ecc61ba44b556d.json\"}, \"mark\": {\"type\": \"line\", \"strokeWidth\": 3}, \"encoding\": {\"color\": {\"type\": \"quantitative\", \"field\": \"color\", \"scale\": {\"scheme\": \"viridis\"}}, \"x\": {\"type\": \"quantitative\", \"field\": \"x\", \"scale\": {\"clamp\": true, \"domain\": [0, 500]}}, \"y\": {\"type\": \"quantitative\", \"field\": \"y\", \"scale\": {\"clamp\": true, \"domain\": [0, 600]}}}, \"height\": 300, \"width\": 350}, {\"data\": {\"url\": \"http://localhost:19674/ab30c15abbfd36c6486c4ab1762c95aa.json\"}, \"mark\": {\"type\": \"line\", \"strokeWidth\": 3}, \"encoding\": {\"color\": {\"type\": \"quantitative\", \"field\": \"color\", \"scale\": {\"scheme\": \"viridis\"}}, \"x\": {\"type\": \"quantitative\", \"field\": \"x\", \"scale\": {\"clamp\": true, \"domain\": [0, 500]}}, \"y\": {\"type\": \"quantitative\", \"field\": \"y\", \"scale\": {\"clamp\": true, \"domain\": [0, 600]}}}, \"height\": 300, \"width\": 350}]}, {\"layer\": [{\"data\": {\"url\": \"http://localhost:19674/967ec7c90a3afa5c9f74d5797b7d4f49.json\"}, \"mark\": {\"type\": \"circle\", \"size\": 42}, \"encoding\": {\"color\": {\"type\": \"quantitative\", \"field\": \"color\", \"scale\": {\"scheme\": \"viridis\"}}, \"x\": {\"type\": \"quantitative\", \"field\": \"x\", \"scale\": {\"clamp\": true, \"domain\": [0, 500]}}, \"y\": {\"type\": \"quantitative\", \"field\": \"y\", \"scale\": {\"clamp\": true, \"domain\": [0, 600]}}}, \"height\": 300, \"width\": 350}, {\"data\": {\"url\": \"http://localhost:19674/4a5ee2a10db1c0138c62fdbb085aa598.json\"}, \"mark\": {\"type\": \"line\", \"strokeWidth\": 3}, \"encoding\": {\"color\": {\"type\": \"quantitative\", \"field\": \"color\", \"scale\": {\"scheme\": \"viridis\"}}, \"x\": {\"type\": \"quantitative\", \"field\": \"x\", \"scale\": {\"clamp\": true, \"domain\": [0, 500]}}, \"y\": {\"type\": \"quantitative\", \"field\": \"y\", \"scale\": {\"clamp\": true, \"domain\": [0, 600]}}}, \"height\": 300, \"width\": 350}, {\"data\": {\"url\": \"http://localhost:19674/9537c5af7724e71f8137a0714a183a12.json\"}, \"mark\": {\"type\": \"line\", \"strokeWidth\": 3}, \"encoding\": {\"color\": {\"type\": \"quantitative\", \"field\": \"color\", \"scale\": {\"scheme\": \"viridis\"}}, \"x\": {\"type\": \"quantitative\", \"field\": \"x\", \"scale\": {\"clamp\": true, \"domain\": [0, 500]}}, \"y\": {\"type\": \"quantitative\", \"field\": \"y\", \"scale\": {\"clamp\": true, \"domain\": [0, 600]}}}, \"height\": 300, \"width\": 350}]}], \"resolve\": {\"scale\": {\"color\": \"independent\"}}, \"$schema\": \"https://vega.github.io/schema/vega-lite/v4.0.0.json\"}, {\"actions\": false, \"mode\": \"vega-lite\"});\n",
       "</script>"
      ],
      "text/plain": [
       "alt.HConcatChart(...)"
      ]
     },
     "execution_count": 44,
     "metadata": {},
     "output_type": "execute_result"
    }
   ],
   "source": [
    "xlim = [0, 500]\n",
    "ylim= [0, 600]\n",
    "(\n",
    "(\n",
    "plot.xy(x=x, y=y, color=f[0], xlim=xlim, ylim=ylim)\n",
    "+ plot.line(x=x, y=model.predict(x, f, [90, 50]), color=np.nanpercentile(f[0], 90), xlim=xlim, ylim=ylim)\n",
    "+ plot.line(x=x, y=model.predict(x, f, [10, 50]), color=np.nanpercentile(f[0], 10), xlim=xlim, ylim=ylim)\n",
    ")\n",
    "|\n",
    "(\n",
    "plot.xy(x=x, y=y, color=f[1], xlim=xlim, ylim=ylim)\n",
    "+ plot.line(x=x, y=model.predict(x, f, [50, 10]), color=np.nanpercentile(f[1], 10), xlim=xlim, ylim=ylim)\n",
    "+ plot.line(x=x, y=model.predict(x, f, [50, 90]), color=np.nanpercentile(f[1], 90), xlim=xlim, ylim=ylim)\n",
    ")\n",
    ").resolve_scale(color='independent')"
   ]
  },
  {
   "cell_type": "code",
   "execution_count": 40,
   "metadata": {},
   "outputs": [
    {
     "data": {
      "text/html": [
       "\n",
       "<div id=\"altair-viz-23\"></div>\n",
       "<script type=\"text/javascript\">\n",
       "  (function(spec, embedOpt){\n",
       "    const outputDiv = document.getElementById(\"altair-viz-23\");\n",
       "    const paths = {\n",
       "      \"vega\": \"https://cdn.jsdelivr.net/npm//vega@5?noext\",\n",
       "      \"vega-lib\": \"https://cdn.jsdelivr.net/npm//vega-lib?noext\",\n",
       "      \"vega-lite\": \"https://cdn.jsdelivr.net/npm//vega-lite@4.0.0?noext\",\n",
       "      \"vega-embed\": \"https://cdn.jsdelivr.net/npm//vega-embed@6?noext\",\n",
       "    };\n",
       "\n",
       "    function loadScript(lib) {\n",
       "      return new Promise(function(resolve, reject) {\n",
       "        var s = document.createElement('script');\n",
       "        s.src = paths[lib];\n",
       "        s.async = true;\n",
       "        s.onload = () => resolve(paths[lib]);\n",
       "        s.onerror = () => reject(`Error loading script: ${paths[lib]}`);\n",
       "        document.getElementsByTagName(\"head\")[0].appendChild(s);\n",
       "      });\n",
       "    }\n",
       "\n",
       "    function showError(err) {\n",
       "      outputDiv.innerHTML = `<div class=\"error\" style=\"color:red;\">${err}</div>`;\n",
       "      throw err;\n",
       "    }\n",
       "\n",
       "    function displayChart(vegaEmbed) {\n",
       "      vegaEmbed(outputDiv, spec, embedOpt)\n",
       "        .catch(err => showError(`Javascript Error: ${err.message}<br>This usually means there's a typo in your chart specification. See the javascript console for the full traceback.`));\n",
       "    }\n",
       "\n",
       "    if(typeof define === \"function\" && define.amd) {\n",
       "      requirejs.config({paths});\n",
       "      require([\"vega-embed\"], displayChart, err => showError(`Error loading script: ${err.message}`));\n",
       "    } else if (typeof vegaEmbed === \"function\") {\n",
       "      displayChart(vegaEmbed);\n",
       "    } else {\n",
       "      loadScript(\"vega\")\n",
       "        .then(() => loadScript(\"vega-lite\"))\n",
       "        .then(() => loadScript(\"vega-embed\"))\n",
       "        .catch(showError)\n",
       "        .then(() => displayChart(vegaEmbed));\n",
       "    }\n",
       "  })({\"config\": {\"view\": {\"continuousWidth\": 400, \"continuousHeight\": 300}}, \"hconcat\": [{\"layer\": [{\"data\": {\"url\": \"http://localhost:19674/dd9e9d3fc48aa126df02237614185075.json\"}, \"mark\": {\"type\": \"circle\", \"color\": \"black\", \"fill\": \"black\", \"size\": 42}, \"encoding\": {\"x\": {\"type\": \"quantitative\", \"field\": \"x\", \"scale\": {\"clamp\": true, \"domain\": [0, 500]}}, \"y\": {\"type\": \"quantitative\", \"field\": \"y\", \"scale\": {\"clamp\": true, \"domain\": [-100, 600]}}}, \"height\": 300, \"width\": 350}, {\"data\": {\"url\": \"http://localhost:19674/f8fadeeda50fb3d1dd4a666bfb781f46.json\"}, \"mark\": {\"type\": \"line\", \"color\": \"rgb(250,100,150)\", \"strokeWidth\": 3}, \"encoding\": {\"x\": {\"type\": \"quantitative\", \"field\": \"x\", \"scale\": {\"clamp\": true, \"domain\": [0, 500]}}, \"y\": {\"type\": \"quantitative\", \"field\": \"y\", \"scale\": {\"clamp\": true, \"domain\": [-100, 600]}}}, \"height\": 300, \"width\": 350}]}, {\"layer\": [{\"data\": {\"url\": \"http://localhost:19674/411e6bc925db1021ef9a26f2ac9901e4.json\"}, \"mark\": {\"type\": \"circle\", \"color\": \"black\", \"fill\": \"black\", \"size\": 42}, \"encoding\": {\"x\": {\"type\": \"quantitative\", \"field\": \"x\", \"scale\": {\"clamp\": true, \"domain\": [0, 500]}}, \"y\": {\"type\": \"quantitative\", \"field\": \"y\", \"scale\": {\"clamp\": true, \"domain\": [-100, 600]}}}, \"height\": 300, \"width\": 350}, {\"data\": {\"url\": \"http://localhost:19674/f8fadeeda50fb3d1dd4a666bfb781f46.json\"}, \"mark\": {\"type\": \"line\", \"color\": \"rgb(250,100,150)\", \"strokeWidth\": 3}, \"encoding\": {\"x\": {\"type\": \"quantitative\", \"field\": \"x\", \"scale\": {\"clamp\": true, \"domain\": [0, 500]}}, \"y\": {\"type\": \"quantitative\", \"field\": \"y\", \"scale\": {\"clamp\": true, \"domain\": [-100, 600]}}}, \"height\": 300, \"width\": 350}]}], \"$schema\": \"https://vega.github.io/schema/vega-lite/v4.0.0.json\"}, {\"actions\": false, \"mode\": \"vega-lite\"});\n",
       "</script>"
      ],
      "text/plain": [
       "alt.HConcatChart(...)"
      ]
     },
     "execution_count": 40,
     "metadata": {},
     "output_type": "execute_result"
    }
   ],
   "source": [
    "xlim = [0,500]\n",
    "ylim= [-100,600]\n",
    "((plot.xy(x=x, y=y, xlim=xlim, ylim=ylim)\n",
    "+ plot.line(x=x, y=model.predict(x, f, [50, 50]), xlim=xlim, ylim=ylim))\n",
    "|\n",
    "(plot.xy(x=x, y=model.sample(x, f), xlim=xlim, ylim=ylim)\n",
    "+ plot.line(x=x, y=model.predict(x, f, [50, 50]), xlim=xlim, ylim=ylim)))"
   ]
  },
  {
   "cell_type": "code",
   "execution_count": null,
   "metadata": {},
   "outputs": [],
   "source": [
    "plot.carto(lat=df['lat'], lon=df['lon'], color=df['biomass'], cmap='yellowgreen', clim=(0,200))"
   ]
  },
  {
   "cell_type": "code",
   "execution_count": null,
   "metadata": {},
   "outputs": [],
   "source": [
    "plot.carto(lat=df['lat'], lon=df['lon'], color=df['tmax'], cmap='plasma', clim=(5, 30))"
   ]
  },
  {
   "cell_type": "code",
   "execution_count": null,
   "metadata": {},
   "outputs": [],
   "source": [
    "import rasterio"
   ]
  },
  {
   "cell_type": "code",
   "execution_count": null,
   "metadata": {},
   "outputs": [],
   "source": [
    "r = rasterio.open('/Users/freeman/workdir/carbonplan-data/processed/nlcd/conus/4000m/2016_c42.tif')"
   ]
  },
  {
   "cell_type": "code",
   "execution_count": null,
   "metadata": {},
   "outputs": [],
   "source": [
    "a = r.read(1)"
   ]
  },
  {
   "cell_type": "code",
   "execution_count": null,
   "metadata": {},
   "outputs": [],
   "source": [
    "from showit import image\n",
    "%matplotlib inline"
   ]
  },
  {
   "cell_type": "code",
   "execution_count": null,
   "metadata": {},
   "outputs": [],
   "source": [
    "a.shape"
   ]
  },
  {
   "cell_type": "code",
   "execution_count": null,
   "metadata": {},
   "outputs": [],
   "source": [
    "image(a, size=12)"
   ]
  },
  {
   "cell_type": "code",
   "execution_count": null,
   "metadata": {},
   "outputs": [],
   "source": [
    "from rasterio import Affine\n",
    "from rasterio.transform import rowcol\n",
    "from pyproj import transform, Proj\n",
    "from carbonplan_data.utils import albers_conus_crs, albers_conus_transform"
   ]
  },
  {
   "cell_type": "code",
   "execution_count": null,
   "metadata": {},
   "outputs": [],
   "source": [
    "inds = df['year'] > 2010\n",
    "df_sub = df[inds].reset_index()\n",
    "t = Affine(*albers_conus_transform(4000))\n",
    "p1 = Proj(albers_conus_crs())\n",
    "p2 = Proj(proj='latlong', datum='WGS84')\n",
    "x, y = transform(p2, p1, df_sub['lon'].values, df_sub['lat'].values)\n",
    "rc = rowcol(t, x, y)"
   ]
  },
  {
   "cell_type": "code",
   "execution_count": null,
   "metadata": {},
   "outputs": [],
   "source": [
    "m = np.zeros(a.shape)\n",
    "b = np.zeros(a.shape)"
   ]
  },
  {
   "cell_type": "code",
   "execution_count": null,
   "metadata": {},
   "outputs": [],
   "source": [
    "for i, (r, c) in enumerate(zip(rc[0],rc[1])):\n",
    "    m[r, c] += 1\n",
    "    b[r, c] += df_sub['biomass'][i]"
   ]
  },
  {
   "cell_type": "code",
   "execution_count": null,
   "metadata": {},
   "outputs": [],
   "source": [
    "m[rc[0], rc[1]] = df['biomass']"
   ]
  },
  {
   "cell_type": "code",
   "execution_count": null,
   "metadata": {},
   "outputs": [],
   "source": [
    "image(a[0:300,0:300], size=12)"
   ]
  },
  {
   "cell_type": "code",
   "execution_count": null,
   "metadata": {},
   "outputs": [],
   "source": [
    "image(b[0:300,0:300] / m[0:300,0:300], clim=(0,400), size=12)"
   ]
  },
  {
   "cell_type": "code",
   "execution_count": null,
   "metadata": {},
   "outputs": [],
   "source": [
    "image(m[0:300,0:300], clim=(0,1), size=12)"
   ]
  },
  {
   "cell_type": "code",
   "execution_count": null,
   "metadata": {},
   "outputs": [],
   "source": [
    "image(m, clim=(0,200), cmap='viridis', size=12)"
   ]
  },
  {
   "cell_type": "code",
   "execution_count": null,
   "metadata": {},
   "outputs": [],
   "source": [
    "image((m[0:400,0:400]!=201) & (m[0:400,0:400]!=0), size=12)"
   ]
  },
  {
   "cell_type": "code",
   "execution_count": null,
   "metadata": {},
   "outputs": [],
   "source": [
    "np.unique(a[0:400,0:400])"
   ]
  },
  {
   "cell_type": "code",
   "execution_count": null,
   "metadata": {},
   "outputs": [],
   "source": [
    "image(((m[0:400,0:400]!=201) & (m[0:400,0:400]!=0)) + 0.5*(a[0:400,0:400]==301), size=12)"
   ]
  },
  {
   "cell_type": "code",
   "execution_count": null,
   "metadata": {},
   "outputs": [],
   "source": [
    "import matplotlib.pyplot as plt"
   ]
  },
  {
   "cell_type": "code",
   "execution_count": null,
   "metadata": {},
   "outputs": [],
   "source": [
    "sum(types==df['type_code'])/len(types)"
   ]
  },
  {
   "cell_type": "code",
   "execution_count": null,
   "metadata": {},
   "outputs": [],
   "source": [
    "plot.xy(x=types, y=df['type_code'])"
   ]
  },
  {
   "cell_type": "code",
   "execution_count": null,
   "metadata": {},
   "outputs": [],
   "source": [
    "image(m[0:300,0:300], size=12)"
   ]
  }
 ],
 "metadata": {
  "kernelspec": {
   "display_name": "Python 3",
   "language": "python",
   "name": "python3"
  },
  "language_info": {
   "codemirror_mode": {
    "name": "ipython",
    "version": 3
   },
   "file_extension": ".py",
   "mimetype": "text/x-python",
   "name": "python",
   "nbconvert_exporter": "python",
   "pygments_lexer": "ipython3",
   "version": "3.7.6"
  }
 },
 "nbformat": 4,
 "nbformat_minor": 4
}
