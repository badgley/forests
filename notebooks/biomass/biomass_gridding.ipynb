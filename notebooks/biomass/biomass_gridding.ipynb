{
 "cells": [
  {
   "cell_type": "markdown",
   "metadata": {},
   "source": [
    "<img width=\"50\" src=\"https://carbonplan-assets.s3.amazonaws.com/monogram/dark-small.png\" style=\"margin-left:0px;margin-top:20px\"/>\n",
    "\n",
    "# Biomass gridding\n",
    "\n",
    "_by Joe Hamman (CarbonPlan), September 29, 2020_\n",
    "\n",
    "This notebook uses Verde to grid biomass point estimates."
   ]
  },
  {
   "cell_type": "code",
   "execution_count": null,
   "metadata": {},
   "outputs": [],
   "source": [
    "import pandas as pd\n",
    "import pyproj\n",
    "import xarray as xr\n",
    "from carbonplan.forests.fit.interp import points_to_grid\n",
    "import zarr\n",
    "import os"
   ]
  },
  {
   "cell_type": "markdown",
   "metadata": {},
   "source": [
    "## get the input data"
   ]
  },
  {
   "cell_type": "code",
   "execution_count": null,
   "metadata": {},
   "outputs": [],
   "source": [
    "# open points data\n",
    "data = pd.read_parquet('/home/jovyan/interpolation_test_raw_data.parquet')\n",
    "\n",
    "# create mask\n",
    "classes = [41, 42, 43, 51, 52, 90]\n",
    "bands = xr.concat(\n",
    "    [xr.open_rasterio(f'https://carbonplan.blob.core.windows.net/carbonplan-data/processed/nlcd/conus/4000m/2016_c{c}.tif') for c in classes],\n",
    "    dim=xr.Variable('band', classes))\n",
    "mask = bands.sum('band', keep_attrs=True)\n",
    "mask.plot(cmap='Greys')"
   ]
  },
  {
   "cell_type": "markdown",
   "metadata": {},
   "source": [
    "## grid the data"
   ]
  },
  {
   "cell_type": "code",
   "execution_count": null,
   "metadata": {},
   "outputs": [],
   "source": [
    "gridded_points = points_to_grid(data, mask)\n",
    "gridded_points.plot(cmap='Greens', vmax=400)"
   ]
  },
  {
   "cell_type": "markdown",
   "metadata": {},
   "source": [
    "## save the gridded data as a zarr store"
   ]
  },
  {
   "cell_type": "code",
   "execution_count": null,
   "metadata": {},
   "outputs": [],
   "source": [
    "store = zarr.storage.ABSStore('carbonplan-scratch',\n",
    "                              prefix='biomass_grid.zarr',\n",
    "                              account_name=\"carbonplan\",\n",
    "                              account_key=os.environ[\"BLOB_ACCOUNT_KEY\"])"
   ]
  },
  {
   "cell_type": "code",
   "execution_count": null,
   "metadata": {},
   "outputs": [],
   "source": [
    "gridded_points.to_dataset(name='biomass').to_zarr(store, mode='w', consolidated=True)"
   ]
  },
  {
   "cell_type": "code",
   "execution_count": null,
   "metadata": {},
   "outputs": [],
   "source": []
  }
 ],
 "metadata": {
  "kernelspec": {
   "display_name": "Python 3",
   "language": "python",
   "name": "python3"
  },
  "language_info": {
   "codemirror_mode": {
    "name": "ipython",
    "version": 3
   },
   "file_extension": ".py",
   "mimetype": "text/x-python",
   "name": "python",
   "nbconvert_exporter": "python",
   "pygments_lexer": "ipython3",
   "version": "3.7.8"
  }
 },
 "nbformat": 4,
 "nbformat_minor": 4
}
