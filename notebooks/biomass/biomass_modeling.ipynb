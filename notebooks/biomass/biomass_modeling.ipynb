{
 "cells": [
  {
   "cell_type": "markdown",
   "metadata": {},
   "source": [
    "<img width=\"50\" src=\"https://carbonplan-assets.s3.amazonaws.com/monogram/dark-small.png\" style=\"margin-left:0px;margin-top:20px\"/>\n",
    "\n",
    "# FIA Biomass Modeling\n",
    "\n",
    "_by Jeremy Freeman (CarbonPlan), September 19, 2020_\n",
    "\n",
    "This notebook extracts fits predictive biomass growth curves from FIA data"
   ]
  },
  {
   "cell_type": "code",
   "execution_count": 2,
   "metadata": {},
   "outputs": [],
   "source": [
    "import numpy as np\n",
    "import pandas as pd\n",
    "from forests import load, setup, plot, fit"
   ]
  },
  {
   "cell_type": "code",
   "execution_count": 3,
   "metadata": {},
   "outputs": [],
   "source": [
    "setup.plotting()"
   ]
  },
  {
   "cell_type": "code",
   "execution_count": 30,
   "metadata": {},
   "outputs": [],
   "source": [
    "df = load.fia(store='local', states='conus')\n",
    "df = load.terraclim(store='local', tlim=(2000,2020), vars=['tmax', 'ppt'], aggs=['mean', 'sum'], mean=True, df=df)"
   ]
  },
  {
   "cell_type": "code",
   "execution_count": 31,
   "metadata": {},
   "outputs": [
    {
     "data": {
      "text/html": [
       "\n",
       "<div id=\"altair-viz-525a40bc342e46f9aa39c7bd079b9bed\"></div>\n",
       "<script type=\"text/javascript\">\n",
       "  (function(spec, embedOpt){\n",
       "    let outputDiv = document.currentScript.previousElementSibling;\n",
       "    if (outputDiv.id !== \"altair-viz-525a40bc342e46f9aa39c7bd079b9bed\") {\n",
       "      outputDiv = document.getElementById(\"altair-viz-525a40bc342e46f9aa39c7bd079b9bed\");\n",
       "    }\n",
       "    const paths = {\n",
       "      \"vega\": \"https://cdn.jsdelivr.net/npm//vega@5?noext\",\n",
       "      \"vega-lib\": \"https://cdn.jsdelivr.net/npm//vega-lib?noext\",\n",
       "      \"vega-lite\": \"https://cdn.jsdelivr.net/npm//vega-lite@4.8.1?noext\",\n",
       "      \"vega-embed\": \"https://cdn.jsdelivr.net/npm//vega-embed@6?noext\",\n",
       "    };\n",
       "\n",
       "    function loadScript(lib) {\n",
       "      return new Promise(function(resolve, reject) {\n",
       "        var s = document.createElement('script');\n",
       "        s.src = paths[lib];\n",
       "        s.async = true;\n",
       "        s.onload = () => resolve(paths[lib]);\n",
       "        s.onerror = () => reject(`Error loading script: ${paths[lib]}`);\n",
       "        document.getElementsByTagName(\"head\")[0].appendChild(s);\n",
       "      });\n",
       "    }\n",
       "\n",
       "    function showError(err) {\n",
       "      outputDiv.innerHTML = `<div class=\"error\" style=\"color:red;\">${err}</div>`;\n",
       "      throw err;\n",
       "    }\n",
       "\n",
       "    function displayChart(vegaEmbed) {\n",
       "      vegaEmbed(outputDiv, spec, embedOpt)\n",
       "        .catch(err => showError(`Javascript Error: ${err.message}<br>This usually means there's a typo in your chart specification. See the javascript console for the full traceback.`));\n",
       "    }\n",
       "\n",
       "    if(typeof define === \"function\" && define.amd) {\n",
       "      requirejs.config({paths});\n",
       "      require([\"vega-embed\"], displayChart, err => showError(`Error loading script: ${err.message}`));\n",
       "    } else if (typeof vegaEmbed === \"function\") {\n",
       "      displayChart(vegaEmbed);\n",
       "    } else {\n",
       "      loadScript(\"vega\")\n",
       "        .then(() => loadScript(\"vega-lite\"))\n",
       "        .then(() => loadScript(\"vega-embed\"))\n",
       "        .catch(showError)\n",
       "        .then(() => displayChart(vegaEmbed));\n",
       "    }\n",
       "  })({\"config\": {\"view\": {\"continuousWidth\": 400, \"continuousHeight\": 300}}, \"hconcat\": [{\"data\": {\"url\": \"http://localhost:15770/6931adfbfadd95e1ef6dcb19ac6f3696.json\"}, \"mark\": {\"type\": \"circle\", \"size\": 42}, \"encoding\": {\"color\": {\"type\": \"quantitative\", \"field\": \"color\", \"legend\": {\"title\": \"tmax_mean\"}, \"scale\": {\"scheme\": \"magma\"}}, \"x\": {\"type\": \"quantitative\", \"axis\": {\"title\": \"age\"}, \"field\": \"x\", \"scale\": {\"clamp\": true, \"domain\": [0, 200]}}, \"y\": {\"type\": \"quantitative\", \"axis\": {\"title\": \"biomass\"}, \"field\": \"y\", \"scale\": {\"clamp\": true, \"domain\": [0, 500]}}}, \"height\": 300, \"width\": 350}, {\"data\": {\"url\": \"http://localhost:15770/577c4bb494fbd129dfa4792b7f9ae498.json\"}, \"mark\": {\"type\": \"circle\", \"size\": 42}, \"encoding\": {\"color\": {\"type\": \"quantitative\", \"field\": \"color\", \"legend\": {\"title\": \"ppt_sum\"}, \"scale\": {\"scheme\": \"viridis\"}}, \"x\": {\"type\": \"quantitative\", \"axis\": {\"title\": \"age\"}, \"field\": \"x\", \"scale\": {\"clamp\": true, \"domain\": [0, 200]}}, \"y\": {\"type\": \"quantitative\", \"axis\": {\"title\": \"biomass\"}, \"field\": \"y\", \"scale\": {\"clamp\": true, \"domain\": [0, 500]}}}, \"height\": 300, \"width\": 350}], \"resolve\": {\"scale\": {\"color\": \"independent\"}}, \"$schema\": \"https://vega.github.io/schema/vega-lite/v4.8.1.json\"}, {\"actions\": false, \"mode\": \"vega-lite\"});\n",
       "</script>"
      ],
      "text/plain": [
       "alt.HConcatChart(...)"
      ]
     },
     "execution_count": 31,
     "metadata": {},
     "output_type": "execute_result"
    }
   ],
   "source": [
    "inds = (df['type_code'] == 941) & (df['state'] == 'CA')\n",
    "x = df[inds]['age']\n",
    "y = df[inds]['biomass']\n",
    "f = [df[inds]['tmax_mean'], df[inds]['ppt_sum']]\n",
    "(\n",
    "plot.xy(x=x, y=y, color=f[0], cmap='magma', xlim=[0,200], ylim=[0,500])\n",
    "|\n",
    "plot.xy(x=x, y=y, color=f[1], xlim=[0,200], ylim=[0,500])\n",
    ").resolve_scale(color='independent')"
   ]
  },
  {
   "cell_type": "code",
   "execution_count": 32,
   "metadata": {},
   "outputs": [],
   "source": [
    "model = fit.biomass(x=x, y=y, f=f, noise='gamma')"
   ]
  },
  {
   "cell_type": "code",
   "execution_count": 33,
   "metadata": {},
   "outputs": [
    {
     "data": {
      "text/plain": [
       "0.35857408085916465"
      ]
     },
     "execution_count": 33,
     "metadata": {},
     "output_type": "execute_result"
    }
   ],
   "source": [
    "model.r2(x, f, y)"
   ]
  },
  {
   "cell_type": "code",
   "execution_count": 34,
   "metadata": {},
   "outputs": [
    {
     "data": {
      "text/html": [
       "\n",
       "<div id=\"altair-viz-dff25831055e4c61abb9b8a5ea424742\"></div>\n",
       "<script type=\"text/javascript\">\n",
       "  (function(spec, embedOpt){\n",
       "    let outputDiv = document.currentScript.previousElementSibling;\n",
       "    if (outputDiv.id !== \"altair-viz-dff25831055e4c61abb9b8a5ea424742\") {\n",
       "      outputDiv = document.getElementById(\"altair-viz-dff25831055e4c61abb9b8a5ea424742\");\n",
       "    }\n",
       "    const paths = {\n",
       "      \"vega\": \"https://cdn.jsdelivr.net/npm//vega@5?noext\",\n",
       "      \"vega-lib\": \"https://cdn.jsdelivr.net/npm//vega-lib?noext\",\n",
       "      \"vega-lite\": \"https://cdn.jsdelivr.net/npm//vega-lite@4.8.1?noext\",\n",
       "      \"vega-embed\": \"https://cdn.jsdelivr.net/npm//vega-embed@6?noext\",\n",
       "    };\n",
       "\n",
       "    function loadScript(lib) {\n",
       "      return new Promise(function(resolve, reject) {\n",
       "        var s = document.createElement('script');\n",
       "        s.src = paths[lib];\n",
       "        s.async = true;\n",
       "        s.onload = () => resolve(paths[lib]);\n",
       "        s.onerror = () => reject(`Error loading script: ${paths[lib]}`);\n",
       "        document.getElementsByTagName(\"head\")[0].appendChild(s);\n",
       "      });\n",
       "    }\n",
       "\n",
       "    function showError(err) {\n",
       "      outputDiv.innerHTML = `<div class=\"error\" style=\"color:red;\">${err}</div>`;\n",
       "      throw err;\n",
       "    }\n",
       "\n",
       "    function displayChart(vegaEmbed) {\n",
       "      vegaEmbed(outputDiv, spec, embedOpt)\n",
       "        .catch(err => showError(`Javascript Error: ${err.message}<br>This usually means there's a typo in your chart specification. See the javascript console for the full traceback.`));\n",
       "    }\n",
       "\n",
       "    if(typeof define === \"function\" && define.amd) {\n",
       "      requirejs.config({paths});\n",
       "      require([\"vega-embed\"], displayChart, err => showError(`Error loading script: ${err.message}`));\n",
       "    } else if (typeof vegaEmbed === \"function\") {\n",
       "      displayChart(vegaEmbed);\n",
       "    } else {\n",
       "      loadScript(\"vega\")\n",
       "        .then(() => loadScript(\"vega-lite\"))\n",
       "        .then(() => loadScript(\"vega-embed\"))\n",
       "        .catch(showError)\n",
       "        .then(() => displayChart(vegaEmbed));\n",
       "    }\n",
       "  })({\"config\": {\"view\": {\"continuousWidth\": 400, \"continuousHeight\": 300}}, \"hconcat\": [{\"layer\": [{\"data\": {\"url\": \"http://localhost:15770/6931adfbfadd95e1ef6dcb19ac6f3696.json\"}, \"mark\": {\"type\": \"circle\", \"size\": 42}, \"encoding\": {\"color\": {\"type\": \"quantitative\", \"field\": \"color\", \"legend\": {\"title\": \"tmax_mean\"}, \"scale\": {\"scheme\": \"magma\"}}, \"x\": {\"type\": \"quantitative\", \"axis\": {\"title\": \"age\"}, \"field\": \"x\", \"scale\": {\"clamp\": true, \"domain\": [0, 250]}}, \"y\": {\"type\": \"quantitative\", \"axis\": {\"title\": \"biomass\"}, \"field\": \"y\", \"scale\": {\"clamp\": true, \"domain\": [0, 600]}}}, \"height\": 300, \"width\": 350}, {\"data\": {\"url\": \"http://localhost:15770/4d3a13936d51408a2b8a98434e5013e6.json\"}, \"mark\": {\"type\": \"line\", \"strokeWidth\": 3}, \"encoding\": {\"color\": {\"type\": \"quantitative\", \"field\": \"color\", \"scale\": {\"scheme\": \"viridis\"}}, \"x\": {\"type\": \"quantitative\", \"field\": \"x\", \"scale\": {\"clamp\": true, \"domain\": [0, 250]}}, \"y\": {\"type\": \"quantitative\", \"field\": \"y\", \"scale\": {\"clamp\": true, \"domain\": [0, 600]}}}, \"height\": 300, \"width\": 350}, {\"data\": {\"url\": \"http://localhost:15770/d1865e18a285c50ac2154ee0909f0987.json\"}, \"mark\": {\"type\": \"line\", \"strokeWidth\": 3}, \"encoding\": {\"color\": {\"type\": \"quantitative\", \"field\": \"color\", \"scale\": {\"scheme\": \"viridis\"}}, \"x\": {\"type\": \"quantitative\", \"field\": \"x\", \"scale\": {\"clamp\": true, \"domain\": [0, 250]}}, \"y\": {\"type\": \"quantitative\", \"field\": \"y\", \"scale\": {\"clamp\": true, \"domain\": [0, 600]}}}, \"height\": 300, \"width\": 350}]}, {\"layer\": [{\"data\": {\"url\": \"http://localhost:15770/577c4bb494fbd129dfa4792b7f9ae498.json\"}, \"mark\": {\"type\": \"circle\", \"size\": 42}, \"encoding\": {\"color\": {\"type\": \"quantitative\", \"field\": \"color\", \"legend\": {\"title\": \"ppt_sum\"}, \"scale\": {\"scheme\": \"viridis\"}}, \"x\": {\"type\": \"quantitative\", \"axis\": {\"title\": \"age\"}, \"field\": \"x\", \"scale\": {\"clamp\": true, \"domain\": [0, 250]}}, \"y\": {\"type\": \"quantitative\", \"axis\": {\"title\": \"biomass\"}, \"field\": \"y\", \"scale\": {\"clamp\": true, \"domain\": [0, 600]}}}, \"height\": 300, \"width\": 350}, {\"data\": {\"url\": \"http://localhost:15770/0e486be87c8bb9a4086d29ee0206f9b9.json\"}, \"mark\": {\"type\": \"line\", \"strokeWidth\": 3}, \"encoding\": {\"color\": {\"type\": \"quantitative\", \"field\": \"color\", \"scale\": {\"scheme\": \"viridis\"}}, \"x\": {\"type\": \"quantitative\", \"field\": \"x\", \"scale\": {\"clamp\": true, \"domain\": [0, 250]}}, \"y\": {\"type\": \"quantitative\", \"field\": \"y\", \"scale\": {\"clamp\": true, \"domain\": [0, 600]}}}, \"height\": 300, \"width\": 350}, {\"data\": {\"url\": \"http://localhost:15770/46221cc1b94220eec81d0b3a32299ba6.json\"}, \"mark\": {\"type\": \"line\", \"strokeWidth\": 3}, \"encoding\": {\"color\": {\"type\": \"quantitative\", \"field\": \"color\", \"scale\": {\"scheme\": \"viridis\"}}, \"x\": {\"type\": \"quantitative\", \"field\": \"x\", \"scale\": {\"clamp\": true, \"domain\": [0, 250]}}, \"y\": {\"type\": \"quantitative\", \"field\": \"y\", \"scale\": {\"clamp\": true, \"domain\": [0, 600]}}}, \"height\": 300, \"width\": 350}]}], \"resolve\": {\"scale\": {\"color\": \"independent\"}}, \"$schema\": \"https://vega.github.io/schema/vega-lite/v4.8.1.json\"}, {\"actions\": false, \"mode\": \"vega-lite\"});\n",
       "</script>"
      ],
      "text/plain": [
       "alt.HConcatChart(...)"
      ]
     },
     "execution_count": 34,
     "metadata": {},
     "output_type": "execute_result"
    }
   ],
   "source": [
    "xlim = [0, 250]\n",
    "ylim= [0, 600]\n",
    "(\n",
    "(\n",
    "plot.xy(x=x, y=y, color=f[0], cmap='magma', xlim=xlim, ylim=ylim)\n",
    "+ plot.line(x=x, y=model.predict(x, f, [90, 50]), color=np.nanpercentile(f[0], 90), xlim=xlim, ylim=ylim)\n",
    "+ plot.line(x=x, y=model.predict(x, f, [10, 50]), color=np.nanpercentile(f[0], 10), xlim=xlim, ylim=ylim)\n",
    ")\n",
    "|\n",
    "(\n",
    "plot.xy(x=x, y=y, color=f[1], xlim=xlim, ylim=ylim)\n",
    "+ plot.line(x=x, y=model.predict(x, f, [50, 10]), color=np.nanpercentile(f[1], 10), xlim=xlim, ylim=ylim)\n",
    "+ plot.line(x=x, y=model.predict(x, f, [50, 90]), color=np.nanpercentile(f[1], 90), xlim=xlim, ylim=ylim)\n",
    ")\n",
    ").resolve_scale(color='independent')"
   ]
  },
  {
   "cell_type": "code",
   "execution_count": 35,
   "metadata": {},
   "outputs": [
    {
     "data": {
      "text/html": [
       "\n",
       "<div id=\"altair-viz-a8786ebe19d94a14aec3492c1647bf43\"></div>\n",
       "<script type=\"text/javascript\">\n",
       "  (function(spec, embedOpt){\n",
       "    let outputDiv = document.currentScript.previousElementSibling;\n",
       "    if (outputDiv.id !== \"altair-viz-a8786ebe19d94a14aec3492c1647bf43\") {\n",
       "      outputDiv = document.getElementById(\"altair-viz-a8786ebe19d94a14aec3492c1647bf43\");\n",
       "    }\n",
       "    const paths = {\n",
       "      \"vega\": \"https://cdn.jsdelivr.net/npm//vega@5?noext\",\n",
       "      \"vega-lib\": \"https://cdn.jsdelivr.net/npm//vega-lib?noext\",\n",
       "      \"vega-lite\": \"https://cdn.jsdelivr.net/npm//vega-lite@4.8.1?noext\",\n",
       "      \"vega-embed\": \"https://cdn.jsdelivr.net/npm//vega-embed@6?noext\",\n",
       "    };\n",
       "\n",
       "    function loadScript(lib) {\n",
       "      return new Promise(function(resolve, reject) {\n",
       "        var s = document.createElement('script');\n",
       "        s.src = paths[lib];\n",
       "        s.async = true;\n",
       "        s.onload = () => resolve(paths[lib]);\n",
       "        s.onerror = () => reject(`Error loading script: ${paths[lib]}`);\n",
       "        document.getElementsByTagName(\"head\")[0].appendChild(s);\n",
       "      });\n",
       "    }\n",
       "\n",
       "    function showError(err) {\n",
       "      outputDiv.innerHTML = `<div class=\"error\" style=\"color:red;\">${err}</div>`;\n",
       "      throw err;\n",
       "    }\n",
       "\n",
       "    function displayChart(vegaEmbed) {\n",
       "      vegaEmbed(outputDiv, spec, embedOpt)\n",
       "        .catch(err => showError(`Javascript Error: ${err.message}<br>This usually means there's a typo in your chart specification. See the javascript console for the full traceback.`));\n",
       "    }\n",
       "\n",
       "    if(typeof define === \"function\" && define.amd) {\n",
       "      requirejs.config({paths});\n",
       "      require([\"vega-embed\"], displayChart, err => showError(`Error loading script: ${err.message}`));\n",
       "    } else if (typeof vegaEmbed === \"function\") {\n",
       "      displayChart(vegaEmbed);\n",
       "    } else {\n",
       "      loadScript(\"vega\")\n",
       "        .then(() => loadScript(\"vega-lite\"))\n",
       "        .then(() => loadScript(\"vega-embed\"))\n",
       "        .catch(showError)\n",
       "        .then(() => displayChart(vegaEmbed));\n",
       "    }\n",
       "  })({\"config\": {\"view\": {\"continuousWidth\": 400, \"continuousHeight\": 300}}, \"hconcat\": [{\"layer\": [{\"data\": {\"url\": \"http://localhost:15770/8adc43c960828125b4b74bebe6ef1e9a.json\"}, \"mark\": {\"type\": \"circle\", \"color\": \"black\", \"fill\": \"black\", \"size\": 42}, \"encoding\": {\"x\": {\"type\": \"quantitative\", \"axis\": {\"title\": \"age\"}, \"field\": \"x\", \"scale\": {\"clamp\": true, \"domain\": [0, 250]}}, \"y\": {\"type\": \"quantitative\", \"axis\": {\"title\": \"biomass\"}, \"field\": \"y\", \"scale\": {\"clamp\": true, \"domain\": [0, 600]}}}, \"height\": 300, \"width\": 350}, {\"data\": {\"url\": \"http://localhost:15770/fea749eac488935301fb1532b384f4bd.json\"}, \"mark\": {\"type\": \"line\", \"color\": \"rgb(250,100,150)\", \"strokeWidth\": 3}, \"encoding\": {\"x\": {\"type\": \"quantitative\", \"field\": \"x\", \"scale\": {\"clamp\": true, \"domain\": [0, 250]}}, \"y\": {\"type\": \"quantitative\", \"field\": \"y\", \"scale\": {\"clamp\": true, \"domain\": [0, 600]}}}, \"height\": 300, \"width\": 350}]}, {\"layer\": [{\"data\": {\"url\": \"http://localhost:15770/584521b597bb92a40c4c8fe60b812db6.json\"}, \"mark\": {\"type\": \"circle\", \"color\": \"black\", \"fill\": \"black\", \"size\": 42}, \"encoding\": {\"x\": {\"type\": \"quantitative\", \"axis\": {\"title\": \"age\"}, \"field\": \"x\", \"scale\": {\"clamp\": true, \"domain\": [0, 250]}}, \"y\": {\"type\": \"quantitative\", \"axis\": {\"title\": \"y\"}, \"field\": \"y\", \"scale\": {\"clamp\": true, \"domain\": [0, 600]}}}, \"height\": 300, \"width\": 350}, {\"data\": {\"url\": \"http://localhost:15770/fea749eac488935301fb1532b384f4bd.json\"}, \"mark\": {\"type\": \"line\", \"color\": \"rgb(250,100,150)\", \"strokeWidth\": 3}, \"encoding\": {\"x\": {\"type\": \"quantitative\", \"field\": \"x\", \"scale\": {\"clamp\": true, \"domain\": [0, 250]}}, \"y\": {\"type\": \"quantitative\", \"field\": \"y\", \"scale\": {\"clamp\": true, \"domain\": [0, 600]}}}, \"height\": 300, \"width\": 350}]}], \"$schema\": \"https://vega.github.io/schema/vega-lite/v4.8.1.json\"}, {\"actions\": false, \"mode\": \"vega-lite\"});\n",
       "</script>"
      ],
      "text/plain": [
       "alt.HConcatChart(...)"
      ]
     },
     "execution_count": 35,
     "metadata": {},
     "output_type": "execute_result"
    }
   ],
   "source": [
    "xlim = [0,250]\n",
    "ylim= [0,600]\n",
    "((plot.xy(x=x, y=y, xlim=xlim, ylim=ylim)\n",
    "+ plot.line(x=x, y=model.predict(x, f, [50, 50]), xlim=xlim, ylim=ylim))\n",
    "|\n",
    "(plot.xy(x=x, y=model.sample(x, f), xlim=xlim, ylim=ylim)\n",
    "+ plot.line(x=x, y=model.predict(x, f, [50, 50]), xlim=xlim, ylim=ylim)))"
   ]
  },
  {
   "cell_type": "code",
   "execution_count": null,
   "metadata": {},
   "outputs": [],
   "source": [
    "pf = pd.read_parquet('../../scripts/data/biomass.parquet')"
   ]
  },
  {
   "cell_type": "code",
   "execution_count": 27,
   "metadata": {},
   "outputs": [],
   "source": [
    "years = np.arange(2020,2120,20)\n",
    "predictions = [pf['BCC-CSM2-MR_ssp245_' + str(year)].mean() for year in years]"
   ]
  },
  {
   "cell_type": "code",
   "execution_count": 38,
   "metadata": {},
   "outputs": [
    {
     "data": {
      "text/html": [
       "\n",
       "<div id=\"altair-viz-1f9090616476491ea87a2f22ff264365\"></div>\n",
       "<script type=\"text/javascript\">\n",
       "  (function(spec, embedOpt){\n",
       "    let outputDiv = document.currentScript.previousElementSibling;\n",
       "    if (outputDiv.id !== \"altair-viz-1f9090616476491ea87a2f22ff264365\") {\n",
       "      outputDiv = document.getElementById(\"altair-viz-1f9090616476491ea87a2f22ff264365\");\n",
       "    }\n",
       "    const paths = {\n",
       "      \"vega\": \"https://cdn.jsdelivr.net/npm//vega@5?noext\",\n",
       "      \"vega-lib\": \"https://cdn.jsdelivr.net/npm//vega-lib?noext\",\n",
       "      \"vega-lite\": \"https://cdn.jsdelivr.net/npm//vega-lite@4.8.1?noext\",\n",
       "      \"vega-embed\": \"https://cdn.jsdelivr.net/npm//vega-embed@6?noext\",\n",
       "    };\n",
       "\n",
       "    function loadScript(lib) {\n",
       "      return new Promise(function(resolve, reject) {\n",
       "        var s = document.createElement('script');\n",
       "        s.src = paths[lib];\n",
       "        s.async = true;\n",
       "        s.onload = () => resolve(paths[lib]);\n",
       "        s.onerror = () => reject(`Error loading script: ${paths[lib]}`);\n",
       "        document.getElementsByTagName(\"head\")[0].appendChild(s);\n",
       "      });\n",
       "    }\n",
       "\n",
       "    function showError(err) {\n",
       "      outputDiv.innerHTML = `<div class=\"error\" style=\"color:red;\">${err}</div>`;\n",
       "      throw err;\n",
       "    }\n",
       "\n",
       "    function displayChart(vegaEmbed) {\n",
       "      vegaEmbed(outputDiv, spec, embedOpt)\n",
       "        .catch(err => showError(`Javascript Error: ${err.message}<br>This usually means there's a typo in your chart specification. See the javascript console for the full traceback.`));\n",
       "    }\n",
       "\n",
       "    if(typeof define === \"function\" && define.amd) {\n",
       "      requirejs.config({paths});\n",
       "      require([\"vega-embed\"], displayChart, err => showError(`Error loading script: ${err.message}`));\n",
       "    } else if (typeof vegaEmbed === \"function\") {\n",
       "      displayChart(vegaEmbed);\n",
       "    } else {\n",
       "      loadScript(\"vega\")\n",
       "        .then(() => loadScript(\"vega-lite\"))\n",
       "        .then(() => loadScript(\"vega-embed\"))\n",
       "        .catch(showError)\n",
       "        .then(() => displayChart(vegaEmbed));\n",
       "    }\n",
       "  })({\"config\": {\"view\": {\"continuousWidth\": 400, \"continuousHeight\": 300}}, \"layer\": [{\"data\": {\"url\": \"http://localhost:15770/2826d9101e3f5ffb729ad70669d7dbb2.json\"}, \"mark\": {\"type\": \"circle\", \"color\": \"black\", \"fill\": \"black\", \"size\": 42}, \"encoding\": {\"x\": {\"type\": \"quantitative\", \"axis\": {\"title\": \"year\"}, \"field\": \"x\", \"scale\": {\"clamp\": true, \"domain\": [2000, 2050]}}, \"y\": {\"type\": \"quantitative\", \"axis\": {\"title\": \"biomass\"}, \"field\": \"y\", \"scale\": {\"clamp\": true, \"domain\": [90, 150]}}}, \"height\": 300, \"width\": 350}, {\"data\": {\"url\": \"http://localhost:15770/c31d7fbfa7a3d4bdf8c771827cc4fc75.json\"}, \"mark\": {\"type\": \"circle\", \"size\": 42}, \"encoding\": {\"color\": {\"type\": \"nominal\", \"field\": \"color\", \"legend\": {\"title\": \"color\"}, \"scale\": {\"scheme\": \"viridis\"}}, \"x\": {\"type\": \"quantitative\", \"axis\": {\"title\": \"x\"}, \"field\": \"x\", \"scale\": {\"clamp\": true, \"domain\": [2000, 2120]}}, \"y\": {\"type\": \"quantitative\", \"axis\": {\"title\": \"y\"}, \"field\": \"y\", \"scale\": {\"clamp\": true, \"domain\": [90, 160]}}}, \"height\": 300, \"width\": 350}], \"$schema\": \"https://vega.github.io/schema/vega-lite/v4.8.1.json\"}, {\"actions\": false, \"mode\": \"vega-lite\"});\n",
       "</script>"
      ],
      "text/plain": [
       "alt.LayerChart(...)"
      ]
     },
     "execution_count": 38,
     "metadata": {},
     "output_type": "execute_result"
    }
   ],
   "source": [
    "inds = (df['year'] >= 2010) & (df['year'] <= 2018)\n",
    "(plot.xy(x=df[inds].groupby('year').mean().index, y=df[inds].groupby('year').mean()['biomass'], xlim=[2000,2050], ylim=[90,150])\n",
    "+ plot.xy(x=years, y=predictions, xlim=[2000,2120], ylim=[90,160], color='blue'))"
   ]
  },
  {
   "cell_type": "code",
   "execution_count": 39,
   "metadata": {},
   "outputs": [
    {
     "data": {
      "text/html": [
       "\n",
       "<div id=\"altair-viz-036c9a9b3e8341788f12b7e900c7da31\"></div>\n",
       "<script type=\"text/javascript\">\n",
       "  (function(spec, embedOpt){\n",
       "    let outputDiv = document.currentScript.previousElementSibling;\n",
       "    if (outputDiv.id !== \"altair-viz-036c9a9b3e8341788f12b7e900c7da31\") {\n",
       "      outputDiv = document.getElementById(\"altair-viz-036c9a9b3e8341788f12b7e900c7da31\");\n",
       "    }\n",
       "    const paths = {\n",
       "      \"vega\": \"https://cdn.jsdelivr.net/npm//vega@5?noext\",\n",
       "      \"vega-lib\": \"https://cdn.jsdelivr.net/npm//vega-lib?noext\",\n",
       "      \"vega-lite\": \"https://cdn.jsdelivr.net/npm//vega-lite@4.8.1?noext\",\n",
       "      \"vega-embed\": \"https://cdn.jsdelivr.net/npm//vega-embed@6?noext\",\n",
       "    };\n",
       "\n",
       "    function loadScript(lib) {\n",
       "      return new Promise(function(resolve, reject) {\n",
       "        var s = document.createElement('script');\n",
       "        s.src = paths[lib];\n",
       "        s.async = true;\n",
       "        s.onload = () => resolve(paths[lib]);\n",
       "        s.onerror = () => reject(`Error loading script: ${paths[lib]}`);\n",
       "        document.getElementsByTagName(\"head\")[0].appendChild(s);\n",
       "      });\n",
       "    }\n",
       "\n",
       "    function showError(err) {\n",
       "      outputDiv.innerHTML = `<div class=\"error\" style=\"color:red;\">${err}</div>`;\n",
       "      throw err;\n",
       "    }\n",
       "\n",
       "    function displayChart(vegaEmbed) {\n",
       "      vegaEmbed(outputDiv, spec, embedOpt)\n",
       "        .catch(err => showError(`Javascript Error: ${err.message}<br>This usually means there's a typo in your chart specification. See the javascript console for the full traceback.`));\n",
       "    }\n",
       "\n",
       "    if(typeof define === \"function\" && define.amd) {\n",
       "      requirejs.config({paths});\n",
       "      require([\"vega-embed\"], displayChart, err => showError(`Error loading script: ${err.message}`));\n",
       "    } else if (typeof vegaEmbed === \"function\") {\n",
       "      displayChart(vegaEmbed);\n",
       "    } else {\n",
       "      loadScript(\"vega\")\n",
       "        .then(() => loadScript(\"vega-lite\"))\n",
       "        .then(() => loadScript(\"vega-embed\"))\n",
       "        .catch(showError)\n",
       "        .then(() => displayChart(vegaEmbed));\n",
       "    }\n",
       "  })({\"config\": {\"view\": {\"continuousWidth\": 400, \"continuousHeight\": 300}}, \"data\": {\"url\": \"http://localhost:15770/dac74881a136dcc118146a10aee54068.json\"}, \"mark\": {\"type\": \"circle\", \"size\": 3}, \"encoding\": {\"color\": {\"type\": \"quantitative\", \"field\": \"color\", \"scale\": {\"clamp\": true, \"domain\": [0, 250], \"scheme\": \"yellowgreen\"}}, \"latitude\": {\"field\": \"lat\", \"type\": \"quantitative\"}, \"longitude\": {\"field\": \"lon\", \"type\": \"quantitative\"}}, \"height\": 400, \"projection\": {\"type\": \"albersUsa\"}, \"width\": 650, \"$schema\": \"https://vega.github.io/schema/vega-lite/v4.8.1.json\"}, {\"actions\": false, \"mode\": \"vega-lite\"});\n",
       "</script>"
      ],
      "text/plain": [
       "alt.Chart(...)"
      ]
     },
     "execution_count": 39,
     "metadata": {},
     "output_type": "execute_result"
    }
   ],
   "source": [
    "plot.carto(lat=df['lat'], lon=df['lon'], color=df['biomass'], cmap='yellowgreen', clim=(0,250))"
   ]
  },
  {
   "cell_type": "code",
   "execution_count": 21,
   "metadata": {},
   "outputs": [
    {
     "data": {
      "text/html": [
       "\n",
       "<div id=\"altair-viz-eef8e35e8b0849109b6f24eeaa33a87a\"></div>\n",
       "<script type=\"text/javascript\">\n",
       "  (function(spec, embedOpt){\n",
       "    let outputDiv = document.currentScript.previousElementSibling;\n",
       "    if (outputDiv.id !== \"altair-viz-eef8e35e8b0849109b6f24eeaa33a87a\") {\n",
       "      outputDiv = document.getElementById(\"altair-viz-eef8e35e8b0849109b6f24eeaa33a87a\");\n",
       "    }\n",
       "    const paths = {\n",
       "      \"vega\": \"https://cdn.jsdelivr.net/npm//vega@5?noext\",\n",
       "      \"vega-lib\": \"https://cdn.jsdelivr.net/npm//vega-lib?noext\",\n",
       "      \"vega-lite\": \"https://cdn.jsdelivr.net/npm//vega-lite@4.8.1?noext\",\n",
       "      \"vega-embed\": \"https://cdn.jsdelivr.net/npm//vega-embed@6?noext\",\n",
       "    };\n",
       "\n",
       "    function loadScript(lib) {\n",
       "      return new Promise(function(resolve, reject) {\n",
       "        var s = document.createElement('script');\n",
       "        s.src = paths[lib];\n",
       "        s.async = true;\n",
       "        s.onload = () => resolve(paths[lib]);\n",
       "        s.onerror = () => reject(`Error loading script: ${paths[lib]}`);\n",
       "        document.getElementsByTagName(\"head\")[0].appendChild(s);\n",
       "      });\n",
       "    }\n",
       "\n",
       "    function showError(err) {\n",
       "      outputDiv.innerHTML = `<div class=\"error\" style=\"color:red;\">${err}</div>`;\n",
       "      throw err;\n",
       "    }\n",
       "\n",
       "    function displayChart(vegaEmbed) {\n",
       "      vegaEmbed(outputDiv, spec, embedOpt)\n",
       "        .catch(err => showError(`Javascript Error: ${err.message}<br>This usually means there's a typo in your chart specification. See the javascript console for the full traceback.`));\n",
       "    }\n",
       "\n",
       "    if(typeof define === \"function\" && define.amd) {\n",
       "      requirejs.config({paths});\n",
       "      require([\"vega-embed\"], displayChart, err => showError(`Error loading script: ${err.message}`));\n",
       "    } else if (typeof vegaEmbed === \"function\") {\n",
       "      displayChart(vegaEmbed);\n",
       "    } else {\n",
       "      loadScript(\"vega\")\n",
       "        .then(() => loadScript(\"vega-lite\"))\n",
       "        .then(() => loadScript(\"vega-embed\"))\n",
       "        .catch(showError)\n",
       "        .then(() => displayChart(vegaEmbed));\n",
       "    }\n",
       "  })({\"config\": {\"view\": {\"continuousWidth\": 400, \"continuousHeight\": 300}}, \"data\": {\"url\": \"http://localhost:15770/13140516fc99b4ae2a49e664f890b79a.json\"}, \"mark\": {\"type\": \"circle\", \"size\": 3}, \"encoding\": {\"color\": {\"type\": \"quantitative\", \"field\": \"color\", \"scale\": {\"clamp\": true, \"domain\": [0, 250], \"scheme\": \"yellowgreen\"}}, \"latitude\": {\"field\": \"lat\", \"type\": \"quantitative\"}, \"longitude\": {\"field\": \"lon\", \"type\": \"quantitative\"}}, \"height\": 400, \"projection\": {\"type\": \"albersUsa\"}, \"width\": 650, \"$schema\": \"https://vega.github.io/schema/vega-lite/v4.8.1.json\"}, {\"actions\": false, \"mode\": \"vega-lite\"});\n",
       "</script>"
      ],
      "text/plain": [
       "alt.Chart(...)"
      ]
     },
     "execution_count": 21,
     "metadata": {},
     "output_type": "execute_result"
    }
   ],
   "source": [
    "plot.carto(lat=pf['lat'], lon=pf['lon'], color=pf['BCC-CSM2-MR_ssp245_2020'], cmap='yellowgreen', clim=(0,250))"
   ]
  },
  {
   "cell_type": "code",
   "execution_count": 36,
   "metadata": {},
   "outputs": [
    {
     "data": {
      "text/html": [
       "\n",
       "<div id=\"altair-viz-15\"></div>\n",
       "<script type=\"text/javascript\">\n",
       "  (function(spec, embedOpt){\n",
       "    const outputDiv = document.getElementById(\"altair-viz-15\");\n",
       "    const paths = {\n",
       "      \"vega\": \"https://cdn.jsdelivr.net/npm//vega@5?noext\",\n",
       "      \"vega-lib\": \"https://cdn.jsdelivr.net/npm//vega-lib?noext\",\n",
       "      \"vega-lite\": \"https://cdn.jsdelivr.net/npm//vega-lite@4.0.0?noext\",\n",
       "      \"vega-embed\": \"https://cdn.jsdelivr.net/npm//vega-embed@6?noext\",\n",
       "    };\n",
       "\n",
       "    function loadScript(lib) {\n",
       "      return new Promise(function(resolve, reject) {\n",
       "        var s = document.createElement('script');\n",
       "        s.src = paths[lib];\n",
       "        s.async = true;\n",
       "        s.onload = () => resolve(paths[lib]);\n",
       "        s.onerror = () => reject(`Error loading script: ${paths[lib]}`);\n",
       "        document.getElementsByTagName(\"head\")[0].appendChild(s);\n",
       "      });\n",
       "    }\n",
       "\n",
       "    function showError(err) {\n",
       "      outputDiv.innerHTML = `<div class=\"error\" style=\"color:red;\">${err}</div>`;\n",
       "      throw err;\n",
       "    }\n",
       "\n",
       "    function displayChart(vegaEmbed) {\n",
       "      vegaEmbed(outputDiv, spec, embedOpt)\n",
       "        .catch(err => showError(`Javascript Error: ${err.message}<br>This usually means there's a typo in your chart specification. See the javascript console for the full traceback.`));\n",
       "    }\n",
       "\n",
       "    if(typeof define === \"function\" && define.amd) {\n",
       "      requirejs.config({paths});\n",
       "      require([\"vega-embed\"], displayChart, err => showError(`Error loading script: ${err.message}`));\n",
       "    } else if (typeof vegaEmbed === \"function\") {\n",
       "      displayChart(vegaEmbed);\n",
       "    } else {\n",
       "      loadScript(\"vega\")\n",
       "        .then(() => loadScript(\"vega-lite\"))\n",
       "        .then(() => loadScript(\"vega-embed\"))\n",
       "        .catch(showError)\n",
       "        .then(() => displayChart(vegaEmbed));\n",
       "    }\n",
       "  })({\"config\": {\"view\": {\"continuousWidth\": 400, \"continuousHeight\": 300}}, \"data\": {\"url\": \"http://localhost:18826/1bc42f4a403e01032bdd62bd30274760.json\"}, \"mark\": {\"type\": \"circle\", \"size\": 3}, \"encoding\": {\"color\": {\"type\": \"quantitative\", \"field\": \"color\", \"scale\": {\"clamp\": true, \"domain\": [0, 250], \"scheme\": \"yellowgreen\"}}, \"latitude\": {\"field\": \"lat\", \"type\": \"quantitative\"}, \"longitude\": {\"field\": \"lon\", \"type\": \"quantitative\"}}, \"height\": 400, \"projection\": {\"type\": \"albersUsa\"}, \"width\": 650, \"$schema\": \"https://vega.github.io/schema/vega-lite/v4.0.0.json\"}, {\"actions\": false, \"mode\": \"vega-lite\"});\n",
       "</script>"
      ],
      "text/plain": [
       "alt.Chart(...)"
      ]
     },
     "execution_count": 36,
     "metadata": {},
     "output_type": "execute_result"
    }
   ],
   "source": [
    "plot.carto(lat=pf['lat'], lon=pf['lon'], color=pf['2100'], cmap='yellowgreen', clim=(0,250))"
   ]
  },
  {
   "cell_type": "code",
   "execution_count": 38,
   "metadata": {},
   "outputs": [
    {
     "data": {
      "text/html": [
       "\n",
       "<div id=\"altair-viz-17\"></div>\n",
       "<script type=\"text/javascript\">\n",
       "  (function(spec, embedOpt){\n",
       "    const outputDiv = document.getElementById(\"altair-viz-17\");\n",
       "    const paths = {\n",
       "      \"vega\": \"https://cdn.jsdelivr.net/npm//vega@5?noext\",\n",
       "      \"vega-lib\": \"https://cdn.jsdelivr.net/npm//vega-lib?noext\",\n",
       "      \"vega-lite\": \"https://cdn.jsdelivr.net/npm//vega-lite@4.0.0?noext\",\n",
       "      \"vega-embed\": \"https://cdn.jsdelivr.net/npm//vega-embed@6?noext\",\n",
       "    };\n",
       "\n",
       "    function loadScript(lib) {\n",
       "      return new Promise(function(resolve, reject) {\n",
       "        var s = document.createElement('script');\n",
       "        s.src = paths[lib];\n",
       "        s.async = true;\n",
       "        s.onload = () => resolve(paths[lib]);\n",
       "        s.onerror = () => reject(`Error loading script: ${paths[lib]}`);\n",
       "        document.getElementsByTagName(\"head\")[0].appendChild(s);\n",
       "      });\n",
       "    }\n",
       "\n",
       "    function showError(err) {\n",
       "      outputDiv.innerHTML = `<div class=\"error\" style=\"color:red;\">${err}</div>`;\n",
       "      throw err;\n",
       "    }\n",
       "\n",
       "    function displayChart(vegaEmbed) {\n",
       "      vegaEmbed(outputDiv, spec, embedOpt)\n",
       "        .catch(err => showError(`Javascript Error: ${err.message}<br>This usually means there's a typo in your chart specification. See the javascript console for the full traceback.`));\n",
       "    }\n",
       "\n",
       "    if(typeof define === \"function\" && define.amd) {\n",
       "      requirejs.config({paths});\n",
       "      require([\"vega-embed\"], displayChart, err => showError(`Error loading script: ${err.message}`));\n",
       "    } else if (typeof vegaEmbed === \"function\") {\n",
       "      displayChart(vegaEmbed);\n",
       "    } else {\n",
       "      loadScript(\"vega\")\n",
       "        .then(() => loadScript(\"vega-lite\"))\n",
       "        .then(() => loadScript(\"vega-embed\"))\n",
       "        .catch(showError)\n",
       "        .then(() => displayChart(vegaEmbed));\n",
       "    }\n",
       "  })({\"config\": {\"view\": {\"continuousWidth\": 400, \"continuousHeight\": 300}}, \"data\": {\"url\": \"http://localhost:18826/b967af8a25e399be4ce707bb29dc2829.json\"}, \"mark\": {\"type\": \"circle\", \"size\": 3}, \"encoding\": {\"color\": {\"type\": \"quantitative\", \"field\": \"color\", \"scale\": {\"clamp\": true, \"domain\": [0, 100], \"scheme\": \"yellowgreen\"}}, \"latitude\": {\"field\": \"lat\", \"type\": \"quantitative\"}, \"longitude\": {\"field\": \"lon\", \"type\": \"quantitative\"}}, \"height\": 400, \"projection\": {\"type\": \"albersUsa\"}, \"width\": 650, \"$schema\": \"https://vega.github.io/schema/vega-lite/v4.0.0.json\"}, {\"actions\": false, \"mode\": \"vega-lite\"});\n",
       "</script>"
      ],
      "text/plain": [
       "alt.Chart(...)"
      ]
     },
     "execution_count": 38,
     "metadata": {},
     "output_type": "execute_result"
    }
   ],
   "source": [
    "plot.carto(lat=pf['lat'], lon=pf['lon'], color=pf['2100']-pf['2020'], cmap='yellowgreen', clim=(0,100))"
   ]
  },
  {
   "cell_type": "code",
   "execution_count": null,
   "metadata": {},
   "outputs": [],
   "source": [
    "import rasterio"
   ]
  },
  {
   "cell_type": "code",
   "execution_count": null,
   "metadata": {},
   "outputs": [],
   "source": [
    "r = rasterio.open('/Users/freeman/workdir/carbonplan-data/processed/nlcd/conus/4000m/2016_c42.tif')"
   ]
  },
  {
   "cell_type": "code",
   "execution_count": null,
   "metadata": {},
   "outputs": [],
   "source": [
    "a = r.read(1)"
   ]
  },
  {
   "cell_type": "code",
   "execution_count": null,
   "metadata": {},
   "outputs": [],
   "source": [
    "from showit import image\n",
    "%matplotlib inline"
   ]
  },
  {
   "cell_type": "code",
   "execution_count": null,
   "metadata": {},
   "outputs": [],
   "source": [
    "a.shape"
   ]
  },
  {
   "cell_type": "code",
   "execution_count": null,
   "metadata": {},
   "outputs": [],
   "source": [
    "image(a, size=12)"
   ]
  },
  {
   "cell_type": "code",
   "execution_count": null,
   "metadata": {},
   "outputs": [],
   "source": [
    "from rasterio import Affine\n",
    "from rasterio.transform import rowcol\n",
    "from pyproj import transform, Proj\n",
    "from carbonplan_data.utils import albers_conus_crs, albers_conus_transform"
   ]
  },
  {
   "cell_type": "code",
   "execution_count": null,
   "metadata": {},
   "outputs": [],
   "source": [
    "inds = df['year'] > 2010\n",
    "df_sub = df[inds].reset_index()\n",
    "t = Affine(*albers_conus_transform(4000))\n",
    "p1 = Proj(albers_conus_crs())\n",
    "p2 = Proj(proj='latlong', datum='WGS84')\n",
    "x, y = transform(p2, p1, df_sub['lon'].values, df_sub['lat'].values)\n",
    "rc = rowcol(t, x, y)"
   ]
  },
  {
   "cell_type": "code",
   "execution_count": null,
   "metadata": {},
   "outputs": [],
   "source": [
    "m = np.zeros(a.shape)\n",
    "b = np.zeros(a.shape)"
   ]
  },
  {
   "cell_type": "code",
   "execution_count": null,
   "metadata": {},
   "outputs": [],
   "source": [
    "for i, (r, c) in enumerate(zip(rc[0],rc[1])):\n",
    "    m[r, c] += 1\n",
    "    b[r, c] += df_sub['biomass'][i]"
   ]
  },
  {
   "cell_type": "code",
   "execution_count": null,
   "metadata": {},
   "outputs": [],
   "source": [
    "m[rc[0], rc[1]] = df['biomass']"
   ]
  },
  {
   "cell_type": "code",
   "execution_count": null,
   "metadata": {},
   "outputs": [],
   "source": [
    "image(a[0:300,0:300], size=12)"
   ]
  },
  {
   "cell_type": "code",
   "execution_count": null,
   "metadata": {},
   "outputs": [],
   "source": [
    "image(b[0:300,0:300] / m[0:300,0:300], clim=(0,400), size=12)"
   ]
  },
  {
   "cell_type": "code",
   "execution_count": null,
   "metadata": {},
   "outputs": [],
   "source": [
    "image(m[0:300,0:300], clim=(0,1), size=12)"
   ]
  },
  {
   "cell_type": "code",
   "execution_count": null,
   "metadata": {},
   "outputs": [],
   "source": [
    "image(m, clim=(0,200), cmap='viridis', size=12)"
   ]
  },
  {
   "cell_type": "code",
   "execution_count": null,
   "metadata": {},
   "outputs": [],
   "source": [
    "image((m[0:400,0:400]!=201) & (m[0:400,0:400]!=0), size=12)"
   ]
  },
  {
   "cell_type": "code",
   "execution_count": null,
   "metadata": {},
   "outputs": [],
   "source": [
    "np.unique(a[0:400,0:400])"
   ]
  },
  {
   "cell_type": "code",
   "execution_count": null,
   "metadata": {},
   "outputs": [],
   "source": [
    "image(((m[0:400,0:400]!=201) & (m[0:400,0:400]!=0)) + 0.5*(a[0:400,0:400]==301), size=12)"
   ]
  },
  {
   "cell_type": "code",
   "execution_count": null,
   "metadata": {},
   "outputs": [],
   "source": [
    "import matplotlib.pyplot as plt"
   ]
  },
  {
   "cell_type": "code",
   "execution_count": null,
   "metadata": {},
   "outputs": [],
   "source": [
    "sum(types==df['type_code'])/len(types)"
   ]
  },
  {
   "cell_type": "code",
   "execution_count": null,
   "metadata": {},
   "outputs": [],
   "source": [
    "plot.xy(x=types, y=df['type_code'])"
   ]
  },
  {
   "cell_type": "code",
   "execution_count": null,
   "metadata": {},
   "outputs": [],
   "source": [
    "image(m[0:300,0:300], size=12)"
   ]
  }
 ],
 "metadata": {
  "kernelspec": {
   "display_name": "Python 3",
   "language": "python",
   "name": "python3"
  },
  "language_info": {
   "codemirror_mode": {
    "name": "ipython",
    "version": 3
   },
   "file_extension": ".py",
   "mimetype": "text/x-python",
   "name": "python",
   "nbconvert_exporter": "python",
   "pygments_lexer": "ipython3",
   "version": "3.8.5"
  }
 },
 "nbformat": 4,
 "nbformat_minor": 4
}
