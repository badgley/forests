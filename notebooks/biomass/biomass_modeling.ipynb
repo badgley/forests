{
 "cells": [
  {
   "cell_type": "markdown",
   "metadata": {},
   "source": [
    "<img width=\"50\" src=\"https://carbonplan-assets.s3.amazonaws.com/monogram/dark-small.png\" style=\"margin-left:0px;margin-top:20px\"/>\n",
    "\n",
    "# FIA Biomass Modeling\n",
    "\n",
    "_by Jeremy Freeman (CarbonPlan), September 19, 2020_\n",
    "\n",
    "This notebook show examples of fitting predictive biomass growth curves from FIA data\n"
   ]
  },
  {
   "cell_type": "code",
   "execution_count": 178,
   "metadata": {},
   "outputs": [],
   "source": [
    "import numpy as np\n",
    "import pandas as pd\n",
    "from carbonplan_forests import load, setup, plot, fit"
   ]
  },
  {
   "cell_type": "code",
   "execution_count": 179,
   "metadata": {},
   "outputs": [],
   "source": [
    "setup.plotting()"
   ]
  },
  {
   "cell_type": "markdown",
   "metadata": {},
   "source": [
    "First we load the data. To speed things up, we'll just load data from California. We load the raw FIA data, as well as two climatic variables `tavg` and `ppt` from the terraclim dataset. "
   ]
  },
  {
   "cell_type": "code",
   "execution_count": 184,
   "metadata": {},
   "outputs": [],
   "source": [
    "df = load.fia(store='local', states='CA')\n",
    "df = load.terraclim(\n",
    "    store='local',\n",
    "    tlim=(2000, 2020),\n",
    "    data_vars=['tavg', 'ppt'],\n",
    "    data_aggs=['mean', 'sum'],\n",
    "    df=df,\n",
    ")"
   ]
  },
  {
   "cell_type": "markdown",
   "metadata": {},
   "source": [
    "We'll now pick a single forest type and plot biomass vs age colored by our climatic variables"
   ]
  },
  {
   "cell_type": "code",
   "execution_count": 186,
   "metadata": {},
   "outputs": [
    {
     "data": {
      "text/html": [
       "\n",
       "<div id=\"altair-viz-c05b9fb5684d45cf85bcda1be960a971\"></div>\n",
       "<script type=\"text/javascript\">\n",
       "  (function(spec, embedOpt){\n",
       "    let outputDiv = document.currentScript.previousElementSibling;\n",
       "    if (outputDiv.id !== \"altair-viz-c05b9fb5684d45cf85bcda1be960a971\") {\n",
       "      outputDiv = document.getElementById(\"altair-viz-c05b9fb5684d45cf85bcda1be960a971\");\n",
       "    }\n",
       "    const paths = {\n",
       "      \"vega\": \"https://cdn.jsdelivr.net/npm//vega@5?noext\",\n",
       "      \"vega-lib\": \"https://cdn.jsdelivr.net/npm//vega-lib?noext\",\n",
       "      \"vega-lite\": \"https://cdn.jsdelivr.net/npm//vega-lite@4.8.1?noext\",\n",
       "      \"vega-embed\": \"https://cdn.jsdelivr.net/npm//vega-embed@6?noext\",\n",
       "    };\n",
       "\n",
       "    function loadScript(lib) {\n",
       "      return new Promise(function(resolve, reject) {\n",
       "        var s = document.createElement('script');\n",
       "        s.src = paths[lib];\n",
       "        s.async = true;\n",
       "        s.onload = () => resolve(paths[lib]);\n",
       "        s.onerror = () => reject(`Error loading script: ${paths[lib]}`);\n",
       "        document.getElementsByTagName(\"head\")[0].appendChild(s);\n",
       "      });\n",
       "    }\n",
       "\n",
       "    function showError(err) {\n",
       "      outputDiv.innerHTML = `<div class=\"error\" style=\"color:red;\">${err}</div>`;\n",
       "      throw err;\n",
       "    }\n",
       "\n",
       "    function displayChart(vegaEmbed) {\n",
       "      vegaEmbed(outputDiv, spec, embedOpt)\n",
       "        .catch(err => showError(`Javascript Error: ${err.message}<br>This usually means there's a typo in your chart specification. See the javascript console for the full traceback.`));\n",
       "    }\n",
       "\n",
       "    if(typeof define === \"function\" && define.amd) {\n",
       "      requirejs.config({paths});\n",
       "      require([\"vega-embed\"], displayChart, err => showError(`Error loading script: ${err.message}`));\n",
       "    } else if (typeof vegaEmbed === \"function\") {\n",
       "      displayChart(vegaEmbed);\n",
       "    } else {\n",
       "      loadScript(\"vega\")\n",
       "        .then(() => loadScript(\"vega-lite\"))\n",
       "        .then(() => loadScript(\"vega-embed\"))\n",
       "        .catch(showError)\n",
       "        .then(() => displayChart(vegaEmbed));\n",
       "    }\n",
       "  })({\"config\": {\"view\": {\"continuousWidth\": 400, \"continuousHeight\": 300}}, \"hconcat\": [{\"data\": {\"url\": \"http://localhost:22415/16fdfe6cd2020a1ac0f59b687eca594b.json\"}, \"mark\": {\"type\": \"circle\", \"size\": 42}, \"encoding\": {\"color\": {\"type\": \"quantitative\", \"field\": \"color\", \"legend\": {\"title\": \"tavg_mean_mean\"}, \"scale\": {\"scheme\": \"magma\"}}, \"x\": {\"type\": \"quantitative\", \"axis\": {\"title\": \"age\"}, \"field\": \"x\", \"scale\": {\"clamp\": true, \"domain\": [0, 250]}}, \"y\": {\"type\": \"quantitative\", \"axis\": {\"title\": \"biomass\"}, \"field\": \"y\", \"scale\": {\"clamp\": true, \"domain\": [0, 600]}}}, \"height\": 300, \"width\": 350}, {\"data\": {\"url\": \"http://localhost:22415/ba7cff985c2ddfd1638c0c64f62bda9f.json\"}, \"mark\": {\"type\": \"circle\", \"size\": 42}, \"encoding\": {\"color\": {\"type\": \"quantitative\", \"field\": \"color\", \"legend\": {\"title\": \"ppt_sum_mean\"}, \"scale\": {\"scheme\": \"viridis\"}}, \"x\": {\"type\": \"quantitative\", \"axis\": {\"title\": \"age\"}, \"field\": \"x\", \"scale\": {\"clamp\": true, \"domain\": [0, 250]}}, \"y\": {\"type\": \"quantitative\", \"axis\": {\"title\": \"biomass\"}, \"field\": \"y\", \"scale\": {\"clamp\": true, \"domain\": [0, 600]}}}, \"height\": 300, \"width\": 350}], \"resolve\": {\"scale\": {\"color\": \"independent\"}}, \"$schema\": \"https://vega.github.io/schema/vega-lite/v4.8.1.json\"}, {\"actions\": false, \"mode\": \"vega-lite\"});\n",
       "</script>"
      ],
      "text/plain": [
       "alt.HConcatChart(...)"
      ]
     },
     "execution_count": 186,
     "metadata": {},
     "output_type": "execute_result"
    }
   ],
   "source": [
    "inds = (df[\"type_code\"] == 371) & (df[\"state\"] == \"CA\")\n",
    "x = df[inds][\"age\"]\n",
    "y = df[inds][\"biomass\"]\n",
    "f = [df[inds][\"tavg_mean_mean\"], df[inds][\"ppt_sum_mean\"]]\n",
    "(\n",
    "    plot.xy(x=x, y=y, color=f[0], cmap=\"magma\", xlim=[0, 250], ylim=[0, 600])\n",
    "    | plot.xy(x=x, y=y, color=f[1], cmap='viridis', xlim=[0, 250], ylim=[0, 600])\n",
    ").resolve_scale(color=\"independent\")"
   ]
  },
  {
   "cell_type": "markdown",
   "metadata": {},
   "source": [
    "To fit the model to these data we use the `fit.biomass` method"
   ]
  },
  {
   "cell_type": "code",
   "execution_count": 205,
   "metadata": {},
   "outputs": [],
   "source": [
    "model = fit.biomass(x=x, y=y, f=f, noise=\"gamma\")"
   ]
  },
  {
   "cell_type": "markdown",
   "metadata": {},
   "source": [
    "We can evaluate `r2` on the training data"
   ]
  },
  {
   "cell_type": "code",
   "execution_count": 197,
   "metadata": {},
   "outputs": [
    {
     "data": {
      "text/plain": [
       "0.3271595158724997"
      ]
     },
     "execution_count": 197,
     "metadata": {},
     "output_type": "execute_result"
    }
   ],
   "source": [
    "model.r2(x, f, y)"
   ]
  },
  {
   "cell_type": "markdown",
   "metadata": {},
   "source": [
    "And we can plot the fitted curves. When plotting, we show curves for different levels of the climatic variables, to show the form of dependency."
   ]
  },
  {
   "cell_type": "code",
   "execution_count": 195,
   "metadata": {},
   "outputs": [
    {
     "data": {
      "text/html": [
       "\n",
       "<div id=\"altair-viz-3395cbb267c549f3929b661731bc8992\"></div>\n",
       "<script type=\"text/javascript\">\n",
       "  (function(spec, embedOpt){\n",
       "    let outputDiv = document.currentScript.previousElementSibling;\n",
       "    if (outputDiv.id !== \"altair-viz-3395cbb267c549f3929b661731bc8992\") {\n",
       "      outputDiv = document.getElementById(\"altair-viz-3395cbb267c549f3929b661731bc8992\");\n",
       "    }\n",
       "    const paths = {\n",
       "      \"vega\": \"https://cdn.jsdelivr.net/npm//vega@5?noext\",\n",
       "      \"vega-lib\": \"https://cdn.jsdelivr.net/npm//vega-lib?noext\",\n",
       "      \"vega-lite\": \"https://cdn.jsdelivr.net/npm//vega-lite@4.8.1?noext\",\n",
       "      \"vega-embed\": \"https://cdn.jsdelivr.net/npm//vega-embed@6?noext\",\n",
       "    };\n",
       "\n",
       "    function loadScript(lib) {\n",
       "      return new Promise(function(resolve, reject) {\n",
       "        var s = document.createElement('script');\n",
       "        s.src = paths[lib];\n",
       "        s.async = true;\n",
       "        s.onload = () => resolve(paths[lib]);\n",
       "        s.onerror = () => reject(`Error loading script: ${paths[lib]}`);\n",
       "        document.getElementsByTagName(\"head\")[0].appendChild(s);\n",
       "      });\n",
       "    }\n",
       "\n",
       "    function showError(err) {\n",
       "      outputDiv.innerHTML = `<div class=\"error\" style=\"color:red;\">${err}</div>`;\n",
       "      throw err;\n",
       "    }\n",
       "\n",
       "    function displayChart(vegaEmbed) {\n",
       "      vegaEmbed(outputDiv, spec, embedOpt)\n",
       "        .catch(err => showError(`Javascript Error: ${err.message}<br>This usually means there's a typo in your chart specification. See the javascript console for the full traceback.`));\n",
       "    }\n",
       "\n",
       "    if(typeof define === \"function\" && define.amd) {\n",
       "      requirejs.config({paths});\n",
       "      require([\"vega-embed\"], displayChart, err => showError(`Error loading script: ${err.message}`));\n",
       "    } else if (typeof vegaEmbed === \"function\") {\n",
       "      displayChart(vegaEmbed);\n",
       "    } else {\n",
       "      loadScript(\"vega\")\n",
       "        .then(() => loadScript(\"vega-lite\"))\n",
       "        .then(() => loadScript(\"vega-embed\"))\n",
       "        .catch(showError)\n",
       "        .then(() => displayChart(vegaEmbed));\n",
       "    }\n",
       "  })({\"config\": {\"view\": {\"continuousWidth\": 400, \"continuousHeight\": 300}}, \"hconcat\": [{\"layer\": [{\"data\": {\"url\": \"http://localhost:22415/16fdfe6cd2020a1ac0f59b687eca594b.json\"}, \"mark\": {\"type\": \"circle\", \"size\": 42}, \"encoding\": {\"color\": {\"type\": \"quantitative\", \"field\": \"color\", \"legend\": {\"title\": \"tavg_mean_mean\"}, \"scale\": {\"scheme\": \"magma\"}}, \"x\": {\"type\": \"quantitative\", \"axis\": {\"title\": \"age\"}, \"field\": \"x\", \"scale\": {\"clamp\": true, \"domain\": [0, 250]}}, \"y\": {\"type\": \"quantitative\", \"axis\": {\"title\": \"biomass\"}, \"field\": \"y\", \"scale\": {\"clamp\": true, \"domain\": [0, 600]}}}, \"height\": 300, \"width\": 350}, {\"data\": {\"url\": \"http://localhost:22415/191f8e1f6202b059822477b8f3903647.json\"}, \"mark\": {\"type\": \"line\", \"opacity\": 1, \"strokeWidth\": 2}, \"encoding\": {\"color\": {\"type\": \"quantitative\", \"field\": \"color\", \"scale\": {\"scheme\": \"viridis\"}}, \"x\": {\"type\": \"quantitative\", \"field\": \"x\"}, \"y\": {\"type\": \"quantitative\", \"field\": \"y\"}}, \"height\": 200, \"width\": 350}, {\"data\": {\"url\": \"http://localhost:22415/c6d1bfaf9bfd6e11c17dd209a6ef8d9e.json\"}, \"mark\": {\"type\": \"line\", \"opacity\": 1, \"strokeWidth\": 2}, \"encoding\": {\"color\": {\"type\": \"quantitative\", \"field\": \"color\", \"scale\": {\"scheme\": \"viridis\"}}, \"x\": {\"type\": \"quantitative\", \"field\": \"x\"}, \"y\": {\"type\": \"quantitative\", \"field\": \"y\"}}, \"height\": 200, \"width\": 350}]}, {\"layer\": [{\"data\": {\"url\": \"http://localhost:22415/ba7cff985c2ddfd1638c0c64f62bda9f.json\"}, \"mark\": {\"type\": \"circle\", \"size\": 42}, \"encoding\": {\"color\": {\"type\": \"quantitative\", \"field\": \"color\", \"legend\": {\"title\": \"ppt_sum_mean\"}, \"scale\": {\"scheme\": \"viridis\"}}, \"x\": {\"type\": \"quantitative\", \"axis\": {\"title\": \"age\"}, \"field\": \"x\", \"scale\": {\"clamp\": true, \"domain\": [0, 250]}}, \"y\": {\"type\": \"quantitative\", \"axis\": {\"title\": \"biomass\"}, \"field\": \"y\", \"scale\": {\"clamp\": true, \"domain\": [0, 600]}}}, \"height\": 300, \"width\": 350}, {\"data\": {\"url\": \"http://localhost:22415/60eb86ba3becd22b9f4f389b4020e39a.json\"}, \"mark\": {\"type\": \"line\", \"opacity\": 1, \"strokeWidth\": 2}, \"encoding\": {\"color\": {\"type\": \"quantitative\", \"field\": \"color\", \"scale\": {\"scheme\": \"viridis\"}}, \"x\": {\"type\": \"quantitative\", \"field\": \"x\"}, \"y\": {\"type\": \"quantitative\", \"field\": \"y\"}}, \"height\": 200, \"width\": 350}, {\"data\": {\"url\": \"http://localhost:22415/cbc3553ecf42cd0ec8c912c7c0ef4a83.json\"}, \"mark\": {\"type\": \"line\", \"opacity\": 1, \"strokeWidth\": 2}, \"encoding\": {\"color\": {\"type\": \"quantitative\", \"field\": \"color\", \"scale\": {\"scheme\": \"viridis\"}}, \"x\": {\"type\": \"quantitative\", \"field\": \"x\"}, \"y\": {\"type\": \"quantitative\", \"field\": \"y\"}}, \"height\": 200, \"width\": 350}]}], \"resolve\": {\"scale\": {\"color\": \"independent\"}}, \"$schema\": \"https://vega.github.io/schema/vega-lite/v4.8.1.json\"}, {\"actions\": false, \"mode\": \"vega-lite\"});\n",
       "</script>"
      ],
      "text/plain": [
       "alt.HConcatChart(...)"
      ]
     },
     "execution_count": 195,
     "metadata": {},
     "output_type": "execute_result"
    }
   ],
   "source": [
    "xlim = [0, 250]\n",
    "ylim = [0, 600]\n",
    "(\n",
    "    (\n",
    "        plot.xy(x=x, y=y, color=f[0], cmap=\"magma\", xlim=xlim, ylim=ylim)\n",
    "        + plot.line(x=x, y=model.predict(x, f, [90, 50]), color=np.nanpercentile(f[0], 90))\n",
    "        + plot.line(x=x, y=model.predict(x, f, [10, 50]), color=np.nanpercentile(f[0], 10))\n",
    "    )\n",
    "    | (\n",
    "        plot.xy(x=x, y=y, color=f[1], cmap='viridis', xlim=xlim, ylim=ylim)\n",
    "        + plot.line(x=x, y=model.predict(x, f, [50, 10]), color=np.nanpercentile(f[1], 10))\n",
    "        + plot.line(x=x, y=model.predict(x, f, [50, 90]), color=np.nanpercentile(f[1], 90))\n",
    "    )\n",
    ").resolve_scale(color=\"independent\")"
   ]
  },
  {
   "cell_type": "markdown",
   "metadata": {},
   "source": [
    "As an inspection of model validity, we can plot the raw data and a sample from the generative process underlying the model using the fitted parameters (specifically, the fitted growth curve, and the Gamma noise model). It should look qualatatively similar to the actual data. In particular, note how the noise grows with age, and there are no negative values."
   ]
  },
  {
   "cell_type": "code",
   "execution_count": 206,
   "metadata": {},
   "outputs": [
    {
     "data": {
      "text/html": [
       "\n",
       "<div id=\"altair-viz-b89db4441b0541058a42c22283fab3ff\"></div>\n",
       "<script type=\"text/javascript\">\n",
       "  (function(spec, embedOpt){\n",
       "    let outputDiv = document.currentScript.previousElementSibling;\n",
       "    if (outputDiv.id !== \"altair-viz-b89db4441b0541058a42c22283fab3ff\") {\n",
       "      outputDiv = document.getElementById(\"altair-viz-b89db4441b0541058a42c22283fab3ff\");\n",
       "    }\n",
       "    const paths = {\n",
       "      \"vega\": \"https://cdn.jsdelivr.net/npm//vega@5?noext\",\n",
       "      \"vega-lib\": \"https://cdn.jsdelivr.net/npm//vega-lib?noext\",\n",
       "      \"vega-lite\": \"https://cdn.jsdelivr.net/npm//vega-lite@4.8.1?noext\",\n",
       "      \"vega-embed\": \"https://cdn.jsdelivr.net/npm//vega-embed@6?noext\",\n",
       "    };\n",
       "\n",
       "    function loadScript(lib) {\n",
       "      return new Promise(function(resolve, reject) {\n",
       "        var s = document.createElement('script');\n",
       "        s.src = paths[lib];\n",
       "        s.async = true;\n",
       "        s.onload = () => resolve(paths[lib]);\n",
       "        s.onerror = () => reject(`Error loading script: ${paths[lib]}`);\n",
       "        document.getElementsByTagName(\"head\")[0].appendChild(s);\n",
       "      });\n",
       "    }\n",
       "\n",
       "    function showError(err) {\n",
       "      outputDiv.innerHTML = `<div class=\"error\" style=\"color:red;\">${err}</div>`;\n",
       "      throw err;\n",
       "    }\n",
       "\n",
       "    function displayChart(vegaEmbed) {\n",
       "      vegaEmbed(outputDiv, spec, embedOpt)\n",
       "        .catch(err => showError(`Javascript Error: ${err.message}<br>This usually means there's a typo in your chart specification. See the javascript console for the full traceback.`));\n",
       "    }\n",
       "\n",
       "    if(typeof define === \"function\" && define.amd) {\n",
       "      requirejs.config({paths});\n",
       "      require([\"vega-embed\"], displayChart, err => showError(`Error loading script: ${err.message}`));\n",
       "    } else if (typeof vegaEmbed === \"function\") {\n",
       "      displayChart(vegaEmbed);\n",
       "    } else {\n",
       "      loadScript(\"vega\")\n",
       "        .then(() => loadScript(\"vega-lite\"))\n",
       "        .then(() => loadScript(\"vega-embed\"))\n",
       "        .catch(showError)\n",
       "        .then(() => displayChart(vegaEmbed));\n",
       "    }\n",
       "  })({\"config\": {\"view\": {\"continuousWidth\": 400, \"continuousHeight\": 300}}, \"hconcat\": [{\"layer\": [{\"data\": {\"url\": \"http://localhost:22415/dd9e9d3fc48aa126df02237614185075.json\"}, \"mark\": {\"type\": \"circle\", \"color\": \"black\", \"fill\": \"black\", \"size\": 42}, \"encoding\": {\"x\": {\"type\": \"quantitative\", \"axis\": {\"title\": \"age\"}, \"field\": \"x\", \"scale\": {\"clamp\": true, \"domain\": [0, 250]}}, \"y\": {\"type\": \"quantitative\", \"axis\": {\"title\": \"biomass\"}, \"field\": \"y\", \"scale\": {\"clamp\": true, \"domain\": [-200, 600]}}}, \"height\": 300, \"width\": 350}, {\"data\": {\"url\": \"http://localhost:22415/2462b12c42fdf38945c1900a615d821d.json\"}, \"mark\": {\"type\": \"line\", \"color\": \"rgb(250,100,150)\", \"opacity\": 1, \"strokeWidth\": 2}, \"encoding\": {\"x\": {\"type\": \"quantitative\", \"field\": \"x\"}, \"y\": {\"type\": \"quantitative\", \"field\": \"y\"}}, \"height\": 200, \"width\": 350}]}, {\"layer\": [{\"data\": {\"url\": \"http://localhost:22415/a089368f5d9435397a4ff1a0ef29850f.json\"}, \"mark\": {\"type\": \"circle\", \"color\": \"black\", \"fill\": \"black\", \"size\": 42}, \"encoding\": {\"x\": {\"type\": \"quantitative\", \"axis\": {\"title\": \"age\"}, \"field\": \"x\", \"scale\": {\"clamp\": true, \"domain\": [0, 250]}}, \"y\": {\"type\": \"quantitative\", \"axis\": {\"title\": \"y\"}, \"field\": \"y\", \"scale\": {\"clamp\": true, \"domain\": [-200, 600]}}}, \"height\": 300, \"width\": 350}, {\"data\": {\"url\": \"http://localhost:22415/2462b12c42fdf38945c1900a615d821d.json\"}, \"mark\": {\"type\": \"line\", \"color\": \"rgb(250,100,150)\", \"opacity\": 1, \"strokeWidth\": 2}, \"encoding\": {\"x\": {\"type\": \"quantitative\", \"field\": \"x\"}, \"y\": {\"type\": \"quantitative\", \"field\": \"y\"}}, \"height\": 200, \"width\": 350}]}], \"$schema\": \"https://vega.github.io/schema/vega-lite/v4.8.1.json\"}, {\"actions\": false, \"mode\": \"vega-lite\"});\n",
       "</script>"
      ],
      "text/plain": [
       "alt.HConcatChart(...)"
      ]
     },
     "execution_count": 206,
     "metadata": {},
     "output_type": "execute_result"
    }
   ],
   "source": [
    "xlim = [0, 250]\n",
    "ylim = [-200, 600]\n",
    "(\n",
    "    (\n",
    "        plot.xy(x=x, y=y, xlim=xlim, ylim=ylim)\n",
    "        + plot.line(x=x, y=model.predict(x, f, [50, 50]))\n",
    "    )\n",
    "    | (\n",
    "        plot.xy(x=x, y=model.sample(x, f), xlim=xlim, ylim=ylim)\n",
    "        + plot.line(x=x, y=model.predict(x, f, [50, 50]))\n",
    "    )\n",
    ")"
   ]
  },
  {
   "cell_type": "markdown",
   "metadata": {},
   "source": [
    "We can set the noise to `'normal'` instead of `'gamma'` and see that the sampled data no longer matches the real data. While the fitted curve is similar, the variability is too high for low ages, and there are negative predictions where there shouldn't be! These behaviors help justify the choice of Gamma distribution."
   ]
  },
  {
   "cell_type": "code",
   "execution_count": 207,
   "metadata": {},
   "outputs": [],
   "source": [
    "model = fit.biomass(x=x, y=y, f=f, noise=\"normal\")"
   ]
  },
  {
   "cell_type": "code",
   "execution_count": 208,
   "metadata": {},
   "outputs": [
    {
     "data": {
      "text/html": [
       "\n",
       "<div id=\"altair-viz-4893e09ee0f34598a722dd3909e3d798\"></div>\n",
       "<script type=\"text/javascript\">\n",
       "  (function(spec, embedOpt){\n",
       "    let outputDiv = document.currentScript.previousElementSibling;\n",
       "    if (outputDiv.id !== \"altair-viz-4893e09ee0f34598a722dd3909e3d798\") {\n",
       "      outputDiv = document.getElementById(\"altair-viz-4893e09ee0f34598a722dd3909e3d798\");\n",
       "    }\n",
       "    const paths = {\n",
       "      \"vega\": \"https://cdn.jsdelivr.net/npm//vega@5?noext\",\n",
       "      \"vega-lib\": \"https://cdn.jsdelivr.net/npm//vega-lib?noext\",\n",
       "      \"vega-lite\": \"https://cdn.jsdelivr.net/npm//vega-lite@4.8.1?noext\",\n",
       "      \"vega-embed\": \"https://cdn.jsdelivr.net/npm//vega-embed@6?noext\",\n",
       "    };\n",
       "\n",
       "    function loadScript(lib) {\n",
       "      return new Promise(function(resolve, reject) {\n",
       "        var s = document.createElement('script');\n",
       "        s.src = paths[lib];\n",
       "        s.async = true;\n",
       "        s.onload = () => resolve(paths[lib]);\n",
       "        s.onerror = () => reject(`Error loading script: ${paths[lib]}`);\n",
       "        document.getElementsByTagName(\"head\")[0].appendChild(s);\n",
       "      });\n",
       "    }\n",
       "\n",
       "    function showError(err) {\n",
       "      outputDiv.innerHTML = `<div class=\"error\" style=\"color:red;\">${err}</div>`;\n",
       "      throw err;\n",
       "    }\n",
       "\n",
       "    function displayChart(vegaEmbed) {\n",
       "      vegaEmbed(outputDiv, spec, embedOpt)\n",
       "        .catch(err => showError(`Javascript Error: ${err.message}<br>This usually means there's a typo in your chart specification. See the javascript console for the full traceback.`));\n",
       "    }\n",
       "\n",
       "    if(typeof define === \"function\" && define.amd) {\n",
       "      requirejs.config({paths});\n",
       "      require([\"vega-embed\"], displayChart, err => showError(`Error loading script: ${err.message}`));\n",
       "    } else if (typeof vegaEmbed === \"function\") {\n",
       "      displayChart(vegaEmbed);\n",
       "    } else {\n",
       "      loadScript(\"vega\")\n",
       "        .then(() => loadScript(\"vega-lite\"))\n",
       "        .then(() => loadScript(\"vega-embed\"))\n",
       "        .catch(showError)\n",
       "        .then(() => displayChart(vegaEmbed));\n",
       "    }\n",
       "  })({\"config\": {\"view\": {\"continuousWidth\": 400, \"continuousHeight\": 300}}, \"hconcat\": [{\"layer\": [{\"data\": {\"url\": \"http://localhost:22415/dd9e9d3fc48aa126df02237614185075.json\"}, \"mark\": {\"type\": \"circle\", \"color\": \"black\", \"fill\": \"black\", \"size\": 42}, \"encoding\": {\"x\": {\"type\": \"quantitative\", \"axis\": {\"title\": \"age\"}, \"field\": \"x\", \"scale\": {\"clamp\": true, \"domain\": [0, 250]}}, \"y\": {\"type\": \"quantitative\", \"axis\": {\"title\": \"biomass\"}, \"field\": \"y\", \"scale\": {\"clamp\": true, \"domain\": [-200, 600]}}}, \"height\": 300, \"width\": 350}, {\"data\": {\"url\": \"http://localhost:22415/33df2e1a1481e6c71dfad9bebe042d15.json\"}, \"mark\": {\"type\": \"line\", \"color\": \"rgb(250,100,150)\", \"opacity\": 1, \"strokeWidth\": 2}, \"encoding\": {\"x\": {\"type\": \"quantitative\", \"field\": \"x\"}, \"y\": {\"type\": \"quantitative\", \"field\": \"y\"}}, \"height\": 200, \"width\": 350}]}, {\"layer\": [{\"data\": {\"url\": \"http://localhost:22415/23603b85d2a87df6ccb8a7b40c71d401.json\"}, \"mark\": {\"type\": \"circle\", \"color\": \"black\", \"fill\": \"black\", \"size\": 42}, \"encoding\": {\"x\": {\"type\": \"quantitative\", \"axis\": {\"title\": \"age\"}, \"field\": \"x\", \"scale\": {\"clamp\": true, \"domain\": [0, 250]}}, \"y\": {\"type\": \"quantitative\", \"axis\": {\"title\": \"y\"}, \"field\": \"y\", \"scale\": {\"clamp\": true, \"domain\": [-200, 600]}}}, \"height\": 300, \"width\": 350}, {\"data\": {\"url\": \"http://localhost:22415/33df2e1a1481e6c71dfad9bebe042d15.json\"}, \"mark\": {\"type\": \"line\", \"color\": \"rgb(250,100,150)\", \"opacity\": 1, \"strokeWidth\": 2}, \"encoding\": {\"x\": {\"type\": \"quantitative\", \"field\": \"x\"}, \"y\": {\"type\": \"quantitative\", \"field\": \"y\"}}, \"height\": 200, \"width\": 350}]}], \"$schema\": \"https://vega.github.io/schema/vega-lite/v4.8.1.json\"}, {\"actions\": false, \"mode\": \"vega-lite\"});\n",
       "</script>"
      ],
      "text/plain": [
       "alt.HConcatChart(...)"
      ]
     },
     "execution_count": 208,
     "metadata": {},
     "output_type": "execute_result"
    }
   ],
   "source": [
    "xlim = [0, 250]\n",
    "ylim = [-200, 600]\n",
    "(\n",
    "    (\n",
    "        plot.xy(x=x, y=y, xlim=xlim, ylim=ylim)\n",
    "        + plot.line(x=x, y=model.predict(x, f, [50, 50]))\n",
    "    )\n",
    "    | (\n",
    "        plot.xy(x=x, y=model.sample(x, f), xlim=xlim, ylim=ylim)\n",
    "        + plot.line(x=x, y=model.predict(x, f, [50, 50]))\n",
    "    )\n",
    ")"
   ]
  }
 ],
 "metadata": {
  "kernelspec": {
   "display_name": "Python 3",
   "language": "python",
   "name": "python3"
  },
  "language_info": {
   "codemirror_mode": {
    "name": "ipython",
    "version": 3
   },
   "file_extension": ".py",
   "mimetype": "text/x-python",
   "name": "python",
   "nbconvert_exporter": "python",
   "pygments_lexer": "ipython3",
   "version": "3.8.5"
  }
 },
 "nbformat": 4,
 "nbformat_minor": 4
}
