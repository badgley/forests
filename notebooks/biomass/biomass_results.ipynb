{
 "cells": [
  {
   "cell_type": "markdown",
   "metadata": {},
   "source": [
    "<img width=\"50\" src=\"https://carbonplan-assets.s3.amazonaws.com/monogram/dark-small.png\" style=\"margin-left:0px;margin-top:20px\"/>\n",
    "\n",
    "# FIA Biomass Results\n",
    "\n",
    "_by Jeremy Freeman (CarbonPlan), October 25, 2020_\n",
    "\n",
    "This notebook extracts and summarizes results from fitting biomass growth\n",
    "curves. See the notebook `biomass_modeling` for how the model is fit. This\n",
    "notebook assumes the model has been run and results have been saved using the\n",
    "script `biomass.py`.\n"
   ]
  },
  {
   "cell_type": "code",
   "execution_count": null,
   "metadata": {},
   "outputs": [],
   "source": [
    "import pickle\n",
    "import numpy as np\n",
    "import pandas as pd\n",
    "from carbonplan_forests import setup, plot, load"
   ]
  },
  {
   "cell_type": "code",
   "execution_count": null,
   "metadata": {},
   "outputs": [],
   "source": [
    "setup.plotting()"
   ]
  },
  {
   "cell_type": "code",
   "execution_count": null,
   "metadata": {},
   "outputs": [],
   "source": [
    "%load_ext autoreload\n",
    "%autoreload 2"
   ]
  },
  {
   "cell_type": "markdown",
   "metadata": {},
   "source": [
    "First we load the raw FIA and climate data for comparison purposes\n"
   ]
  },
  {
   "cell_type": "code",
   "execution_count": null,
   "metadata": {},
   "outputs": [],
   "source": [
    "df = load.fia(store=\"local\", states=\"conus\")\n",
    "df = load.terraclim(\n",
    "    store=\"local\",\n",
    "    tlim=(2000, 2020),\n",
    "    data_vars=[\"tavg\", \"ppt\"],\n",
    "    data_aggs=[\"mean\", \"sum\"],\n",
    "    df=df,\n",
    ")"
   ]
  },
  {
   "cell_type": "markdown",
   "metadata": {},
   "source": [
    "Now we load our model results. Again, this assumes the model has been run and\n",
    "results have been saved using the script `biomass.py`.\n"
   ]
  },
  {
   "cell_type": "code",
   "execution_count": null,
   "metadata": {},
   "outputs": [],
   "source": [
    "pf = pd.read_parquet(\n",
    "    \"gs://carbonplan-scratch/forests/results/biomass/biomass.parquet\"\n",
    ")\n",
    "# with open('../../scripts/data/biomass.pkl', 'rb') as f:\n",
    "#     models = pickle.load(f)"
   ]
  },
  {
   "cell_type": "markdown",
   "metadata": {},
   "source": [
    "First we can plot a map of biomass in the original data\n"
   ]
  },
  {
   "cell_type": "code",
   "execution_count": null,
   "metadata": {},
   "outputs": [],
   "source": [
    "plot.carto(\n",
    "    lat=df[\"lat\"],\n",
    "    lon=df[\"lon\"],\n",
    "    color=df[\"biomass\"],\n",
    "    cmap=\"yellowgreen\",\n",
    "    clim=(0, 250),\n",
    "    size=1,\n",
    ")"
   ]
  },
  {
   "cell_type": "markdown",
   "metadata": {},
   "source": [
    "Now we can plot the results from the model, evaluting on the same climate as\n",
    "used for fitting\n"
   ]
  },
  {
   "cell_type": "code",
   "execution_count": null,
   "metadata": {},
   "outputs": [],
   "source": [
    "plot.carto(\n",
    "    lat=pf[\"lat\"],\n",
    "    lon=pf[\"lon\"],\n",
    "    color=pf[\"fitted_biomass\"],\n",
    "    cmap=\"yellowgreen\",\n",
    "    clim=(0, 250),\n",
    "    size=1,\n",
    ")"
   ]
  },
  {
   "cell_type": "markdown",
   "metadata": {},
   "source": [
    "We can also use other columns to look at future scenarios. For example, here's\n",
    "the difference in biomass from 2020 to 2100.\n"
   ]
  },
  {
   "cell_type": "code",
   "execution_count": null,
   "metadata": {},
   "outputs": [],
   "source": [
    "plot.carto(\n",
    "    lat=pf[\"lat\"],\n",
    "    lon=pf[\"lon\"],\n",
    "    color=pf[\"BCC-CSM2-MR_ssp245_2100\"] - pf[\"BCC-CSM2-MR_ssp245_2020\"],\n",
    "    cmap=\"yellowgreen\",\n",
    "    clim=(0, 100),\n",
    "    size=1,\n",
    ")"
   ]
  }
 ],
 "metadata": {
  "kernelspec": {
   "display_name": "Python 3",
   "language": "python",
   "name": "python3"
  },
  "language_info": {
   "codemirror_mode": {
    "name": "ipython",
    "version": 3
   },
   "file_extension": ".py",
   "mimetype": "text/x-python",
   "name": "python",
   "nbconvert_exporter": "python",
   "pygments_lexer": "ipython3",
   "version": "3.8.5"
  }
 },
 "nbformat": 4,
 "nbformat_minor": 4
}
