{
 "cells": [
  {
   "cell_type": "markdown",
   "metadata": {},
   "source": [
    "<img width=\"50\" src=\"https://carbonplan-assets.s3.amazonaws.com/monogram/dark-small.png\" style=\"margin-left:0px;margin-top:20px\"/>\n",
    "\n",
    "# FIA Drought Model\n",
    "\n",
    "_by Jeremy Freeman (CarbonPlan), October 26, 2020_\n",
    "\n",
    "This notebook demos drought modelling.\n"
   ]
  },
  {
   "cell_type": "code",
   "execution_count": null,
   "metadata": {},
   "outputs": [],
   "source": [
    "import numpy as np\n",
    "import pandas as pd\n",
    "from sklearn.utils import resample\n",
    "from carbonplan_forests import setup, plot, load, fit, utils"
   ]
  },
  {
   "cell_type": "code",
   "execution_count": null,
   "metadata": {},
   "outputs": [],
   "source": [
    "import matplotlib.pyplot as plt\n",
    "%matplotlib inline"
   ]
  },
  {
   "cell_type": "code",
   "execution_count": null,
   "metadata": {},
   "outputs": [],
   "source": [
    "import warnings\n",
    "\n",
    "warnings.simplefilter(action=\"ignore\", category=DeprecationWarning)"
   ]
  },
  {
   "cell_type": "code",
   "execution_count": null,
   "metadata": {},
   "outputs": [],
   "source": [
    "setup.plotting()"
   ]
  },
  {
   "cell_type": "code",
   "execution_count": null,
   "metadata": {},
   "outputs": [],
   "source": [
    "%load_ext autoreload\n",
    "%autoreload 2"
   ]
  },
  {
   "cell_type": "markdown",
   "metadata": {},
   "source": [
    "Load the raw FIA grouped data\n"
   ]
  },
  {
   "cell_type": "code",
   "execution_count": null,
   "metadata": {},
   "outputs": [],
   "source": [
    "df = load.fia(store=\"local\", states=\"conus\", group_repeats=True)\n",
    "df = load.terraclim(\n",
    "    store=\"local\",\n",
    "    tlim=(int(df[\"year_0\"].min()), 2020),\n",
    "    data_vars=[\"ppt\", \"tavg\", \"pdsi\", \"cwd\", \"pet\", \"vpd\"],\n",
    "    data_aggs=[\"sum\", \"mean\", \"mean\", \"sum\", \"mean\", \"mean\"],\n",
    "    df=df,\n",
    "    group_repeats=True,\n",
    ")"
   ]
  },
  {
   "cell_type": "code",
   "execution_count": null,
   "metadata": {},
   "outputs": [],
   "source": [
    "df = pd.read_csv(\n",
    "    \"/Users/freeman/Dropbox (Personal)/fia_wide_with_terraclim_v4.csv\",\n",
    "    low_memory=False,\n",
    ")"
   ]
  },
  {
   "cell_type": "markdown",
   "metadata": {},
   "source": [
    "Compute derived variables\n"
   ]
  },
  {
   "cell_type": "code",
   "execution_count": null,
   "metadata": {},
   "outputs": [],
   "source": [
    "df[\"mort_ratio\"] = df[\"mort_1\"] / df[\"balive_0\"]\n",
    "df[\"age_squared\"] = df[\"age\"] ** 2\n",
    "df[\"duration\"] = df[\"year_1\"] - df[\"year_0\"]"
   ]
  },
  {
   "cell_type": "markdown",
   "metadata": {},
   "source": [
    "Set thresholds\n"
   ]
  },
  {
   "cell_type": "code",
   "execution_count": null,
   "metadata": {},
   "outputs": [],
   "source": [
    "inds = (\n",
    "    (df[\"condprop\"] > 0.3)\n",
    "    & (df[\"disturb_insect_1\"] != True)\n",
    "    & (df[\"disturb_human_1\"] != True)\n",
    "    & (df[\"disturb_fire_1\"] != True)\n",
    "    & (df[\"treatment_cutting_1\"] != True)\n",
    ")\n",
    "df = df[inds]"
   ]
  },
  {
   "cell_type": "markdown",
   "metadata": {},
   "source": [
    "Extract variables\n"
   ]
  },
  {
   "cell_type": "code",
   "execution_count": null,
   "metadata": {},
   "outputs": [],
   "source": [
    "y = df[\"mort_ratio\"]\n",
    "x = df[\n",
    "    [\n",
    "        \"ppt_sum_min_1\",\n",
    "        \"tavg_mean_max_1\",\n",
    "        \"pdsi_mean_min_1\",\n",
    "        \"cwd_sum_max_1\",\n",
    "        \"pet_mean_max_1\",\n",
    "        \"vpd_mean_max_1\",\n",
    "        \"age\",\n",
    "        \"age_squared\",\n",
    "        \"duration\",\n",
    "    ]\n",
    "]\n",
    "codes = df[\"type_code\"].unique()\n",
    "type_code = df[\"type_code\"]"
   ]
  },
  {
   "cell_type": "code",
   "execution_count": null,
   "metadata": {},
   "outputs": [],
   "source": [
    "inds = (np.isnan(x).sum(axis=1) == 0) & (~np.isnan(y)) & (y < 1)\n",
    "y = y[inds].values\n",
    "x = x[inds].values\n",
    "type_code = type_code[inds]"
   ]
  },
  {
   "cell_type": "code",
   "execution_count": null,
   "metadata": {},
   "outputs": [],
   "source": [
    "x_z, x_mean, x_std = utils.zscore_2d(x)"
   ]
  },
  {
   "cell_type": "markdown",
   "metadata": {},
   "source": [
    "Extract variables\n"
   ]
  },
  {
   "cell_type": "code",
   "execution_count": null,
   "metadata": {},
   "outputs": [],
   "source": [
    "pf = pd.DataFrame()\n",
    "pf[\"type_code\"] = type_code\n",
    "pf[\"observed\"] = y\n",
    "pf[\"predicted\"] = np.NaN\n",
    "pf[\"expected_value\"] = np.NaN\n",
    "\n",
    "models = {}\n",
    "for code in codes:\n",
    "    fit_inds = type_code == code\n",
    "    model = fit.hurdle(x=x_z[fit_inds], y=y[fit_inds])\n",
    "    models[code] = model\n",
    "    pf.loc[fit_inds, \"expected_value\"] = model.predict_expected_value(\n",
    "        x=x_z[fit_inds]\n",
    "    )\n",
    "    predictions = model.predict_expected_value(x=x_z[fit_inds])\n",
    "\n",
    "pf = pf[pf[\"expected_value\"] < 1]"
   ]
  },
  {
   "cell_type": "code",
   "execution_count": null,
   "metadata": {},
   "outputs": [],
   "source": [
    "plt.plot(pf[\"observed\"], pf[\"expected_value\"], \".\")"
   ]
  },
  {
   "cell_type": "code",
   "execution_count": null,
   "metadata": {},
   "outputs": [],
   "source": [
    "pf[[\"observed\", \"expected_value\"]].corr().iloc[0, 1] ** 2"
   ]
  },
  {
   "cell_type": "code",
   "execution_count": null,
   "metadata": {},
   "outputs": [],
   "source": [
    "pf[pf[\"observed\"] > 0][[\"observed\", \"expected_value\"]].corr().iloc[0, 1] ** 2"
   ]
  },
  {
   "cell_type": "code",
   "execution_count": null,
   "metadata": {},
   "outputs": [],
   "source": [
    "plot.xy(\n",
    "    x=pf[\"observed\"],\n",
    "    y=pf[\"expected_value\"],\n",
    "    xlabel=\"measured mort ratio\",\n",
    "    ylabel=\"predicted mort ratio\",\n",
    "    xlim=(0, 1),\n",
    "    ylim=(0, 1),\n",
    "    width=300,\n",
    "    height=300,\n",
    "    opacity=0.1,\n",
    ")"
   ]
  },
  {
   "cell_type": "markdown",
   "metadata": {},
   "source": [
    "Make a map of mortality ratios\n"
   ]
  },
  {
   "cell_type": "code",
   "execution_count": null,
   "metadata": {},
   "outputs": [],
   "source": [
    "plot.carto(\n",
    "    lat=df[\"lat\"],\n",
    "    lon=df[\"lon\"],\n",
    "    color=df[\"mort_ratio\"],\n",
    "    cmap=\"blues\",\n",
    "    clim=(0, 0.2),\n",
    "    size=5,\n",
    "    opacity=0.75,\n",
    ")"
   ]
  },
  {
   "cell_type": "code",
   "execution_count": null,
   "metadata": {},
   "outputs": [],
   "source": [
    "plot.carto(\n",
    "    lat=df[\"lat\"],\n",
    "    lon=df[\"lon\"],\n",
    "    color=pf[\"expected_value\"],\n",
    "    cmap=\"blues\",\n",
    "    clim=(0, 0.2),\n",
    "    size=5,\n",
    "    opacity=0.75,\n",
    ")"
   ]
  },
  {
   "cell_type": "markdown",
   "metadata": {},
   "source": [
    "## Future projections\n"
   ]
  },
  {
   "cell_type": "markdown",
   "metadata": {},
   "source": [
    "Predict in the future\n"
   ]
  },
  {
   "cell_type": "code",
   "execution_count": null,
   "metadata": {},
   "outputs": [],
   "source": [
    "df_future = load.fia(store=\"local\", states=\"conus\")\n",
    "df_future = load.terraclim(\n",
    "    store=\"local\",\n",
    "    tlim=(2000, 2010),\n",
    "    data_vars=[\"ppt\", \"tavg\", \"pdsi\", \"cwd\", \"pet\", \"vpd\"],\n",
    "    data_aggs=[\"sum\", \"mean\", \"mean\", \"sum\", \"mean\", \"mean\"],\n",
    "    df=df,\n",
    ")"
   ]
  },
  {
   "cell_type": "code",
   "execution_count": null,
   "metadata": {},
   "outputs": [],
   "source": [
    "df_future[\"age_squared\"] = df_future[\"age\"] ** 2\n",
    "x = df_future[\n",
    "    [\n",
    "        \"ppt_sum_min\",\n",
    "        \"tavg_mean_max\",\n",
    "        \"pdsi_mean_min\",\n",
    "        \"cwd_sum_max\",\n",
    "        \"age\",\n",
    "        \"age_squared\",\n",
    "    ]\n",
    "]"
   ]
  },
  {
   "cell_type": "code",
   "execution_count": null,
   "metadata": {},
   "outputs": [],
   "source": [
    "pf = pd.DataFrame()\n",
    "pf[\"type_code\"] = df_future[\"type_code\"]\n",
    "pf[\"expected_value\"] = np.NaN\n",
    "\n",
    "codes = df_future[\"type_code\"].unique()\n",
    "for code in codes:\n",
    "    predict_inds = df_future[\"type_code\"] == code\n",
    "    if code in models.keys():\n",
    "        pf.loc[predict_inds, \"predicted\"] = models[code].predict(\n",
    "            x=x[predict_inds]\n",
    "        )\n",
    "        pf.loc[predict_inds, \"expected_value\"] = models[\n",
    "            code\n",
    "        ].predict_expected_value(x=x[predict_inds])"
   ]
  },
  {
   "cell_type": "code",
   "execution_count": null,
   "metadata": {},
   "outputs": [],
   "source": [
    "plot.carto(\n",
    "    lat=df_future[\"lat\"],\n",
    "    lon=df_future[\"lon\"],\n",
    "    color=pf[\"expected_value\"],\n",
    "    cmap=\"blues\",\n",
    "    clim=(0, 0.2),\n",
    "    size=2,\n",
    ")"
   ]
  },
  {
   "cell_type": "code",
   "execution_count": null,
   "metadata": {},
   "outputs": [],
   "source": [
    "plot.carto(\n",
    "    lat=df_future[\"lat\"],\n",
    "    lon=df_future[\"lon\"],\n",
    "    color=pf[\"expected_value\"],\n",
    "    cmap=\"blues\",\n",
    "    clim=(0, 0.2),\n",
    "    size=2,\n",
    ")"
   ]
  }
 ],
 "metadata": {
  "kernelspec": {
   "display_name": "Python 3",
   "language": "python",
   "name": "python3"
  },
  "language_info": {
   "codemirror_mode": {
    "name": "ipython",
    "version": 3
   },
   "file_extension": ".py",
   "mimetype": "text/x-python",
   "name": "python",
   "nbconvert_exporter": "python",
   "pygments_lexer": "ipython3",
   "version": "3.8.5"
  }
 },
 "nbformat": 4,
 "nbformat_minor": 4
}
