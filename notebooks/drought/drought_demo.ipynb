{
 "cells": [
  {
   "cell_type": "code",
   "execution_count": 20,
   "metadata": {},
   "outputs": [],
   "source": [
    "from numpy import log, corrcoef, unique, isnan, asarray\n",
    "from numpy.random import shuffle"
   ]
  },
  {
   "cell_type": "code",
   "execution_count": 5,
   "metadata": {},
   "outputs": [],
   "source": [
    "from pandas import read_csv"
   ]
  },
  {
   "cell_type": "code",
   "execution_count": 6,
   "metadata": {},
   "outputs": [],
   "source": [
    "import matplotlib.pyplot as plt\n",
    "%matplotlib inline"
   ]
  },
  {
   "cell_type": "code",
   "execution_count": 44,
   "metadata": {},
   "outputs": [
    {
     "data": {
      "text/plain": [
       "DataTransformerRegistry.enable('data_server')"
      ]
     },
     "execution_count": 44,
     "metadata": {},
     "output_type": "execute_result"
    }
   ],
   "source": [
    "import altair as alt\n",
    "alt.renderers.enable('default', embed_options={'actions': False})\n",
    "alt.data_transformers.enable('data_server')\n",
    "alt.data_transformers.disable_max_rows()"
   ]
  },
  {
   "cell_type": "code",
   "execution_count": 343,
   "metadata": {},
   "outputs": [],
   "source": [
    "df = read_csv('../../data/FIA_multipleDroughts_forBill_NoDroughtThresh.csv')"
   ]
  },
  {
   "cell_type": "code",
   "execution_count": 344,
   "metadata": {},
   "outputs": [],
   "source": [
    "df.loc[isnan(df['BAMort1(m2/ha)']), 'BAMort1(m2/ha)'] = 0\n",
    "df.loc[isnan(df['BAMort2(m2/ha)']), 'BAMort2(m2/ha)'] = 0\n",
    "df.loc[isnan(df['BAMort3(m2/ha)']), 'BAMort3(m2/ha)'] = 0\n",
    "df.loc[isnan(df['BAMort4(m2/ha)']), 'BAMort4(m2/ha)'] = 0"
   ]
  },
  {
   "cell_type": "code",
   "execution_count": 345,
   "metadata": {},
   "outputs": [],
   "source": [
    "df.loc[:,'Ratio2'] = df['BAMort2(m2/ha)'] / df['BA1(m2/ha)']\n",
    "df.loc[:,'Ratio3'] = df['BAMort3(m2/ha)'] / df['BA2(m2/ha)']\n",
    "df.loc[:,'LogRatio2'] = log(df['BAMort2(m2/ha)'] / df['BA1(m2/ha)'] + 0.001)\n",
    "df.loc[:,'LogRatio3'] = log(df['BAMort3(m2/ha)'] / df['BA2(m2/ha)'] + 0.001)"
   ]
  },
  {
   "cell_type": "code",
   "execution_count": 297,
   "metadata": {},
   "outputs": [],
   "source": [
    "df_ca = df[df['STATECD']==6]"
   ]
  },
  {
   "cell_type": "code",
   "execution_count": 243,
   "metadata": {},
   "outputs": [
    {
     "data": {
      "text/html": [
       "\n",
       "<div id=\"altair-viz-56\"></div>\n",
       "<script type=\"text/javascript\">\n",
       "  (function(spec, embedOpt){\n",
       "    const outputDiv = document.getElementById(\"altair-viz-56\");\n",
       "    const paths = {\n",
       "      \"vega\": \"https://cdn.jsdelivr.net/npm//vega@5?noext\",\n",
       "      \"vega-lib\": \"https://cdn.jsdelivr.net/npm//vega-lib?noext\",\n",
       "      \"vega-lite\": \"https://cdn.jsdelivr.net/npm//vega-lite@4.0.0?noext\",\n",
       "      \"vega-embed\": \"https://cdn.jsdelivr.net/npm//vega-embed@6?noext\",\n",
       "    };\n",
       "\n",
       "    function loadScript(lib) {\n",
       "      return new Promise(function(resolve, reject) {\n",
       "        var s = document.createElement('script');\n",
       "        s.src = paths[lib];\n",
       "        s.async = true;\n",
       "        s.onload = () => resolve(paths[lib]);\n",
       "        s.onerror = () => reject(`Error loading script: ${paths[lib]}`);\n",
       "        document.getElementsByTagName(\"head\")[0].appendChild(s);\n",
       "      });\n",
       "    }\n",
       "\n",
       "    function showError(err) {\n",
       "      outputDiv.innerHTML = `<div class=\"error\" style=\"color:red;\">${err}</div>`;\n",
       "      throw err;\n",
       "    }\n",
       "\n",
       "    function displayChart(vegaEmbed) {\n",
       "      vegaEmbed(outputDiv, spec, embedOpt)\n",
       "        .catch(err => showError(`Javascript Error: ${err.message}<br>This usually means there's a typo in your chart specification. See the javascript console for the full traceback.`));\n",
       "    }\n",
       "\n",
       "    if(typeof define === \"function\" && define.amd) {\n",
       "      requirejs.config({paths});\n",
       "      require([\"vega-embed\"], displayChart, err => showError(`Error loading script: ${err.message}`));\n",
       "    } else if (typeof vegaEmbed === \"function\") {\n",
       "      displayChart(vegaEmbed);\n",
       "    } else {\n",
       "      loadScript(\"vega\")\n",
       "        .then(() => loadScript(\"vega-lite\"))\n",
       "        .then(() => loadScript(\"vega-embed\"))\n",
       "        .catch(showError)\n",
       "        .then(() => displayChart(vegaEmbed));\n",
       "    }\n",
       "  })({\"config\": {\"view\": {\"continuousWidth\": 400, \"continuousHeight\": 300}}, \"data\": {\"url\": \"http://localhost:23778/6dbc009f38d827499c07641a1528fc2c.json\"}, \"mark\": {\"type\": \"point\", \"clip\": true}, \"encoding\": {\"x\": {\"type\": \"quantitative\", \"field\": \"BA1(m2/ha)\", \"scale\": {\"domain\": [0, 50]}}, \"y\": {\"type\": \"quantitative\", \"field\": \"BAMort2(m2/ha)\", \"scale\": {\"domain\": [0, 50]}}}, \"$schema\": \"https://vega.github.io/schema/vega-lite/v4.0.0.json\"}, {\"actions\": false, \"mode\": \"vega-lite\"});\n",
       "</script>"
      ],
      "text/plain": [
       "alt.Chart(...)"
      ]
     },
     "execution_count": 243,
     "metadata": {},
     "output_type": "execute_result"
    }
   ],
   "source": [
    "alt.Chart(df_ca).mark_point(clip=True).encode(\n",
    "    alt.X('BA1(m2/ha)', scale=alt.Scale(domain=(0, 50))),\n",
    "    alt.Y('BAMort2(m2/ha)', scale=alt.Scale(domain=(0, 50))),\n",
    ")"
   ]
  },
  {
   "cell_type": "code",
   "execution_count": 141,
   "metadata": {},
   "outputs": [
    {
     "data": {
      "text/plain": [
       "1.6644242943687708"
      ]
     },
     "execution_count": 141,
     "metadata": {},
     "output_type": "execute_result"
    }
   ],
   "source": [
    "df_ca['LogRatio2'].max()"
   ]
  },
  {
   "cell_type": "code",
   "execution_count": 244,
   "metadata": {},
   "outputs": [
    {
     "data": {
      "text/html": [
       "\n",
       "<div id=\"altair-viz-57\"></div>\n",
       "<script type=\"text/javascript\">\n",
       "  (function(spec, embedOpt){\n",
       "    const outputDiv = document.getElementById(\"altair-viz-57\");\n",
       "    const paths = {\n",
       "      \"vega\": \"https://cdn.jsdelivr.net/npm//vega@5?noext\",\n",
       "      \"vega-lib\": \"https://cdn.jsdelivr.net/npm//vega-lib?noext\",\n",
       "      \"vega-lite\": \"https://cdn.jsdelivr.net/npm//vega-lite@4.0.0?noext\",\n",
       "      \"vega-embed\": \"https://cdn.jsdelivr.net/npm//vega-embed@6?noext\",\n",
       "    };\n",
       "\n",
       "    function loadScript(lib) {\n",
       "      return new Promise(function(resolve, reject) {\n",
       "        var s = document.createElement('script');\n",
       "        s.src = paths[lib];\n",
       "        s.async = true;\n",
       "        s.onload = () => resolve(paths[lib]);\n",
       "        s.onerror = () => reject(`Error loading script: ${paths[lib]}`);\n",
       "        document.getElementsByTagName(\"head\")[0].appendChild(s);\n",
       "      });\n",
       "    }\n",
       "\n",
       "    function showError(err) {\n",
       "      outputDiv.innerHTML = `<div class=\"error\" style=\"color:red;\">${err}</div>`;\n",
       "      throw err;\n",
       "    }\n",
       "\n",
       "    function displayChart(vegaEmbed) {\n",
       "      vegaEmbed(outputDiv, spec, embedOpt)\n",
       "        .catch(err => showError(`Javascript Error: ${err.message}<br>This usually means there's a typo in your chart specification. See the javascript console for the full traceback.`));\n",
       "    }\n",
       "\n",
       "    if(typeof define === \"function\" && define.amd) {\n",
       "      requirejs.config({paths});\n",
       "      require([\"vega-embed\"], displayChart, err => showError(`Error loading script: ${err.message}`));\n",
       "    } else if (typeof vegaEmbed === \"function\") {\n",
       "      displayChart(vegaEmbed);\n",
       "    } else {\n",
       "      loadScript(\"vega\")\n",
       "        .then(() => loadScript(\"vega-lite\"))\n",
       "        .then(() => loadScript(\"vega-embed\"))\n",
       "        .catch(showError)\n",
       "        .then(() => displayChart(vegaEmbed));\n",
       "    }\n",
       "  })({\"config\": {\"view\": {\"continuousWidth\": 400, \"continuousHeight\": 300}}, \"data\": {\"url\": \"http://localhost:23778/6dbc009f38d827499c07641a1528fc2c.json\"}, \"mark\": \"bar\", \"encoding\": {\"x\": {\"type\": \"quantitative\", \"bin\": {\"maxbins\": 50}, \"field\": \"LogRatio2\"}, \"y\": {\"type\": \"quantitative\", \"aggregate\": \"count\"}}, \"$schema\": \"https://vega.github.io/schema/vega-lite/v4.0.0.json\"}, {\"actions\": false, \"mode\": \"vega-lite\"});\n",
       "</script>"
      ],
      "text/plain": [
       "alt.Chart(...)"
      ]
     },
     "execution_count": 244,
     "metadata": {},
     "output_type": "execute_result"
    }
   ],
   "source": [
    "alt.Chart(df_ca).mark_bar().encode(\n",
    "    alt.X('LogRatio2', bin=alt.Bin(maxbins=50)),\n",
    "    y='count()',\n",
    ")"
   ]
  },
  {
   "cell_type": "code",
   "execution_count": 366,
   "metadata": {},
   "outputs": [
    {
     "data": {
      "text/plain": [
       "array([101, 102, 103, 104, 105, 121, 122, 123, 124, 125, 126, 127, 128,\n",
       "       129, 141, 142, 161, 162, 163, 164, 165, 166, 167, 168, 171, 182,\n",
       "       184, 185, 201, 202, 203, 221, 222, 224, 225, 226, 241, 261, 262,\n",
       "       263, 264, 265, 266, 267, 268, 269, 270, 271, 281, 301, 304, 305,\n",
       "       321, 341, 361, 362, 363, 365, 366, 367, 368, 369, 371, 381, 383,\n",
       "       384, 385, 391, 401, 402, 403, 404, 405, 406, 407, 409, 501, 502,\n",
       "       503, 504, 505, 506, 507, 508, 509, 510, 511, 512, 513, 514, 515,\n",
       "       516, 517, 519, 520, 601, 602, 605, 606, 607, 608, 609, 701, 702,\n",
       "       703, 704, 705, 706, 707, 708, 709, 722, 801, 802, 805, 809, 901,\n",
       "       902, 903, 904, 905, 911, 912, 921, 922, 923, 924, 931, 933, 934,\n",
       "       935, 941, 942, 943, 961, 962, 971, 972, 973, 974, 975, 976, 982,\n",
       "       983, 989, 991, 992, 995])"
      ]
     },
     "execution_count": 366,
     "metadata": {},
     "output_type": "execute_result"
    }
   ],
   "source": [
    "unique(df.FORTYPCD)"
   ]
  },
  {
   "cell_type": "code",
   "execution_count": 398,
   "metadata": {},
   "outputs": [
    {
     "data": {
      "text/html": [
       "\n",
       "<div id=\"altair-viz-170\"></div>\n",
       "<script type=\"text/javascript\">\n",
       "  (function(spec, embedOpt){\n",
       "    const outputDiv = document.getElementById(\"altair-viz-170\");\n",
       "    const paths = {\n",
       "      \"vega\": \"https://cdn.jsdelivr.net/npm//vega@5?noext\",\n",
       "      \"vega-lib\": \"https://cdn.jsdelivr.net/npm//vega-lib?noext\",\n",
       "      \"vega-lite\": \"https://cdn.jsdelivr.net/npm//vega-lite@4.0.0?noext\",\n",
       "      \"vega-embed\": \"https://cdn.jsdelivr.net/npm//vega-embed@6?noext\",\n",
       "    };\n",
       "\n",
       "    function loadScript(lib) {\n",
       "      return new Promise(function(resolve, reject) {\n",
       "        var s = document.createElement('script');\n",
       "        s.src = paths[lib];\n",
       "        s.async = true;\n",
       "        s.onload = () => resolve(paths[lib]);\n",
       "        s.onerror = () => reject(`Error loading script: ${paths[lib]}`);\n",
       "        document.getElementsByTagName(\"head\")[0].appendChild(s);\n",
       "      });\n",
       "    }\n",
       "\n",
       "    function showError(err) {\n",
       "      outputDiv.innerHTML = `<div class=\"error\" style=\"color:red;\">${err}</div>`;\n",
       "      throw err;\n",
       "    }\n",
       "\n",
       "    function displayChart(vegaEmbed) {\n",
       "      vegaEmbed(outputDiv, spec, embedOpt)\n",
       "        .catch(err => showError(`Javascript Error: ${err.message}<br>This usually means there's a typo in your chart specification. See the javascript console for the full traceback.`));\n",
       "    }\n",
       "\n",
       "    if(typeof define === \"function\" && define.amd) {\n",
       "      requirejs.config({paths});\n",
       "      require([\"vega-embed\"], displayChart, err => showError(`Error loading script: ${err.message}`));\n",
       "    } else if (typeof vegaEmbed === \"function\") {\n",
       "      displayChart(vegaEmbed);\n",
       "    } else {\n",
       "      loadScript(\"vega\")\n",
       "        .then(() => loadScript(\"vega-lite\"))\n",
       "        .then(() => loadScript(\"vega-embed\"))\n",
       "        .catch(showError)\n",
       "        .then(() => displayChart(vegaEmbed));\n",
       "    }\n",
       "  })({\"config\": {\"view\": {\"continuousWidth\": 400, \"continuousHeight\": 300}}, \"data\": {\"url\": \"http://localhost:23778/db20ab79b27aec5b538b3be529412941.json\"}, \"mark\": {\"type\": \"point\", \"clip\": true}, \"encoding\": {\"x\": {\"type\": \"quantitative\", \"field\": \"min_prec_spei2\", \"scale\": {\"domain\": [-4, -0.5]}}, \"y\": {\"type\": \"quantitative\", \"field\": \"LogRatio2\", \"scale\": {\"domain\": [-8, 1]}}}, \"$schema\": \"https://vega.github.io/schema/vega-lite/v4.0.0.json\"}, {\"actions\": false, \"mode\": \"vega-lite\"});\n",
       "</script>"
      ],
      "text/plain": [
       "alt.Chart(...)"
      ]
     },
     "execution_count": 398,
     "metadata": {},
     "output_type": "execute_result"
    }
   ],
   "source": [
    "alt.Chart(df[df.FORTYPCD==185]).mark_point(clip=True).encode(\n",
    "    alt.X('min_prec_spei2', scale=alt.Scale(domain=(-4, -0.5))),\n",
    "    alt.Y('LogRatio2', scale=alt.Scale(domain=(-8, 1)))\n",
    ")"
   ]
  },
  {
   "cell_type": "code",
   "execution_count": 322,
   "metadata": {},
   "outputs": [
    {
     "data": {
      "text/html": [
       "\n",
       "<div id=\"altair-viz-113\"></div>\n",
       "<script type=\"text/javascript\">\n",
       "  (function(spec, embedOpt){\n",
       "    const outputDiv = document.getElementById(\"altair-viz-113\");\n",
       "    const paths = {\n",
       "      \"vega\": \"https://cdn.jsdelivr.net/npm//vega@5?noext\",\n",
       "      \"vega-lib\": \"https://cdn.jsdelivr.net/npm//vega-lib?noext\",\n",
       "      \"vega-lite\": \"https://cdn.jsdelivr.net/npm//vega-lite@4.0.0?noext\",\n",
       "      \"vega-embed\": \"https://cdn.jsdelivr.net/npm//vega-embed@6?noext\",\n",
       "    };\n",
       "\n",
       "    function loadScript(lib) {\n",
       "      return new Promise(function(resolve, reject) {\n",
       "        var s = document.createElement('script');\n",
       "        s.src = paths[lib];\n",
       "        s.async = true;\n",
       "        s.onload = () => resolve(paths[lib]);\n",
       "        s.onerror = () => reject(`Error loading script: ${paths[lib]}`);\n",
       "        document.getElementsByTagName(\"head\")[0].appendChild(s);\n",
       "      });\n",
       "    }\n",
       "\n",
       "    function showError(err) {\n",
       "      outputDiv.innerHTML = `<div class=\"error\" style=\"color:red;\">${err}</div>`;\n",
       "      throw err;\n",
       "    }\n",
       "\n",
       "    function displayChart(vegaEmbed) {\n",
       "      vegaEmbed(outputDiv, spec, embedOpt)\n",
       "        .catch(err => showError(`Javascript Error: ${err.message}<br>This usually means there's a typo in your chart specification. See the javascript console for the full traceback.`));\n",
       "    }\n",
       "\n",
       "    if(typeof define === \"function\" && define.amd) {\n",
       "      requirejs.config({paths});\n",
       "      require([\"vega-embed\"], displayChart, err => showError(`Error loading script: ${err.message}`));\n",
       "    } else if (typeof vegaEmbed === \"function\") {\n",
       "      displayChart(vegaEmbed);\n",
       "    } else {\n",
       "      loadScript(\"vega\")\n",
       "        .then(() => loadScript(\"vega-lite\"))\n",
       "        .then(() => loadScript(\"vega-embed\"))\n",
       "        .catch(showError)\n",
       "        .then(() => displayChart(vegaEmbed));\n",
       "    }\n",
       "  })({\"config\": {\"view\": {\"continuousWidth\": 400, \"continuousHeight\": 300}}, \"data\": {\"url\": \"http://localhost:23778/6d2944c941b8fdf195bf38f11db62619.json\"}, \"mark\": {\"type\": \"point\", \"clip\": true}, \"encoding\": {\"color\": {\"type\": \"quantitative\", \"field\": \"min_prec_spei2\", \"scale\": {\"domain\": [-5, 0]}}, \"x\": {\"type\": \"quantitative\", \"field\": \"BA1(m2/ha)\", \"scale\": {\"domain\": [-5, 150]}}, \"y\": {\"type\": \"quantitative\", \"field\": \"Ratio2\", \"scale\": {\"domain\": [-0.01, 0.7]}}}, \"$schema\": \"https://vega.github.io/schema/vega-lite/v4.0.0.json\"}, {\"actions\": false, \"mode\": \"vega-lite\"});\n",
       "</script>"
      ],
      "text/plain": [
       "alt.Chart(...)"
      ]
     },
     "execution_count": 322,
     "metadata": {},
     "output_type": "execute_result"
    }
   ],
   "source": [
    "alt.Chart(df[df['min_prec_spei2'] < -2]).mark_point(clip=True).encode(\n",
    "    alt.X('BA1(m2/ha)', scale=alt.Scale(domain=(-5, 150))),\n",
    "    alt.Y('Ratio2', scale=alt.Scale(domain=(-0.01, 0.7))),\n",
    "    alt.Color('min_prec_spei2', scale=alt.Scale(domain=(-5,0)))\n",
    ")"
   ]
  },
  {
   "cell_type": "code",
   "execution_count": 314,
   "metadata": {},
   "outputs": [
    {
     "data": {
      "text/html": [
       "\n",
       "<div id=\"altair-viz-110\"></div>\n",
       "<script type=\"text/javascript\">\n",
       "  (function(spec, embedOpt){\n",
       "    const outputDiv = document.getElementById(\"altair-viz-110\");\n",
       "    const paths = {\n",
       "      \"vega\": \"https://cdn.jsdelivr.net/npm//vega@5?noext\",\n",
       "      \"vega-lib\": \"https://cdn.jsdelivr.net/npm//vega-lib?noext\",\n",
       "      \"vega-lite\": \"https://cdn.jsdelivr.net/npm//vega-lite@4.0.0?noext\",\n",
       "      \"vega-embed\": \"https://cdn.jsdelivr.net/npm//vega-embed@6?noext\",\n",
       "    };\n",
       "\n",
       "    function loadScript(lib) {\n",
       "      return new Promise(function(resolve, reject) {\n",
       "        var s = document.createElement('script');\n",
       "        s.src = paths[lib];\n",
       "        s.async = true;\n",
       "        s.onload = () => resolve(paths[lib]);\n",
       "        s.onerror = () => reject(`Error loading script: ${paths[lib]}`);\n",
       "        document.getElementsByTagName(\"head\")[0].appendChild(s);\n",
       "      });\n",
       "    }\n",
       "\n",
       "    function showError(err) {\n",
       "      outputDiv.innerHTML = `<div class=\"error\" style=\"color:red;\">${err}</div>`;\n",
       "      throw err;\n",
       "    }\n",
       "\n",
       "    function displayChart(vegaEmbed) {\n",
       "      vegaEmbed(outputDiv, spec, embedOpt)\n",
       "        .catch(err => showError(`Javascript Error: ${err.message}<br>This usually means there's a typo in your chart specification. See the javascript console for the full traceback.`));\n",
       "    }\n",
       "\n",
       "    if(typeof define === \"function\" && define.amd) {\n",
       "      requirejs.config({paths});\n",
       "      require([\"vega-embed\"], displayChart, err => showError(`Error loading script: ${err.message}`));\n",
       "    } else if (typeof vegaEmbed === \"function\") {\n",
       "      displayChart(vegaEmbed);\n",
       "    } else {\n",
       "      loadScript(\"vega\")\n",
       "        .then(() => loadScript(\"vega-lite\"))\n",
       "        .then(() => loadScript(\"vega-embed\"))\n",
       "        .catch(showError)\n",
       "        .then(() => displayChart(vegaEmbed));\n",
       "    }\n",
       "  })({\"config\": {\"view\": {\"continuousWidth\": 400, \"continuousHeight\": 300}}, \"data\": {\"url\": \"http://localhost:23778/bb5f384092d405455830785c0d96bd2e.json\"}, \"mark\": {\"type\": \"point\", \"clip\": true}, \"encoding\": {\"color\": {\"type\": \"quantitative\", \"field\": \"min_prec_spei2\", \"scale\": {\"domain\": [-5, 0]}}, \"x\": {\"type\": \"quantitative\", \"field\": \"BA1(m2/ha)\", \"scale\": {\"domain\": [-5, 150]}}, \"y\": {\"type\": \"quantitative\", \"field\": \"Ratio2\", \"scale\": {\"domain\": [-0.01, 0.7]}}}, \"$schema\": \"https://vega.github.io/schema/vega-lite/v4.0.0.json\"}, {\"actions\": false, \"mode\": \"vega-lite\"});\n",
       "</script>"
      ],
      "text/plain": [
       "alt.Chart(...)"
      ]
     },
     "execution_count": 314,
     "metadata": {},
     "output_type": "execute_result"
    }
   ],
   "source": [
    "alt.Chart(df[df['min_prec_spei2'] > -2]).mark_point(clip=True).encode(\n",
    "    alt.X('BA1(m2/ha)', scale=alt.Scale(domain=(-5, 150))),\n",
    "    alt.Y('Ratio2', scale=alt.Scale(domain=(-0.01, 0.7))),\n",
    "    alt.Color('min_prec_spei2', scale=alt.Scale(domain=(-5,0)))\n",
    ")"
   ]
  },
  {
   "cell_type": "code",
   "execution_count": 144,
   "metadata": {},
   "outputs": [
    {
     "data": {
      "text/plain": [
       "989"
      ]
     },
     "execution_count": 144,
     "metadata": {},
     "output_type": "execute_result"
    }
   ],
   "source": [
    "isnan(df['BA1(m2/ha)']).sum()"
   ]
  },
  {
   "cell_type": "code",
   "execution_count": 401,
   "metadata": {},
   "outputs": [],
   "source": [
    "x = df['min_prec_spei2'][df.FORTYPCD==185]\n",
    "y = df['LogRatio2'][df.FORTYPCD==185]\n",
    "isnan = (x.isnull() | y.isnull()) | (y < -6)\n",
    "x = x[~isnan]\n",
    "y = y[~isnan]"
   ]
  },
  {
   "cell_type": "code",
   "execution_count": 402,
   "metadata": {},
   "outputs": [
    {
     "data": {
      "text/plain": [
       "array([[ 1.        , -0.11000019],\n",
       "       [-0.11000019,  1.        ]])"
      ]
     },
     "execution_count": 402,
     "metadata": {},
     "output_type": "execute_result"
    }
   ],
   "source": [
    "corrcoef(x, y)"
   ]
  },
  {
   "cell_type": "code",
   "execution_count": 211,
   "metadata": {},
   "outputs": [
    {
     "data": {
      "text/plain": [
       "0.03558993912304001"
      ]
     },
     "execution_count": 211,
     "metadata": {},
     "output_type": "execute_result"
    }
   ],
   "source": [
    "y[x < -2].mean()"
   ]
  },
  {
   "cell_type": "code",
   "execution_count": 210,
   "metadata": {},
   "outputs": [
    {
     "data": {
      "text/plain": [
       "0.035930693024880056"
      ]
     },
     "execution_count": 210,
     "metadata": {},
     "output_type": "execute_result"
    }
   ],
   "source": [
    "y[(x > -2) & (x < -1.8)].mean()"
   ]
  },
  {
   "cell_type": "code",
   "execution_count": 209,
   "metadata": {},
   "outputs": [
    {
     "data": {
      "text/plain": [
       "0.03650251672640147"
      ]
     },
     "execution_count": 209,
     "metadata": {},
     "output_type": "execute_result"
    }
   ],
   "source": [
    "y[(x > -1.8) & (x < -1.5)].mean()"
   ]
  },
  {
   "cell_type": "code",
   "execution_count": 208,
   "metadata": {},
   "outputs": [
    {
     "data": {
      "text/plain": [
       "0.03627066303837359"
      ]
     },
     "execution_count": 208,
     "metadata": {},
     "output_type": "execute_result"
    }
   ],
   "source": [
    "y[(x > -1.5) & (x < -1.2)].mean()"
   ]
  },
  {
   "cell_type": "code",
   "execution_count": 207,
   "metadata": {},
   "outputs": [
    {
     "data": {
      "text/plain": [
       "0.03797455056149046"
      ]
     },
     "execution_count": 207,
     "metadata": {},
     "output_type": "execute_result"
    }
   ],
   "source": [
    "y[((x > -1.2) & (x < 0))].mean()"
   ]
  },
  {
   "cell_type": "code",
   "execution_count": 165,
   "metadata": {},
   "outputs": [
    {
     "data": {
      "image/png": "[encoded data removed]",
      "text/plain": [
       "<Figure size 432x288 with 1 Axes>"
      ]
     },
     "metadata": {
      "needs_background": "light"
     },
     "output_type": "display_data"
    }
   ],
   "source": [
    "plt.hist(log(y[(x > -2) & (x < -1.8)].dropna()), bins=100);"
   ]
  },
  {
   "cell_type": "code",
   "execution_count": 460,
   "metadata": {},
   "outputs": [
    {
     "name": "stderr",
     "output_type": "stream",
     "text": [
      "/usr/local/lib/python3.7/site-packages/ipykernel_launcher.py:2: SettingWithCopyWarning: \n",
      "A value is trying to be set on a copy of a slice from a DataFrame.\n",
      "Try using .loc[row_indexer,col_indexer] = value instead\n",
      "\n",
      "See the caveats in the documentation: http://pandas.pydata.org/pandas-docs/stable/user_guide/indexing.html#returning-a-view-versus-a-copy\n",
      "  \n"
     ]
    }
   ],
   "source": [
    "df_ca = df[df['STATECD']==6]\n",
    "df_ca['R2'] = log(df_ca['BAMort2(m2/ha)'] / df_ca['BA1(m2/ha)'])"
   ]
  },
  {
   "cell_type": "code",
   "execution_count": 425,
   "metadata": {},
   "outputs": [
    {
     "data": {
      "text/plain": [
       "DataTransformerRegistry.enable('data_server')"
      ]
     },
     "execution_count": 425,
     "metadata": {},
     "output_type": "execute_result"
    }
   ],
   "source": [
    "import altair as alt\n",
    "alt.renderers.enable('default', embed_options={'actions': False})\n",
    "alt.data_transformers.enable('data_server')\n",
    "alt.data_transformers.disable_max_rows()"
   ]
  },
  {
   "cell_type": "code",
   "execution_count": 463,
   "metadata": {},
   "outputs": [
    {
     "data": {
      "text/html": [
       "\n",
       "<div id=\"altair-viz-26\"></div>\n",
       "<script type=\"text/javascript\">\n",
       "  (function(spec, embedOpt){\n",
       "    const outputDiv = document.getElementById(\"altair-viz-26\");\n",
       "    const paths = {\n",
       "      \"vega\": \"https://cdn.jsdelivr.net/npm//vega@5?noext\",\n",
       "      \"vega-lib\": \"https://cdn.jsdelivr.net/npm//vega-lib?noext\",\n",
       "      \"vega-lite\": \"https://cdn.jsdelivr.net/npm//vega-lite@4.0.0?noext\",\n",
       "      \"vega-embed\": \"https://cdn.jsdelivr.net/npm//vega-embed@6?noext\",\n",
       "    };\n",
       "\n",
       "    function loadScript(lib) {\n",
       "      return new Promise(function(resolve, reject) {\n",
       "        var s = document.createElement('script');\n",
       "        s.src = paths[lib];\n",
       "        s.async = true;\n",
       "        s.onload = () => resolve(paths[lib]);\n",
       "        s.onerror = () => reject(`Error loading script: ${paths[lib]}`);\n",
       "        document.getElementsByTagName(\"head\")[0].appendChild(s);\n",
       "      });\n",
       "    }\n",
       "\n",
       "    function showError(err) {\n",
       "      outputDiv.innerHTML = `<div class=\"error\" style=\"color:red;\">${err}</div>`;\n",
       "      throw err;\n",
       "    }\n",
       "\n",
       "    function displayChart(vegaEmbed) {\n",
       "      vegaEmbed(outputDiv, spec, embedOpt)\n",
       "        .catch(err => showError(`Javascript Error: ${err.message}<br>This usually means there's a typo in your chart specification. See the javascript console for the full traceback.`));\n",
       "    }\n",
       "\n",
       "    if(typeof define === \"function\" && define.amd) {\n",
       "      requirejs.config({paths});\n",
       "      require([\"vega-embed\"], displayChart, err => showError(`Error loading script: ${err.message}`));\n",
       "    } else if (typeof vegaEmbed === \"function\") {\n",
       "      displayChart(vegaEmbed);\n",
       "    } else {\n",
       "      loadScript(\"vega\")\n",
       "        .then(() => loadScript(\"vega-lite\"))\n",
       "        .then(() => loadScript(\"vega-embed\"))\n",
       "        .catch(showError)\n",
       "        .then(() => displayChart(vegaEmbed));\n",
       "    }\n",
       "  })({\"config\": {\"view\": {\"continuousWidth\": 400, \"continuousHeight\": 300}}, \"data\": {\"url\": \"http://localhost:18901/9a0abca659aca5e9f7bd21bcfbd438ce.json\"}, \"mark\": {\"type\": \"point\", \"clip\": true}, \"encoding\": {\"x\": {\"type\": \"quantitative\", \"field\": \"BA1(m2/ha)\", \"scale\": {\"domain\": [0, 50]}}, \"y\": {\"type\": \"quantitative\", \"field\": \"BAMort2(m2/ha)\", \"scale\": {\"domain\": [0, 50]}}}, \"$schema\": \"https://vega.github.io/schema/vega-lite/v4.0.0.json\"}, {\"actions\": false, \"mode\": \"vega-lite\"});\n",
       "</script>"
      ],
      "text/plain": [
       "alt.Chart(...)"
      ]
     },
     "execution_count": 463,
     "metadata": {},
     "output_type": "execute_result"
    }
   ],
   "source": [
    "alt.Chart(df_ca).mark_point(clip=True).encode(\n",
    "    alt.X('BA1(m2/ha)', scale=alt.Scale(domain=(0, 50))),\n",
    "    alt.Y('BAMort2(m2/ha)', scale=alt.Scale(domain=(0, 50))),\n",
    ")"
   ]
  },
  {
   "cell_type": "code",
   "execution_count": 462,
   "metadata": {},
   "outputs": [
    {
     "data": {
      "text/html": [
       "\n",
       "<div id=\"altair-viz-25\"></div>\n",
       "<script type=\"text/javascript\">\n",
       "  (function(spec, embedOpt){\n",
       "    const outputDiv = document.getElementById(\"altair-viz-25\");\n",
       "    const paths = {\n",
       "      \"vega\": \"https://cdn.jsdelivr.net/npm//vega@5?noext\",\n",
       "      \"vega-lib\": \"https://cdn.jsdelivr.net/npm//vega-lib?noext\",\n",
       "      \"vega-lite\": \"https://cdn.jsdelivr.net/npm//vega-lite@4.0.0?noext\",\n",
       "      \"vega-embed\": \"https://cdn.jsdelivr.net/npm//vega-embed@6?noext\",\n",
       "    };\n",
       "\n",
       "    function loadScript(lib) {\n",
       "      return new Promise(function(resolve, reject) {\n",
       "        var s = document.createElement('script');\n",
       "        s.src = paths[lib];\n",
       "        s.async = true;\n",
       "        s.onload = () => resolve(paths[lib]);\n",
       "        s.onerror = () => reject(`Error loading script: ${paths[lib]}`);\n",
       "        document.getElementsByTagName(\"head\")[0].appendChild(s);\n",
       "      });\n",
       "    }\n",
       "\n",
       "    function showError(err) {\n",
       "      outputDiv.innerHTML = `<div class=\"error\" style=\"color:red;\">${err}</div>`;\n",
       "      throw err;\n",
       "    }\n",
       "\n",
       "    function displayChart(vegaEmbed) {\n",
       "      vegaEmbed(outputDiv, spec, embedOpt)\n",
       "        .catch(err => showError(`Javascript Error: ${err.message}<br>This usually means there's a typo in your chart specification. See the javascript console for the full traceback.`));\n",
       "    }\n",
       "\n",
       "    if(typeof define === \"function\" && define.amd) {\n",
       "      requirejs.config({paths});\n",
       "      require([\"vega-embed\"], displayChart, err => showError(`Error loading script: ${err.message}`));\n",
       "    } else if (typeof vegaEmbed === \"function\") {\n",
       "      displayChart(vegaEmbed);\n",
       "    } else {\n",
       "      loadScript(\"vega\")\n",
       "        .then(() => loadScript(\"vega-lite\"))\n",
       "        .then(() => loadScript(\"vega-embed\"))\n",
       "        .catch(showError)\n",
       "        .then(() => displayChart(vegaEmbed));\n",
       "    }\n",
       "  })({\"config\": {\"view\": {\"continuousWidth\": 400, \"continuousHeight\": 300}}, \"data\": {\"url\": \"http://localhost:18901/9a0abca659aca5e9f7bd21bcfbd438ce.json\"}, \"mark\": {\"type\": \"point\", \"clip\": true}, \"encoding\": {\"x\": {\"type\": \"quantitative\", \"field\": \"min_prec_spei2\", \"scale\": {\"domain\": [-3, 0]}}, \"y\": {\"type\": \"quantitative\", \"field\": \"R2\", \"scale\": {\"domain\": [-6, 3]}}}, \"$schema\": \"https://vega.github.io/schema/vega-lite/v4.0.0.json\"}, {\"actions\": false, \"mode\": \"vega-lite\"});\n",
       "</script>"
      ],
      "text/plain": [
       "alt.Chart(...)"
      ]
     },
     "execution_count": 462,
     "metadata": {},
     "output_type": "execute_result"
    }
   ],
   "source": [
    "alt.Chart(df_ca).mark_point(clip=True).encode(\n",
    "    alt.X('min_prec_spei2', scale=alt.Scale(domain=(-3, 0))),\n",
    "    alt.Y('R2', scale=alt.Scale(domain=(-6, 3))),\n",
    ")"
   ]
  },
  {
   "cell_type": "code",
   "execution_count": 12,
   "metadata": {},
   "outputs": [],
   "source": [
    "import gcsfs\n",
    "import zarr"
   ]
  },
  {
   "cell_type": "code",
   "execution_count": 13,
   "metadata": {},
   "outputs": [],
   "source": [
    "gcs = gcsfs.GCSFileSystem(anon=True)\n",
    "store = gcsfs.GCSMap(root='carbonplan-scratch/terraclimate-fia-cond.zarr', gcs=gcs, check=False)\n",
    "root = zarr.group(store=store)"
   ]
  },
  {
   "cell_type": "code",
   "execution_count": 21,
   "metadata": {},
   "outputs": [],
   "source": [
    "a = asarray(root['PDSI'])"
   ]
  },
  {
   "cell_type": "code",
   "execution_count": 37,
   "metadata": {},
   "outputs": [
    {
     "data": {
      "text/plain": [
       "array([21184., 21215., 21243., 21274., 21304., 21335., 21365., 21396.,\n",
       "       21427., 21457., 21488., 21518., 21549., 21580., 21608., 21639.,\n",
       "       21669., 21700., 21730., 21761., 21792., 21822., 21853., 21883.,\n",
       "       21914., 21945., 21974., 22005., 22035., 22066., 22096., 22127.,\n",
       "       22158., 22188., 22219., 22249., 22280., 22311., 22339., 22370.,\n",
       "       22400., 22431., 22461., 22492., 22523., 22553., 22584., 22614.,\n",
       "       22645., 22676., 22704., 22735., 22765., 22796., 22826., 22857.,\n",
       "       22888., 22918., 22949., 22979., 23010., 23041., 23069., 23100.,\n",
       "       23130., 23161., 23191., 23222., 23253., 23283., 23314., 23344.,\n",
       "       23375., 23406., 23435., 23466., 23496., 23527., 23557., 23588.,\n",
       "       23619., 23649., 23680., 23710., 23741., 23772., 23800., 23831.,\n",
       "       23861., 23892., 23922., 23953., 23984., 24014., 24045., 24075.,\n",
       "       24106., 24137., 24165., 24196., 24226., 24257., 24287., 24318.,\n",
       "       24349., 24379., 24410., 24440., 24471., 24502., 24530., 24561.,\n",
       "       24591., 24622., 24652., 24683., 24714., 24744., 24775., 24805.,\n",
       "       24836., 24867., 24896., 24927., 24957., 24988., 25018., 25049.,\n",
       "       25080., 25110., 25141., 25171., 25202., 25233., 25261., 25292.,\n",
       "       25322., 25353., 25383., 25414., 25445., 25475., 25506., 25536.,\n",
       "       25567., 25598., 25626., 25657., 25687., 25718., 25748., 25779.,\n",
       "       25810., 25840., 25871., 25901., 25932., 25963., 25991., 26022.,\n",
       "       26052., 26083., 26113., 26144., 26175., 26205., 26236., 26266.,\n",
       "       26297., 26328., 26357., 26388., 26418., 26449., 26479., 26510.,\n",
       "       26541., 26571., 26602., 26632., 26663., 26694., 26722., 26753.,\n",
       "       26783., 26814., 26844., 26875., 26906., 26936., 26967., 26997.,\n",
       "       27028., 27059., 27087., 27118., 27148., 27179., 27209., 27240.,\n",
       "       27271., 27301., 27332., 27362., 27393., 27424., 27452., 27483.,\n",
       "       27513., 27544., 27574., 27605., 27636., 27666., 27697., 27727.,\n",
       "       27758., 27789., 27818., 27849., 27879., 27910., 27940., 27971.,\n",
       "       28002., 28032., 28063., 28093., 28124., 28155., 28183., 28214.,\n",
       "       28244., 28275., 28305., 28336., 28367., 28397., 28428., 28458.,\n",
       "       28489., 28520., 28548., 28579., 28609., 28640., 28670., 28701.,\n",
       "       28732., 28762., 28793., 28823., 28854., 28885., 28913., 28944.,\n",
       "       28974., 29005., 29035., 29066., 29097., 29127., 29158., 29188.,\n",
       "       29219., 29250., 29279., 29310., 29340., 29371., 29401., 29432.,\n",
       "       29463., 29493., 29524., 29554., 29585., 29616., 29644., 29675.,\n",
       "       29705., 29736., 29766., 29797., 29828., 29858., 29889., 29919.,\n",
       "       29950., 29981., 30009., 30040., 30070., 30101., 30131., 30162.,\n",
       "       30193., 30223., 30254., 30284., 30315., 30346., 30374., 30405.,\n",
       "       30435., 30466., 30496., 30527., 30558., 30588., 30619., 30649.,\n",
       "       30680., 30711., 30740., 30771., 30801., 30832., 30862., 30893.,\n",
       "       30924., 30954., 30985., 31015., 31046., 31077., 31105., 31136.,\n",
       "       31166., 31197., 31227., 31258., 31289., 31319., 31350., 31380.,\n",
       "       31411., 31442., 31470., 31501., 31531., 31562., 31592., 31623.,\n",
       "       31654., 31684., 31715., 31745., 31776., 31807., 31835., 31866.,\n",
       "       31896., 31927., 31957., 31988., 32019., 32049., 32080., 32110.,\n",
       "       32141., 32172., 32201., 32232., 32262., 32293., 32323., 32354.,\n",
       "       32385., 32415., 32446., 32476., 32507., 32538., 32566., 32597.,\n",
       "       32627., 32658., 32688., 32719., 32750., 32780., 32811., 32841.,\n",
       "       32872., 32903., 32931., 32962., 32992., 33023., 33053., 33084.,\n",
       "       33115., 33145., 33176., 33206., 33237., 33268., 33296., 33327.,\n",
       "       33357., 33388., 33418., 33449., 33480., 33510., 33541., 33571.,\n",
       "       33602., 33633., 33662., 33693., 33723., 33754., 33784., 33815.,\n",
       "       33846., 33876., 33907., 33937., 33968., 33999., 34027., 34058.,\n",
       "       34088., 34119., 34149., 34180., 34211., 34241., 34272., 34302.,\n",
       "       34333., 34364., 34392., 34423., 34453., 34484., 34514., 34545.,\n",
       "       34576., 34606., 34637., 34667., 34698., 34729., 34757., 34788.,\n",
       "       34818., 34849., 34879., 34910., 34941., 34971., 35002., 35032.,\n",
       "       35063., 35094., 35123., 35154., 35184., 35215., 35245., 35276.,\n",
       "       35307., 35337., 35368., 35398., 35429., 35460., 35488., 35519.,\n",
       "       35549., 35580., 35610., 35641., 35672., 35702., 35733., 35763.,\n",
       "       35794., 35825., 35853., 35884., 35914., 35945., 35975., 36006.,\n",
       "       36037., 36067., 36098., 36128., 36159., 36190., 36218., 36249.,\n",
       "       36279., 36310., 36340., 36371., 36402., 36432., 36463., 36493.,\n",
       "       36524., 36555., 36584., 36615., 36645., 36676., 36706., 36737.,\n",
       "       36768., 36798., 36829., 36859., 36890., 36921., 36949., 36980.,\n",
       "       37010., 37041., 37071., 37102., 37133., 37163., 37194., 37224.,\n",
       "       37255., 37286., 37314., 37345., 37375., 37406., 37436., 37467.,\n",
       "       37498., 37528., 37559., 37589., 37620., 37651., 37679., 37710.,\n",
       "       37740., 37771., 37801., 37832., 37863., 37893., 37924., 37954.,\n",
       "       37985., 38016., 38045., 38076., 38106., 38137., 38167., 38198.,\n",
       "       38229., 38259., 38290., 38320., 38351., 38382., 38410., 38441.,\n",
       "       38471., 38502., 38532., 38563., 38594., 38624., 38655., 38685.,\n",
       "       38716., 38747., 38775., 38806., 38836., 38867., 38897., 38928.,\n",
       "       38959., 38989., 39020., 39050., 39081., 39112., 39140., 39171.,\n",
       "       39201., 39232., 39262., 39293., 39324., 39354., 39385., 39415.,\n",
       "       39446., 39477., 39506., 39537., 39567., 39598., 39628., 39659.,\n",
       "       39690., 39720., 39751., 39781., 39812., 39843., 39871., 39902.,\n",
       "       39932., 39963., 39993., 40024., 40055., 40085., 40116., 40146.,\n",
       "       40177., 40208., 40236., 40267., 40297., 40328., 40358., 40389.,\n",
       "       40420., 40450., 40481., 40511., 40542., 40573., 40601., 40632.,\n",
       "       40662., 40693., 40723., 40754., 40785., 40815., 40846., 40876.,\n",
       "       40907., 40938., 40967., 40998., 41028., 41059., 41089., 41120.,\n",
       "       41151., 41181., 41212., 41242., 41273., 41304., 41332., 41363.,\n",
       "       41393., 41424., 41454., 41485., 41516., 41546., 41577., 41607.,\n",
       "       41638., 41669., 41697., 41728., 41758., 41789., 41819., 41850.,\n",
       "       41881., 41911., 41942., 41972., 42003., 42034., 42062., 42093.,\n",
       "       42123., 42154., 42184., 42215., 42246., 42276., 42307., 42337.,\n",
       "       42368., 42399., 42428., 42459., 42489., 42520., 42550., 42581.,\n",
       "       42612., 42642., 42673., 42703., 42734., 42765., 42793., 42824.,\n",
       "       42854., 42885., 42915., 42946., 42977., 43007., 43038., 43068.,\n",
       "       43099., 43130., 43158., 43189., 43219., 43250., 43280., 43311.,\n",
       "       43342., 43372., 43403., 43433., 43464., 43495., 43523., 43554.,\n",
       "       43584., 43615., 43645., 43676., 43707., 43737., 43768., 43798.])"
      ]
     },
     "execution_count": 37,
     "metadata": {},
     "output_type": "execute_result"
    }
   ],
   "source": [
    "asarray(root['time'])"
   ]
  },
  {
   "cell_type": "code",
   "execution_count": 34,
   "metadata": {},
   "outputs": [
    {
     "data": {
      "text/plain": [
       "10000"
      ]
     },
     "execution_count": 34,
     "metadata": {},
     "output_type": "execute_result"
    }
   ],
   "source": [
    "len(asarray(root['lon']))"
   ]
  }
 ],
 "metadata": {
  "kernelspec": {
   "display_name": "Python 3",
   "language": "python",
   "name": "python3"
  },
  "language_info": {
   "codemirror_mode": {
    "name": "ipython",
    "version": 3
   },
   "file_extension": ".py",
   "mimetype": "text/x-python",
   "name": "python",
   "nbconvert_exporter": "python",
   "pygments_lexer": "ipython3",
   "version": "3.7.6"
  }
 },
 "nbformat": 4,
 "nbformat_minor": 2
}
