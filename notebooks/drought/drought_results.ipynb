{
 "cells": [
  {
   "cell_type": "markdown",
   "metadata": {},
   "source": [
    "<img width=\"50\" src=\"https://carbonplan-assets.s3.amazonaws.com/monogram/dark-small.png\" style=\"margin-left:0px;margin-top:20px\"/>\n",
    "\n",
    "# FIA Drought Results\n",
    "\n",
    "_by Jeremy Freeman (CarbonPlan), October 26, 2020_\n",
    "\n",
    "This notebook loads drought results.\n"
   ]
  },
  {
   "cell_type": "code",
   "execution_count": 1,
   "metadata": {},
   "outputs": [],
   "source": [
    "import numpy as np\n",
    "import pandas as pd\n",
    "from carbonplan_forests import setup, plot, load, fit, utils, prepare"
   ]
  },
  {
   "cell_type": "code",
   "execution_count": 2,
   "metadata": {},
   "outputs": [],
   "source": [
    "setup.plotting(remote=False)"
   ]
  },
  {
   "cell_type": "code",
   "execution_count": 3,
   "metadata": {},
   "outputs": [],
   "source": [
    "%load_ext autoreload\n",
    "%autoreload 2"
   ]
  },
  {
   "cell_type": "markdown",
   "metadata": {},
   "source": [
    "Load the results\n"
   ]
  },
  {
   "cell_type": "code",
   "execution_count": 4,
   "metadata": {},
   "outputs": [],
   "source": [
    "pf = pd.read_parquet(\n",
    "    \"/Users/freeman/github/carbonplan/forests/scripts/data/drought.parquet\"\n",
    ")"
   ]
  },
  {
   "cell_type": "markdown",
   "metadata": {},
   "source": [
    "Filter out bad values\n"
   ]
  },
  {
   "cell_type": "code",
   "execution_count": 5,
   "metadata": {},
   "outputs": [],
   "source": [
    "badinds = (pf[\"historical\"] > 1) | (np.isnan(pf[\"historical\"]))\n",
    "for key in pf.columns:\n",
    "    if key not in [\"lat\", \"lon\", \"type_code\", \"r2\"]:\n",
    "        badinds = badinds | ((pf[key] > 1) | (np.isnan(pf[key])))\n",
    "pf = pf[~badinds]"
   ]
  },
  {
   "cell_type": "markdown",
   "metadata": {},
   "source": [
    "Make a map of the historical prediction (from the period used for fitting)\n"
   ]
  },
  {
   "cell_type": "code",
   "execution_count": 6,
   "metadata": {},
   "outputs": [
    {
     "data": {
      "text/plain": [
       "Index(['lat', 'lon', 'type_code', 'historical', 'BCC-CSM2-MR_ssp245_2020',\n",
       "       'BCC-CSM2-MR_ssp370_2020', 'BCC-CSM2-MR_ssp585_2020',\n",
       "       'BCC-CSM2-MR_ssp245_2040', 'BCC-CSM2-MR_ssp370_2040',\n",
       "       'BCC-CSM2-MR_ssp585_2040', 'BCC-CSM2-MR_ssp245_2060',\n",
       "       'BCC-CSM2-MR_ssp370_2060', 'BCC-CSM2-MR_ssp585_2060',\n",
       "       'BCC-CSM2-MR_ssp245_2080', 'BCC-CSM2-MR_ssp370_2080',\n",
       "       'BCC-CSM2-MR_ssp585_2080', 'BCC-CSM2-MR_ssp245_2100',\n",
       "       'BCC-CSM2-MR_ssp370_2100', 'BCC-CSM2-MR_ssp585_2100', 'r2'],\n",
       "      dtype='object')"
      ]
     },
     "execution_count": 6,
     "metadata": {},
     "output_type": "execute_result"
    }
   ],
   "source": [
    "pf.columns"
   ]
  },
  {
   "cell_type": "code",
   "execution_count": 7,
   "metadata": {},
   "outputs": [
    {
     "data": {
      "text/html": [
       "\n",
       "<div id=\"altair-viz-809abdf40e2744d59e8fe96363a5aa3e\"></div>\n",
       "<script type=\"text/javascript\">\n",
       "  (function(spec, embedOpt){\n",
       "    let outputDiv = document.currentScript.previousElementSibling;\n",
       "    if (outputDiv.id !== \"altair-viz-809abdf40e2744d59e8fe96363a5aa3e\") {\n",
       "      outputDiv = document.getElementById(\"altair-viz-809abdf40e2744d59e8fe96363a5aa3e\");\n",
       "    }\n",
       "    const paths = {\n",
       "      \"vega\": \"https://cdn.jsdelivr.net/npm//vega@5?noext\",\n",
       "      \"vega-lib\": \"https://cdn.jsdelivr.net/npm//vega-lib?noext\",\n",
       "      \"vega-lite\": \"https://cdn.jsdelivr.net/npm//vega-lite@4.8.1?noext\",\n",
       "      \"vega-embed\": \"https://cdn.jsdelivr.net/npm//vega-embed@6?noext\",\n",
       "    };\n",
       "\n",
       "    function loadScript(lib) {\n",
       "      return new Promise(function(resolve, reject) {\n",
       "        var s = document.createElement('script');\n",
       "        s.src = paths[lib];\n",
       "        s.async = true;\n",
       "        s.onload = () => resolve(paths[lib]);\n",
       "        s.onerror = () => reject(`Error loading script: ${paths[lib]}`);\n",
       "        document.getElementsByTagName(\"head\")[0].appendChild(s);\n",
       "      });\n",
       "    }\n",
       "\n",
       "    function showError(err) {\n",
       "      outputDiv.innerHTML = `<div class=\"error\" style=\"color:red;\">${err}</div>`;\n",
       "      throw err;\n",
       "    }\n",
       "\n",
       "    function displayChart(vegaEmbed) {\n",
       "      vegaEmbed(outputDiv, spec, embedOpt)\n",
       "        .catch(err => showError(`Javascript Error: ${err.message}<br>This usually means there's a typo in your chart specification. See the javascript console for the full traceback.`));\n",
       "    }\n",
       "\n",
       "    if(typeof define === \"function\" && define.amd) {\n",
       "      requirejs.config({paths});\n",
       "      require([\"vega-embed\"], displayChart, err => showError(`Error loading script: ${err.message}`));\n",
       "    } else if (typeof vegaEmbed === \"function\") {\n",
       "      displayChart(vegaEmbed);\n",
       "    } else {\n",
       "      loadScript(\"vega\")\n",
       "        .then(() => loadScript(\"vega-lite\"))\n",
       "        .then(() => loadScript(\"vega-embed\"))\n",
       "        .catch(showError)\n",
       "        .then(() => displayChart(vegaEmbed));\n",
       "    }\n",
       "  })({\"config\": {\"view\": {\"continuousWidth\": 400, \"continuousHeight\": 300}}, \"layer\": [{\"data\": {\"url\": \"https://vega.github.io/vega-datasets/data/us-10m.json\", \"format\": {\"feature\": \"states\", \"type\": \"topojson\"}}, \"mark\": {\"type\": \"geoshape\", \"fill\": \"white\", \"stroke\": \"black\", \"strokeWidth\": 0.3}, \"height\": 400, \"projection\": {\"type\": \"albersUsa\"}, \"width\": 650}, {\"data\": {\"url\": \"http://localhost:24750/5dd1d7aafd8de19b5fe589fcb534da92.json\"}, \"mark\": {\"type\": \"square\", \"opacity\": 0.8, \"size\": 2}, \"encoding\": {\"color\": {\"type\": \"quantitative\", \"field\": \"color\", \"legend\": {\"title\": \"historical\"}, \"scale\": {\"clamp\": true, \"domain\": [0, 0.3], \"scheme\": \"blues\"}}, \"latitude\": {\"field\": \"lat\", \"type\": \"quantitative\"}, \"longitude\": {\"field\": \"lon\", \"type\": \"quantitative\"}}, \"height\": 400, \"projection\": {\"type\": \"albersUsa\"}, \"width\": 650}], \"$schema\": \"https://vega.github.io/schema/vega-lite/v4.8.1.json\"}, {\"actions\": false, \"mode\": \"vega-lite\"});\n",
       "</script>"
      ],
      "text/plain": [
       "alt.LayerChart(...)"
      ]
     },
     "execution_count": 7,
     "metadata": {},
     "output_type": "execute_result"
    }
   ],
   "source": [
    "plot.carto(\n",
    "    lat=pf[\"lat\"],\n",
    "    lon=pf[\"lon\"],\n",
    "    color=pf[\"historical\"],\n",
    "    cmap=\"blues\",\n",
    "    clim=(0, 0.3),\n",
    "    size=2,\n",
    ")"
   ]
  },
  {
   "cell_type": "markdown",
   "metadata": {},
   "source": [
    "Make a time series of spatially averaged projections\n"
   ]
  },
  {
   "cell_type": "code",
   "execution_count": 8,
   "metadata": {},
   "outputs": [
    {
     "data": {
      "text/html": [
       "\n",
       "<div id=\"altair-viz-b258707c7bdd4737acd60d37f6f13113\"></div>\n",
       "<script type=\"text/javascript\">\n",
       "  (function(spec, embedOpt){\n",
       "    let outputDiv = document.currentScript.previousElementSibling;\n",
       "    if (outputDiv.id !== \"altair-viz-b258707c7bdd4737acd60d37f6f13113\") {\n",
       "      outputDiv = document.getElementById(\"altair-viz-b258707c7bdd4737acd60d37f6f13113\");\n",
       "    }\n",
       "    const paths = {\n",
       "      \"vega\": \"https://cdn.jsdelivr.net/npm//vega@5?noext\",\n",
       "      \"vega-lib\": \"https://cdn.jsdelivr.net/npm//vega-lib?noext\",\n",
       "      \"vega-lite\": \"https://cdn.jsdelivr.net/npm//vega-lite@4.8.1?noext\",\n",
       "      \"vega-embed\": \"https://cdn.jsdelivr.net/npm//vega-embed@6?noext\",\n",
       "    };\n",
       "\n",
       "    function loadScript(lib) {\n",
       "      return new Promise(function(resolve, reject) {\n",
       "        var s = document.createElement('script');\n",
       "        s.src = paths[lib];\n",
       "        s.async = true;\n",
       "        s.onload = () => resolve(paths[lib]);\n",
       "        s.onerror = () => reject(`Error loading script: ${paths[lib]}`);\n",
       "        document.getElementsByTagName(\"head\")[0].appendChild(s);\n",
       "      });\n",
       "    }\n",
       "\n",
       "    function showError(err) {\n",
       "      outputDiv.innerHTML = `<div class=\"error\" style=\"color:red;\">${err}</div>`;\n",
       "      throw err;\n",
       "    }\n",
       "\n",
       "    function displayChart(vegaEmbed) {\n",
       "      vegaEmbed(outputDiv, spec, embedOpt)\n",
       "        .catch(err => showError(`Javascript Error: ${err.message}<br>This usually means there's a typo in your chart specification. See the javascript console for the full traceback.`));\n",
       "    }\n",
       "\n",
       "    if(typeof define === \"function\" && define.amd) {\n",
       "      requirejs.config({paths});\n",
       "      require([\"vega-embed\"], displayChart, err => showError(`Error loading script: ${err.message}`));\n",
       "    } else if (typeof vegaEmbed === \"function\") {\n",
       "      displayChart(vegaEmbed);\n",
       "    } else {\n",
       "      loadScript(\"vega\")\n",
       "        .then(() => loadScript(\"vega-lite\"))\n",
       "        .then(() => loadScript(\"vega-embed\"))\n",
       "        .catch(showError)\n",
       "        .then(() => displayChart(vegaEmbed));\n",
       "    }\n",
       "  })({\"config\": {\"view\": {\"continuousWidth\": 400, \"continuousHeight\": 300}}, \"layer\": [{\"data\": {\"url\": \"http://localhost:24750/e24f40d915d2c821a00f72473fd55b0d.json\"}, \"mark\": {\"type\": \"line\", \"color\": \"rgb(70,112,164)\", \"opacity\": 0.5, \"strokeWidth\": 2}, \"encoding\": {\"x\": {\"type\": \"quantitative\", \"axis\": {\"title\": \"year\"}, \"field\": \"x\"}, \"y\": {\"type\": \"quantitative\", \"axis\": {\"title\": \"fractional mortality\"}, \"field\": \"y\", \"scale\": {\"clamp\": true, \"domain\": [0.06, 0.07]}}}, \"height\": 200, \"width\": 350}, {\"data\": {\"url\": \"http://localhost:24750/ce3c4330257c8d157e1b3411717f59e0.json\"}, \"mark\": {\"type\": \"line\", \"color\": \"rgb(70,112,164)\", \"opacity\": 0.75, \"strokeWidth\": 2}, \"encoding\": {\"x\": {\"type\": \"quantitative\", \"axis\": {\"title\": \"year\"}, \"field\": \"x\"}, \"y\": {\"type\": \"quantitative\", \"axis\": {\"title\": \"fractional mortality\"}, \"field\": \"y\"}}, \"height\": 200, \"width\": 350}, {\"data\": {\"url\": \"http://localhost:24750/5af492f0458e225f317369540fb9d7af.json\"}, \"mark\": {\"type\": \"line\", \"color\": \"rgb(70,112,164)\", \"opacity\": 1, \"strokeWidth\": 2}, \"encoding\": {\"x\": {\"type\": \"quantitative\", \"axis\": {\"title\": \"year\"}, \"field\": \"x\"}, \"y\": {\"type\": \"quantitative\", \"axis\": {\"title\": \"fractional mortality\"}, \"field\": \"y\"}}, \"height\": 200, \"width\": 350}], \"$schema\": \"https://vega.github.io/schema/vega-lite/v4.8.1.json\"}, {\"actions\": false, \"mode\": \"vega-lite\"});\n",
       "</script>"
      ],
      "text/plain": [
       "alt.LayerChart(...)"
      ]
     },
     "execution_count": 8,
     "metadata": {},
     "output_type": "execute_result"
    }
   ],
   "source": [
    "years = np.arange(2020, 2120, 20)\n",
    "y1 = [pf[\"BCC-CSM2-MR_ssp245_\" + str(year)].mean() for year in years]\n",
    "y2 = [pf[\"BCC-CSM2-MR_ssp370_\" + str(year)].mean() for year in years]\n",
    "y3 = [pf[\"BCC-CSM2-MR_ssp585_\" + str(year)].mean() for year in years]\n",
    "opts = {\n",
    "    \"color\": \"rgb(70,112,164)\",\n",
    "    \"ylabel\": \"fractional mortality\",\n",
    "    \"xlabel\": \"year\",\n",
    "}\n",
    "(\n",
    "    plot.line(x=years, y=y1, opacity=0.5, ylim=[0.06, 0.07], **opts)\n",
    "    + plot.line(x=years, y=y2, opacity=0.75, **opts)\n",
    "    + plot.line(x=years, y=y3, opacity=1, **opts)\n",
    ")"
   ]
  }
 ],
 "metadata": {
  "kernelspec": {
   "display_name": "Python 3",
   "language": "python",
   "name": "python3"
  },
  "language_info": {
   "codemirror_mode": {
    "name": "ipython",
    "version": 3
   },
   "file_extension": ".py",
   "mimetype": "text/x-python",
   "name": "python",
   "nbconvert_exporter": "python",
   "pygments_lexer": "ipython3",
   "version": "3.8.5"
  }
 },
 "nbformat": 4,
 "nbformat_minor": 4
}
