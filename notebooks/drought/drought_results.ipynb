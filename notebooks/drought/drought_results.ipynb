{
 "cells": [
  {
   "cell_type": "markdown",
   "metadata": {},
   "source": [
    "<img width=\"50\" src=\"https://carbonplan-assets.s3.amazonaws.com/monogram/dark-small.png\" style=\"margin-left:0px;margin-top:20px\"/>\n",
    "\n",
    "# FIA Drought Results\n",
    "\n",
    "_by Jeremy Freeman (CarbonPlan), October 26, 2020_\n",
    "\n",
    "This notebook loads drought results.\n"
   ]
  },
  {
   "cell_type": "code",
   "execution_count": 27,
   "metadata": {},
   "outputs": [],
   "source": [
    "import numpy as np\n",
    "import pandas as pd\n",
    "from carbonplan_forests import setup, plot, load, fit, utils, prepare"
   ]
  },
  {
   "cell_type": "code",
   "execution_count": 28,
   "metadata": {},
   "outputs": [],
   "source": [
    "setup.plotting(remote=False)"
   ]
  },
  {
   "cell_type": "markdown",
   "metadata": {},
   "source": [
    "Load the results\n"
   ]
  },
  {
   "cell_type": "code",
   "execution_count": 29,
   "metadata": {},
   "outputs": [],
   "source": [
    "pf = pd.read_parquet(\n",
    "    \"/Users/freeman/github/carbonplan/forests/scripts/data/drought.parquet\"\n",
    ")"
   ]
  },
  {
   "cell_type": "markdown",
   "metadata": {},
   "source": [
    "Filter out bad values\n"
   ]
  },
  {
   "cell_type": "code",
   "execution_count": 30,
   "metadata": {},
   "outputs": [],
   "source": [
    "badinds = (pf[\"historical\"] > 1) | (np.isnan(pf[\"historical\"]))\n",
    "for key in pf.columns:\n",
    "    if key not in [\"lat\", \"lon\", \"type_code\", \"r2\"]:\n",
    "        badinds = badinds | ((pf[key] > 1) | (np.isnan(pf[key])))\n",
    "pf = pf[~badinds]"
   ]
  },
  {
   "cell_type": "markdown",
   "metadata": {},
   "source": [
    "Make a map of the historical prediction (from the period used for fitting)\n"
   ]
  },
  {
   "cell_type": "code",
   "execution_count": 39,
   "metadata": {},
   "outputs": [
    {
     "data": {
      "text/html": [
       "\n",
       "<div id=\"altair-viz-108f3459b55c4349a35954160d6ae040\"></div>\n",
       "<script type=\"text/javascript\">\n",
       "  (function(spec, embedOpt){\n",
       "    let outputDiv = document.currentScript.previousElementSibling;\n",
       "    if (outputDiv.id !== \"altair-viz-108f3459b55c4349a35954160d6ae040\") {\n",
       "      outputDiv = document.getElementById(\"altair-viz-108f3459b55c4349a35954160d6ae040\");\n",
       "    }\n",
       "    const paths = {\n",
       "      \"vega\": \"https://cdn.jsdelivr.net/npm//vega@5?noext\",\n",
       "      \"vega-lib\": \"https://cdn.jsdelivr.net/npm//vega-lib?noext\",\n",
       "      \"vega-lite\": \"https://cdn.jsdelivr.net/npm//vega-lite@4.8.1?noext\",\n",
       "      \"vega-embed\": \"https://cdn.jsdelivr.net/npm//vega-embed@6?noext\",\n",
       "    };\n",
       "\n",
       "    function loadScript(lib) {\n",
       "      return new Promise(function(resolve, reject) {\n",
       "        var s = document.createElement('script');\n",
       "        s.src = paths[lib];\n",
       "        s.async = true;\n",
       "        s.onload = () => resolve(paths[lib]);\n",
       "        s.onerror = () => reject(`Error loading script: ${paths[lib]}`);\n",
       "        document.getElementsByTagName(\"head\")[0].appendChild(s);\n",
       "      });\n",
       "    }\n",
       "\n",
       "    function showError(err) {\n",
       "      outputDiv.innerHTML = `<div class=\"error\" style=\"color:red;\">${err}</div>`;\n",
       "      throw err;\n",
       "    }\n",
       "\n",
       "    function displayChart(vegaEmbed) {\n",
       "      vegaEmbed(outputDiv, spec, embedOpt)\n",
       "        .catch(err => showError(`Javascript Error: ${err.message}<br>This usually means there's a typo in your chart specification. See the javascript console for the full traceback.`));\n",
       "    }\n",
       "\n",
       "    if(typeof define === \"function\" && define.amd) {\n",
       "      requirejs.config({paths});\n",
       "      require([\"vega-embed\"], displayChart, err => showError(`Error loading script: ${err.message}`));\n",
       "    } else if (typeof vegaEmbed === \"function\") {\n",
       "      displayChart(vegaEmbed);\n",
       "    } else {\n",
       "      loadScript(\"vega\")\n",
       "        .then(() => loadScript(\"vega-lite\"))\n",
       "        .then(() => loadScript(\"vega-embed\"))\n",
       "        .catch(showError)\n",
       "        .then(() => displayChart(vegaEmbed));\n",
       "    }\n",
       "  })({\"config\": {\"view\": {\"continuousWidth\": 400, \"continuousHeight\": 300}}, \"layer\": [{\"data\": {\"url\": \"https://vega.github.io/vega-datasets/data/us-10m.json\", \"format\": {\"feature\": \"states\", \"type\": \"topojson\"}}, \"mark\": {\"type\": \"geoshape\", \"fill\": \"white\", \"stroke\": \"black\", \"strokeWidth\": 0.3}, \"height\": 400, \"projection\": {\"type\": \"albersUsa\"}, \"width\": 650}, {\"data\": {\"url\": \"http://localhost:22868/a71ee0b57aa735ee5e5d1c33b4226065.json\"}, \"mark\": {\"type\": \"square\", \"opacity\": 0.8, \"size\": 2}, \"encoding\": {\"color\": {\"type\": \"quantitative\", \"field\": \"color\", \"legend\": {\"title\": \"BCC-CSM2-MR_ssp585_2100\"}, \"scale\": {\"clamp\": true, \"domain\": [0, 0.3], \"scheme\": \"blues\"}}, \"latitude\": {\"field\": \"lat\", \"type\": \"quantitative\"}, \"longitude\": {\"field\": \"lon\", \"type\": \"quantitative\"}}, \"height\": 400, \"projection\": {\"type\": \"albersUsa\"}, \"width\": 650}], \"$schema\": \"https://vega.github.io/schema/vega-lite/v4.8.1.json\"}, {\"actions\": false, \"mode\": \"vega-lite\"});\n",
       "</script>"
      ],
      "text/plain": [
       "alt.LayerChart(...)"
      ]
     },
     "execution_count": 39,
     "metadata": {},
     "output_type": "execute_result"
    }
   ],
   "source": [
    "plot.carto(\n",
    "    lat=pf[\"lat\"],\n",
    "    lon=pf[\"lon\"],\n",
    "    color=pf[\"BCC-CSM2-MR_ssp585_2100\"],\n",
    "    cmap=\"blues\",\n",
    "    clim=(0, 0.3),\n",
    "    size=2,\n",
    ")"
   ]
  },
  {
   "cell_type": "markdown",
   "metadata": {},
   "source": [
    "Make a time series of spatially averaged projections\n"
   ]
  },
  {
   "cell_type": "code",
   "execution_count": 33,
   "metadata": {},
   "outputs": [
    {
     "data": {
      "text/html": [
       "\n",
       "<div id=\"altair-viz-0c1b9d47aaec4f84b2875122991ac4a6\"></div>\n",
       "<script type=\"text/javascript\">\n",
       "  (function(spec, embedOpt){\n",
       "    let outputDiv = document.currentScript.previousElementSibling;\n",
       "    if (outputDiv.id !== \"altair-viz-0c1b9d47aaec4f84b2875122991ac4a6\") {\n",
       "      outputDiv = document.getElementById(\"altair-viz-0c1b9d47aaec4f84b2875122991ac4a6\");\n",
       "    }\n",
       "    const paths = {\n",
       "      \"vega\": \"https://cdn.jsdelivr.net/npm//vega@5?noext\",\n",
       "      \"vega-lib\": \"https://cdn.jsdelivr.net/npm//vega-lib?noext\",\n",
       "      \"vega-lite\": \"https://cdn.jsdelivr.net/npm//vega-lite@4.8.1?noext\",\n",
       "      \"vega-embed\": \"https://cdn.jsdelivr.net/npm//vega-embed@6?noext\",\n",
       "    };\n",
       "\n",
       "    function loadScript(lib) {\n",
       "      return new Promise(function(resolve, reject) {\n",
       "        var s = document.createElement('script');\n",
       "        s.src = paths[lib];\n",
       "        s.async = true;\n",
       "        s.onload = () => resolve(paths[lib]);\n",
       "        s.onerror = () => reject(`Error loading script: ${paths[lib]}`);\n",
       "        document.getElementsByTagName(\"head\")[0].appendChild(s);\n",
       "      });\n",
       "    }\n",
       "\n",
       "    function showError(err) {\n",
       "      outputDiv.innerHTML = `<div class=\"error\" style=\"color:red;\">${err}</div>`;\n",
       "      throw err;\n",
       "    }\n",
       "\n",
       "    function displayChart(vegaEmbed) {\n",
       "      vegaEmbed(outputDiv, spec, embedOpt)\n",
       "        .catch(err => showError(`Javascript Error: ${err.message}<br>This usually means there's a typo in your chart specification. See the javascript console for the full traceback.`));\n",
       "    }\n",
       "\n",
       "    if(typeof define === \"function\" && define.amd) {\n",
       "      requirejs.config({paths});\n",
       "      require([\"vega-embed\"], displayChart, err => showError(`Error loading script: ${err.message}`));\n",
       "    } else if (typeof vegaEmbed === \"function\") {\n",
       "      displayChart(vegaEmbed);\n",
       "    } else {\n",
       "      loadScript(\"vega\")\n",
       "        .then(() => loadScript(\"vega-lite\"))\n",
       "        .then(() => loadScript(\"vega-embed\"))\n",
       "        .catch(showError)\n",
       "        .then(() => displayChart(vegaEmbed));\n",
       "    }\n",
       "  })({\"config\": {\"view\": {\"continuousWidth\": 400, \"continuousHeight\": 300}}, \"layer\": [{\"data\": {\"url\": \"http://localhost:22868/acc6f58c96f1e7e1b633795b218b25cd.json\"}, \"mark\": {\"type\": \"line\", \"color\": \"rgb(70,112,164)\", \"opacity\": 0.5, \"strokeWidth\": 2}, \"encoding\": {\"x\": {\"type\": \"quantitative\", \"axis\": {\"title\": \"year\"}, \"field\": \"x\"}, \"y\": {\"type\": \"quantitative\", \"axis\": {\"title\": \"fractional mortality\"}, \"field\": \"y\", \"scale\": {\"clamp\": true, \"domain\": [0.06, 0.07]}}}, \"height\": 200, \"width\": 350}, {\"data\": {\"url\": \"http://localhost:22868/58c7cf4ee2502cd802f8275cf16dc3e5.json\"}, \"mark\": {\"type\": \"line\", \"color\": \"rgb(70,112,164)\", \"opacity\": 0.75, \"strokeWidth\": 2}, \"encoding\": {\"x\": {\"type\": \"quantitative\", \"axis\": {\"title\": \"year\"}, \"field\": \"x\"}, \"y\": {\"type\": \"quantitative\", \"axis\": {\"title\": \"fractional mortality\"}, \"field\": \"y\"}}, \"height\": 200, \"width\": 350}, {\"data\": {\"url\": \"http://localhost:22868/806f5e3ed6f8af1984d456f7ce78d530.json\"}, \"mark\": {\"type\": \"line\", \"color\": \"rgb(70,112,164)\", \"opacity\": 1, \"strokeWidth\": 2}, \"encoding\": {\"x\": {\"type\": \"quantitative\", \"axis\": {\"title\": \"year\"}, \"field\": \"x\"}, \"y\": {\"type\": \"quantitative\", \"axis\": {\"title\": \"fractional mortality\"}, \"field\": \"y\"}}, \"height\": 200, \"width\": 350}], \"$schema\": \"https://vega.github.io/schema/vega-lite/v4.8.1.json\"}, {\"actions\": false, \"mode\": \"vega-lite\"});\n",
       "</script>"
      ],
      "text/plain": [
       "alt.LayerChart(...)"
      ]
     },
     "execution_count": 33,
     "metadata": {},
     "output_type": "execute_result"
    }
   ],
   "source": [
    "years = np.arange(2020, 2120, 20)\n",
    "y1 = [pf[\"BCC-CSM2-MR_ssp245_\" + str(year)].mean() for year in years]\n",
    "y2 = [pf[\"BCC-CSM2-MR_ssp370_\" + str(year)].mean() for year in years]\n",
    "y3 = [pf[\"BCC-CSM2-MR_ssp585_\" + str(year)].mean() for year in years]\n",
    "opts = {\n",
    "    \"color\": \"rgb(70,112,164)\",\n",
    "    \"ylabel\": \"fractional mortality\",\n",
    "    \"xlabel\": \"year\",\n",
    "}\n",
    "(\n",
    "    plot.line(x=years, y=y1, opacity=0.5, ylim=[0.06, 0.07], **opts)\n",
    "    + plot.line(x=years, y=y2, opacity=0.75, **opts)\n",
    "    + plot.line(x=years, y=y3, opacity=1, **opts)\n",
    ")"
   ]
  }
 ],
 "metadata": {
  "kernelspec": {
   "display_name": "Python 3",
   "language": "python",
   "name": "python3"
  },
  "language_info": {
   "codemirror_mode": {
    "name": "ipython",
    "version": 3
   },
   "file_extension": ".py",
   "mimetype": "text/x-python",
   "name": "python",
   "nbconvert_exporter": "python",
   "pygments_lexer": "ipython3",
   "version": "3.8.5"
  }
 },
 "nbformat": 4,
 "nbformat_minor": 4
}
